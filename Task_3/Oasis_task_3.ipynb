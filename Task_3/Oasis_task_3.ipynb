{
 "cells": [
  {
   "cell_type": "markdown",
   "id": "6419ed69",
   "metadata": {},
   "source": [
    "# Oasis_task_3\n",
    "\n",
    "Name : Pooja Singh\n",
    "\n",
    "Domain : Data Science\n",
    "\n",
    "Project : CAR PRICE PREDICTION WITH MACHINE LEARNING"
   ]
  },
  {
   "cell_type": "markdown",
   "id": "21f0743e",
   "metadata": {},
   "source": [
    "### Importing Libraries"
   ]
  },
  {
   "cell_type": "code",
   "execution_count": 95,
   "id": "3b220f71",
   "metadata": {},
   "outputs": [],
   "source": [
    "import numpy as np\n",
    "import pandas as pd\n",
    "import matplotlib.pyplot as plt\n",
    "import seaborn as sns\n",
    "import plotly.express as px\n",
    "import warnings"
   ]
  },
  {
   "cell_type": "code",
   "execution_count": 96,
   "id": "a4d42f4b",
   "metadata": {},
   "outputs": [],
   "source": [
    "warnings.filterwarnings('ignore')"
   ]
  },
  {
   "cell_type": "markdown",
   "id": "9151b5fa",
   "metadata": {},
   "source": [
    "#### Reading Datasets"
   ]
  },
  {
   "cell_type": "code",
   "execution_count": 97,
   "id": "e4c26f57",
   "metadata": {},
   "outputs": [],
   "source": [
    "car_data=pd.read_csv('car data.csv')"
   ]
  },
  {
   "cell_type": "code",
   "execution_count": 98,
   "id": "1341c02d",
   "metadata": {
    "scrolled": true
   },
   "outputs": [
    {
     "data": {
      "text/html": [
       "<div>\n",
       "<style scoped>\n",
       "    .dataframe tbody tr th:only-of-type {\n",
       "        vertical-align: middle;\n",
       "    }\n",
       "\n",
       "    .dataframe tbody tr th {\n",
       "        vertical-align: top;\n",
       "    }\n",
       "\n",
       "    .dataframe thead th {\n",
       "        text-align: right;\n",
       "    }\n",
       "</style>\n",
       "<table border=\"1\" class=\"dataframe\">\n",
       "  <thead>\n",
       "    <tr style=\"text-align: right;\">\n",
       "      <th></th>\n",
       "      <th>Car_Name</th>\n",
       "      <th>Year</th>\n",
       "      <th>Selling_Price</th>\n",
       "      <th>Present_Price</th>\n",
       "      <th>Driven_kms</th>\n",
       "      <th>Fuel_Type</th>\n",
       "      <th>Selling_type</th>\n",
       "      <th>Transmission</th>\n",
       "      <th>Owner</th>\n",
       "    </tr>\n",
       "  </thead>\n",
       "  <tbody>\n",
       "    <tr>\n",
       "      <th>0</th>\n",
       "      <td>ritz</td>\n",
       "      <td>2014</td>\n",
       "      <td>3.35</td>\n",
       "      <td>5.59</td>\n",
       "      <td>27000</td>\n",
       "      <td>Petrol</td>\n",
       "      <td>Dealer</td>\n",
       "      <td>Manual</td>\n",
       "      <td>0</td>\n",
       "    </tr>\n",
       "    <tr>\n",
       "      <th>1</th>\n",
       "      <td>sx4</td>\n",
       "      <td>2013</td>\n",
       "      <td>4.75</td>\n",
       "      <td>9.54</td>\n",
       "      <td>43000</td>\n",
       "      <td>Diesel</td>\n",
       "      <td>Dealer</td>\n",
       "      <td>Manual</td>\n",
       "      <td>0</td>\n",
       "    </tr>\n",
       "    <tr>\n",
       "      <th>2</th>\n",
       "      <td>ciaz</td>\n",
       "      <td>2017</td>\n",
       "      <td>7.25</td>\n",
       "      <td>9.85</td>\n",
       "      <td>6900</td>\n",
       "      <td>Petrol</td>\n",
       "      <td>Dealer</td>\n",
       "      <td>Manual</td>\n",
       "      <td>0</td>\n",
       "    </tr>\n",
       "    <tr>\n",
       "      <th>3</th>\n",
       "      <td>wagon r</td>\n",
       "      <td>2011</td>\n",
       "      <td>2.85</td>\n",
       "      <td>4.15</td>\n",
       "      <td>5200</td>\n",
       "      <td>Petrol</td>\n",
       "      <td>Dealer</td>\n",
       "      <td>Manual</td>\n",
       "      <td>0</td>\n",
       "    </tr>\n",
       "    <tr>\n",
       "      <th>4</th>\n",
       "      <td>swift</td>\n",
       "      <td>2014</td>\n",
       "      <td>4.60</td>\n",
       "      <td>6.87</td>\n",
       "      <td>42450</td>\n",
       "      <td>Diesel</td>\n",
       "      <td>Dealer</td>\n",
       "      <td>Manual</td>\n",
       "      <td>0</td>\n",
       "    </tr>\n",
       "  </tbody>\n",
       "</table>\n",
       "</div>"
      ],
      "text/plain": [
       "  Car_Name  Year  Selling_Price  Present_Price  Driven_kms Fuel_Type  \\\n",
       "0     ritz  2014           3.35           5.59       27000    Petrol   \n",
       "1      sx4  2013           4.75           9.54       43000    Diesel   \n",
       "2     ciaz  2017           7.25           9.85        6900    Petrol   \n",
       "3  wagon r  2011           2.85           4.15        5200    Petrol   \n",
       "4    swift  2014           4.60           6.87       42450    Diesel   \n",
       "\n",
       "  Selling_type Transmission  Owner  \n",
       "0       Dealer       Manual      0  \n",
       "1       Dealer       Manual      0  \n",
       "2       Dealer       Manual      0  \n",
       "3       Dealer       Manual      0  \n",
       "4       Dealer       Manual      0  "
      ]
     },
     "execution_count": 98,
     "metadata": {},
     "output_type": "execute_result"
    }
   ],
   "source": [
    "car_data.head()"
   ]
  },
  {
   "cell_type": "code",
   "execution_count": 99,
   "id": "fdd3aab5",
   "metadata": {},
   "outputs": [
    {
     "data": {
      "text/html": [
       "<div>\n",
       "<style scoped>\n",
       "    .dataframe tbody tr th:only-of-type {\n",
       "        vertical-align: middle;\n",
       "    }\n",
       "\n",
       "    .dataframe tbody tr th {\n",
       "        vertical-align: top;\n",
       "    }\n",
       "\n",
       "    .dataframe thead th {\n",
       "        text-align: right;\n",
       "    }\n",
       "</style>\n",
       "<table border=\"1\" class=\"dataframe\">\n",
       "  <thead>\n",
       "    <tr style=\"text-align: right;\">\n",
       "      <th></th>\n",
       "      <th>Car_Name</th>\n",
       "      <th>Year</th>\n",
       "      <th>Selling_Price</th>\n",
       "      <th>Present_Price</th>\n",
       "      <th>Driven_kms</th>\n",
       "      <th>Fuel_Type</th>\n",
       "      <th>Selling_type</th>\n",
       "      <th>Transmission</th>\n",
       "      <th>Owner</th>\n",
       "    </tr>\n",
       "  </thead>\n",
       "  <tbody>\n",
       "    <tr>\n",
       "      <th>296</th>\n",
       "      <td>city</td>\n",
       "      <td>2016</td>\n",
       "      <td>9.50</td>\n",
       "      <td>11.6</td>\n",
       "      <td>33988</td>\n",
       "      <td>Diesel</td>\n",
       "      <td>Dealer</td>\n",
       "      <td>Manual</td>\n",
       "      <td>0</td>\n",
       "    </tr>\n",
       "    <tr>\n",
       "      <th>297</th>\n",
       "      <td>brio</td>\n",
       "      <td>2015</td>\n",
       "      <td>4.00</td>\n",
       "      <td>5.9</td>\n",
       "      <td>60000</td>\n",
       "      <td>Petrol</td>\n",
       "      <td>Dealer</td>\n",
       "      <td>Manual</td>\n",
       "      <td>0</td>\n",
       "    </tr>\n",
       "    <tr>\n",
       "      <th>298</th>\n",
       "      <td>city</td>\n",
       "      <td>2009</td>\n",
       "      <td>3.35</td>\n",
       "      <td>11.0</td>\n",
       "      <td>87934</td>\n",
       "      <td>Petrol</td>\n",
       "      <td>Dealer</td>\n",
       "      <td>Manual</td>\n",
       "      <td>0</td>\n",
       "    </tr>\n",
       "    <tr>\n",
       "      <th>299</th>\n",
       "      <td>city</td>\n",
       "      <td>2017</td>\n",
       "      <td>11.50</td>\n",
       "      <td>12.5</td>\n",
       "      <td>9000</td>\n",
       "      <td>Diesel</td>\n",
       "      <td>Dealer</td>\n",
       "      <td>Manual</td>\n",
       "      <td>0</td>\n",
       "    </tr>\n",
       "    <tr>\n",
       "      <th>300</th>\n",
       "      <td>brio</td>\n",
       "      <td>2016</td>\n",
       "      <td>5.30</td>\n",
       "      <td>5.9</td>\n",
       "      <td>5464</td>\n",
       "      <td>Petrol</td>\n",
       "      <td>Dealer</td>\n",
       "      <td>Manual</td>\n",
       "      <td>0</td>\n",
       "    </tr>\n",
       "  </tbody>\n",
       "</table>\n",
       "</div>"
      ],
      "text/plain": [
       "    Car_Name  Year  Selling_Price  Present_Price  Driven_kms Fuel_Type  \\\n",
       "296     city  2016           9.50           11.6       33988    Diesel   \n",
       "297     brio  2015           4.00            5.9       60000    Petrol   \n",
       "298     city  2009           3.35           11.0       87934    Petrol   \n",
       "299     city  2017          11.50           12.5        9000    Diesel   \n",
       "300     brio  2016           5.30            5.9        5464    Petrol   \n",
       "\n",
       "    Selling_type Transmission  Owner  \n",
       "296       Dealer       Manual      0  \n",
       "297       Dealer       Manual      0  \n",
       "298       Dealer       Manual      0  \n",
       "299       Dealer       Manual      0  \n",
       "300       Dealer       Manual      0  "
      ]
     },
     "execution_count": 99,
     "metadata": {},
     "output_type": "execute_result"
    }
   ],
   "source": [
    "car_data.tail()"
   ]
  },
  {
   "cell_type": "markdown",
   "id": "3f218e7d",
   "metadata": {},
   "source": [
    "#### Analysing data"
   ]
  },
  {
   "cell_type": "code",
   "execution_count": 100,
   "id": "388023de",
   "metadata": {},
   "outputs": [
    {
     "data": {
      "text/plain": [
       "(301, 9)"
      ]
     },
     "execution_count": 100,
     "metadata": {},
     "output_type": "execute_result"
    }
   ],
   "source": [
    "car_data.shape"
   ]
  },
  {
   "cell_type": "code",
   "execution_count": 101,
   "id": "e7372b7d",
   "metadata": {},
   "outputs": [
    {
     "data": {
      "text/plain": [
       "Index(['Car_Name', 'Year', 'Selling_Price', 'Present_Price', 'Driven_kms',\n",
       "       'Fuel_Type', 'Selling_type', 'Transmission', 'Owner'],\n",
       "      dtype='object')"
      ]
     },
     "execution_count": 101,
     "metadata": {},
     "output_type": "execute_result"
    }
   ],
   "source": [
    "car_data.columns"
   ]
  },
  {
   "cell_type": "code",
   "execution_count": 102,
   "id": "913fd822",
   "metadata": {},
   "outputs": [
    {
     "name": "stdout",
     "output_type": "stream",
     "text": [
      "<class 'pandas.core.frame.DataFrame'>\n",
      "RangeIndex: 301 entries, 0 to 300\n",
      "Data columns (total 9 columns):\n",
      " #   Column         Non-Null Count  Dtype  \n",
      "---  ------         --------------  -----  \n",
      " 0   Car_Name       301 non-null    object \n",
      " 1   Year           301 non-null    int64  \n",
      " 2   Selling_Price  301 non-null    float64\n",
      " 3   Present_Price  301 non-null    float64\n",
      " 4   Driven_kms     301 non-null    int64  \n",
      " 5   Fuel_Type      301 non-null    object \n",
      " 6   Selling_type   301 non-null    object \n",
      " 7   Transmission   301 non-null    object \n",
      " 8   Owner          301 non-null    int64  \n",
      "dtypes: float64(2), int64(3), object(4)\n",
      "memory usage: 21.3+ KB\n"
     ]
    }
   ],
   "source": [
    "car_data.info()"
   ]
  },
  {
   "cell_type": "code",
   "execution_count": 103,
   "id": "b29bff8b",
   "metadata": {},
   "outputs": [
    {
     "data": {
      "text/html": [
       "<div>\n",
       "<style scoped>\n",
       "    .dataframe tbody tr th:only-of-type {\n",
       "        vertical-align: middle;\n",
       "    }\n",
       "\n",
       "    .dataframe tbody tr th {\n",
       "        vertical-align: top;\n",
       "    }\n",
       "\n",
       "    .dataframe thead th {\n",
       "        text-align: right;\n",
       "    }\n",
       "</style>\n",
       "<table border=\"1\" class=\"dataframe\">\n",
       "  <thead>\n",
       "    <tr style=\"text-align: right;\">\n",
       "      <th></th>\n",
       "      <th>Year</th>\n",
       "      <th>Selling_Price</th>\n",
       "      <th>Present_Price</th>\n",
       "      <th>Driven_kms</th>\n",
       "      <th>Owner</th>\n",
       "    </tr>\n",
       "  </thead>\n",
       "  <tbody>\n",
       "    <tr>\n",
       "      <th>count</th>\n",
       "      <td>301.000000</td>\n",
       "      <td>301.000000</td>\n",
       "      <td>301.000000</td>\n",
       "      <td>301.000000</td>\n",
       "      <td>301.000000</td>\n",
       "    </tr>\n",
       "    <tr>\n",
       "      <th>mean</th>\n",
       "      <td>2013.627907</td>\n",
       "      <td>4.661296</td>\n",
       "      <td>7.628472</td>\n",
       "      <td>36947.205980</td>\n",
       "      <td>0.043189</td>\n",
       "    </tr>\n",
       "    <tr>\n",
       "      <th>std</th>\n",
       "      <td>2.891554</td>\n",
       "      <td>5.082812</td>\n",
       "      <td>8.642584</td>\n",
       "      <td>38886.883882</td>\n",
       "      <td>0.247915</td>\n",
       "    </tr>\n",
       "    <tr>\n",
       "      <th>min</th>\n",
       "      <td>2003.000000</td>\n",
       "      <td>0.100000</td>\n",
       "      <td>0.320000</td>\n",
       "      <td>500.000000</td>\n",
       "      <td>0.000000</td>\n",
       "    </tr>\n",
       "    <tr>\n",
       "      <th>25%</th>\n",
       "      <td>2012.000000</td>\n",
       "      <td>0.900000</td>\n",
       "      <td>1.200000</td>\n",
       "      <td>15000.000000</td>\n",
       "      <td>0.000000</td>\n",
       "    </tr>\n",
       "    <tr>\n",
       "      <th>50%</th>\n",
       "      <td>2014.000000</td>\n",
       "      <td>3.600000</td>\n",
       "      <td>6.400000</td>\n",
       "      <td>32000.000000</td>\n",
       "      <td>0.000000</td>\n",
       "    </tr>\n",
       "    <tr>\n",
       "      <th>75%</th>\n",
       "      <td>2016.000000</td>\n",
       "      <td>6.000000</td>\n",
       "      <td>9.900000</td>\n",
       "      <td>48767.000000</td>\n",
       "      <td>0.000000</td>\n",
       "    </tr>\n",
       "    <tr>\n",
       "      <th>max</th>\n",
       "      <td>2018.000000</td>\n",
       "      <td>35.000000</td>\n",
       "      <td>92.600000</td>\n",
       "      <td>500000.000000</td>\n",
       "      <td>3.000000</td>\n",
       "    </tr>\n",
       "  </tbody>\n",
       "</table>\n",
       "</div>"
      ],
      "text/plain": [
       "              Year  Selling_Price  Present_Price     Driven_kms       Owner\n",
       "count   301.000000     301.000000     301.000000     301.000000  301.000000\n",
       "mean   2013.627907       4.661296       7.628472   36947.205980    0.043189\n",
       "std       2.891554       5.082812       8.642584   38886.883882    0.247915\n",
       "min    2003.000000       0.100000       0.320000     500.000000    0.000000\n",
       "25%    2012.000000       0.900000       1.200000   15000.000000    0.000000\n",
       "50%    2014.000000       3.600000       6.400000   32000.000000    0.000000\n",
       "75%    2016.000000       6.000000       9.900000   48767.000000    0.000000\n",
       "max    2018.000000      35.000000      92.600000  500000.000000    3.000000"
      ]
     },
     "execution_count": 103,
     "metadata": {},
     "output_type": "execute_result"
    }
   ],
   "source": [
    "car_data.describe()"
   ]
  },
  {
   "cell_type": "markdown",
   "id": "3b2a8bbb",
   "metadata": {},
   "source": [
    "##### Checking for null values"
   ]
  },
  {
   "cell_type": "code",
   "execution_count": 104,
   "id": "efef2bdd",
   "metadata": {},
   "outputs": [
    {
     "data": {
      "text/plain": [
       "Car_Name         0\n",
       "Year             0\n",
       "Selling_Price    0\n",
       "Present_Price    0\n",
       "Driven_kms       0\n",
       "Fuel_Type        0\n",
       "Selling_type     0\n",
       "Transmission     0\n",
       "Owner            0\n",
       "dtype: int64"
      ]
     },
     "execution_count": 104,
     "metadata": {},
     "output_type": "execute_result"
    }
   ],
   "source": [
    "car_data.isnull().sum()"
   ]
  },
  {
   "cell_type": "markdown",
   "id": "f63f8c3f",
   "metadata": {},
   "source": [
    "##### No null values found."
   ]
  },
  {
   "cell_type": "markdown",
   "id": "e8e8d3d3",
   "metadata": {},
   "source": [
    "##### Checking for duplicate values"
   ]
  },
  {
   "cell_type": "code",
   "execution_count": 105,
   "id": "bf8edab6",
   "metadata": {},
   "outputs": [
    {
     "data": {
      "text/plain": [
       "2"
      ]
     },
     "execution_count": 105,
     "metadata": {},
     "output_type": "execute_result"
    }
   ],
   "source": [
    "car_data.duplicated().sum()"
   ]
  },
  {
   "cell_type": "markdown",
   "id": "06fcb773",
   "metadata": {},
   "source": [
    "##### Droping duplicates"
   ]
  },
  {
   "cell_type": "code",
   "execution_count": 106,
   "id": "d0995b90",
   "metadata": {},
   "outputs": [
    {
     "data": {
      "text/html": [
       "<div>\n",
       "<style scoped>\n",
       "    .dataframe tbody tr th:only-of-type {\n",
       "        vertical-align: middle;\n",
       "    }\n",
       "\n",
       "    .dataframe tbody tr th {\n",
       "        vertical-align: top;\n",
       "    }\n",
       "\n",
       "    .dataframe thead th {\n",
       "        text-align: right;\n",
       "    }\n",
       "</style>\n",
       "<table border=\"1\" class=\"dataframe\">\n",
       "  <thead>\n",
       "    <tr style=\"text-align: right;\">\n",
       "      <th></th>\n",
       "      <th>Car_Name</th>\n",
       "      <th>Year</th>\n",
       "      <th>Selling_Price</th>\n",
       "      <th>Present_Price</th>\n",
       "      <th>Driven_kms</th>\n",
       "      <th>Fuel_Type</th>\n",
       "      <th>Selling_type</th>\n",
       "      <th>Transmission</th>\n",
       "      <th>Owner</th>\n",
       "    </tr>\n",
       "  </thead>\n",
       "  <tbody>\n",
       "    <tr>\n",
       "      <th>0</th>\n",
       "      <td>ritz</td>\n",
       "      <td>2014</td>\n",
       "      <td>3.35</td>\n",
       "      <td>5.59</td>\n",
       "      <td>27000</td>\n",
       "      <td>Petrol</td>\n",
       "      <td>Dealer</td>\n",
       "      <td>Manual</td>\n",
       "      <td>0</td>\n",
       "    </tr>\n",
       "    <tr>\n",
       "      <th>1</th>\n",
       "      <td>sx4</td>\n",
       "      <td>2013</td>\n",
       "      <td>4.75</td>\n",
       "      <td>9.54</td>\n",
       "      <td>43000</td>\n",
       "      <td>Diesel</td>\n",
       "      <td>Dealer</td>\n",
       "      <td>Manual</td>\n",
       "      <td>0</td>\n",
       "    </tr>\n",
       "    <tr>\n",
       "      <th>2</th>\n",
       "      <td>ciaz</td>\n",
       "      <td>2017</td>\n",
       "      <td>7.25</td>\n",
       "      <td>9.85</td>\n",
       "      <td>6900</td>\n",
       "      <td>Petrol</td>\n",
       "      <td>Dealer</td>\n",
       "      <td>Manual</td>\n",
       "      <td>0</td>\n",
       "    </tr>\n",
       "    <tr>\n",
       "      <th>3</th>\n",
       "      <td>wagon r</td>\n",
       "      <td>2011</td>\n",
       "      <td>2.85</td>\n",
       "      <td>4.15</td>\n",
       "      <td>5200</td>\n",
       "      <td>Petrol</td>\n",
       "      <td>Dealer</td>\n",
       "      <td>Manual</td>\n",
       "      <td>0</td>\n",
       "    </tr>\n",
       "    <tr>\n",
       "      <th>4</th>\n",
       "      <td>swift</td>\n",
       "      <td>2014</td>\n",
       "      <td>4.60</td>\n",
       "      <td>6.87</td>\n",
       "      <td>42450</td>\n",
       "      <td>Diesel</td>\n",
       "      <td>Dealer</td>\n",
       "      <td>Manual</td>\n",
       "      <td>0</td>\n",
       "    </tr>\n",
       "    <tr>\n",
       "      <th>...</th>\n",
       "      <td>...</td>\n",
       "      <td>...</td>\n",
       "      <td>...</td>\n",
       "      <td>...</td>\n",
       "      <td>...</td>\n",
       "      <td>...</td>\n",
       "      <td>...</td>\n",
       "      <td>...</td>\n",
       "      <td>...</td>\n",
       "    </tr>\n",
       "    <tr>\n",
       "      <th>296</th>\n",
       "      <td>city</td>\n",
       "      <td>2016</td>\n",
       "      <td>9.50</td>\n",
       "      <td>11.60</td>\n",
       "      <td>33988</td>\n",
       "      <td>Diesel</td>\n",
       "      <td>Dealer</td>\n",
       "      <td>Manual</td>\n",
       "      <td>0</td>\n",
       "    </tr>\n",
       "    <tr>\n",
       "      <th>297</th>\n",
       "      <td>brio</td>\n",
       "      <td>2015</td>\n",
       "      <td>4.00</td>\n",
       "      <td>5.90</td>\n",
       "      <td>60000</td>\n",
       "      <td>Petrol</td>\n",
       "      <td>Dealer</td>\n",
       "      <td>Manual</td>\n",
       "      <td>0</td>\n",
       "    </tr>\n",
       "    <tr>\n",
       "      <th>298</th>\n",
       "      <td>city</td>\n",
       "      <td>2009</td>\n",
       "      <td>3.35</td>\n",
       "      <td>11.00</td>\n",
       "      <td>87934</td>\n",
       "      <td>Petrol</td>\n",
       "      <td>Dealer</td>\n",
       "      <td>Manual</td>\n",
       "      <td>0</td>\n",
       "    </tr>\n",
       "    <tr>\n",
       "      <th>299</th>\n",
       "      <td>city</td>\n",
       "      <td>2017</td>\n",
       "      <td>11.50</td>\n",
       "      <td>12.50</td>\n",
       "      <td>9000</td>\n",
       "      <td>Diesel</td>\n",
       "      <td>Dealer</td>\n",
       "      <td>Manual</td>\n",
       "      <td>0</td>\n",
       "    </tr>\n",
       "    <tr>\n",
       "      <th>300</th>\n",
       "      <td>brio</td>\n",
       "      <td>2016</td>\n",
       "      <td>5.30</td>\n",
       "      <td>5.90</td>\n",
       "      <td>5464</td>\n",
       "      <td>Petrol</td>\n",
       "      <td>Dealer</td>\n",
       "      <td>Manual</td>\n",
       "      <td>0</td>\n",
       "    </tr>\n",
       "  </tbody>\n",
       "</table>\n",
       "<p>299 rows × 9 columns</p>\n",
       "</div>"
      ],
      "text/plain": [
       "    Car_Name  Year  Selling_Price  Present_Price  Driven_kms Fuel_Type  \\\n",
       "0       ritz  2014           3.35           5.59       27000    Petrol   \n",
       "1        sx4  2013           4.75           9.54       43000    Diesel   \n",
       "2       ciaz  2017           7.25           9.85        6900    Petrol   \n",
       "3    wagon r  2011           2.85           4.15        5200    Petrol   \n",
       "4      swift  2014           4.60           6.87       42450    Diesel   \n",
       "..       ...   ...            ...            ...         ...       ...   \n",
       "296     city  2016           9.50          11.60       33988    Diesel   \n",
       "297     brio  2015           4.00           5.90       60000    Petrol   \n",
       "298     city  2009           3.35          11.00       87934    Petrol   \n",
       "299     city  2017          11.50          12.50        9000    Diesel   \n",
       "300     brio  2016           5.30           5.90        5464    Petrol   \n",
       "\n",
       "    Selling_type Transmission  Owner  \n",
       "0         Dealer       Manual      0  \n",
       "1         Dealer       Manual      0  \n",
       "2         Dealer       Manual      0  \n",
       "3         Dealer       Manual      0  \n",
       "4         Dealer       Manual      0  \n",
       "..           ...          ...    ...  \n",
       "296       Dealer       Manual      0  \n",
       "297       Dealer       Manual      0  \n",
       "298       Dealer       Manual      0  \n",
       "299       Dealer       Manual      0  \n",
       "300       Dealer       Manual      0  \n",
       "\n",
       "[299 rows x 9 columns]"
      ]
     },
     "execution_count": 106,
     "metadata": {},
     "output_type": "execute_result"
    }
   ],
   "source": [
    "car_data.drop_duplicates()"
   ]
  },
  {
   "cell_type": "markdown",
   "id": "abf95cab",
   "metadata": {},
   "source": [
    "##### Checking correlation"
   ]
  },
  {
   "cell_type": "code",
   "execution_count": 107,
   "id": "00ad988e",
   "metadata": {},
   "outputs": [
    {
     "data": {
      "text/html": [
       "<div>\n",
       "<style scoped>\n",
       "    .dataframe tbody tr th:only-of-type {\n",
       "        vertical-align: middle;\n",
       "    }\n",
       "\n",
       "    .dataframe tbody tr th {\n",
       "        vertical-align: top;\n",
       "    }\n",
       "\n",
       "    .dataframe thead th {\n",
       "        text-align: right;\n",
       "    }\n",
       "</style>\n",
       "<table border=\"1\" class=\"dataframe\">\n",
       "  <thead>\n",
       "    <tr style=\"text-align: right;\">\n",
       "      <th></th>\n",
       "      <th>Year</th>\n",
       "      <th>Selling_Price</th>\n",
       "      <th>Present_Price</th>\n",
       "      <th>Driven_kms</th>\n",
       "    </tr>\n",
       "  </thead>\n",
       "  <tbody>\n",
       "    <tr>\n",
       "      <th>Year</th>\n",
       "      <td>1.000000</td>\n",
       "      <td>0.236141</td>\n",
       "      <td>-0.047192</td>\n",
       "      <td>-0.524342</td>\n",
       "    </tr>\n",
       "    <tr>\n",
       "      <th>Selling_Price</th>\n",
       "      <td>0.236141</td>\n",
       "      <td>1.000000</td>\n",
       "      <td>0.878914</td>\n",
       "      <td>0.029187</td>\n",
       "    </tr>\n",
       "    <tr>\n",
       "      <th>Present_Price</th>\n",
       "      <td>-0.047192</td>\n",
       "      <td>0.878914</td>\n",
       "      <td>1.000000</td>\n",
       "      <td>0.203618</td>\n",
       "    </tr>\n",
       "    <tr>\n",
       "      <th>Driven_kms</th>\n",
       "      <td>-0.524342</td>\n",
       "      <td>0.029187</td>\n",
       "      <td>0.203618</td>\n",
       "      <td>1.000000</td>\n",
       "    </tr>\n",
       "  </tbody>\n",
       "</table>\n",
       "</div>"
      ],
      "text/plain": [
       "                   Year  Selling_Price  Present_Price  Driven_kms\n",
       "Year           1.000000       0.236141      -0.047192   -0.524342\n",
       "Selling_Price  0.236141       1.000000       0.878914    0.029187\n",
       "Present_Price -0.047192       0.878914       1.000000    0.203618\n",
       "Driven_kms    -0.524342       0.029187       0.203618    1.000000"
      ]
     },
     "execution_count": 107,
     "metadata": {},
     "output_type": "execute_result"
    }
   ],
   "source": [
    "car_data[['Year','Selling_Price','Present_Price','Driven_kms']].corr()"
   ]
  },
  {
   "cell_type": "markdown",
   "id": "dd3dfab5",
   "metadata": {},
   "source": [
    "##### Checking for unique car brands"
   ]
  },
  {
   "cell_type": "code",
   "execution_count": 108,
   "id": "21b91c7e",
   "metadata": {},
   "outputs": [
    {
     "data": {
      "text/plain": [
       "array(['ritz', 'sx4', 'ciaz', 'wagon r', 'swift', 'vitara brezza',\n",
       "       's cross', 'alto 800', 'ertiga', 'dzire', 'alto k10', 'ignis',\n",
       "       '800', 'baleno', 'omni', 'fortuner', 'innova', 'corolla altis',\n",
       "       'etios cross', 'etios g', 'etios liva', 'corolla', 'etios gd',\n",
       "       'camry', 'land cruiser', 'Royal Enfield Thunder 500',\n",
       "       'UM Renegade Mojave', 'KTM RC200', 'Bajaj Dominar 400',\n",
       "       'Royal Enfield Classic 350', 'KTM RC390', 'Hyosung GT250R',\n",
       "       'Royal Enfield Thunder 350', 'KTM 390 Duke ',\n",
       "       'Mahindra Mojo XT300', 'Bajaj Pulsar RS200',\n",
       "       'Royal Enfield Bullet 350', 'Royal Enfield Classic 500',\n",
       "       'Bajaj Avenger 220', 'Bajaj Avenger 150', 'Honda CB Hornet 160R',\n",
       "       'Yamaha FZ S V 2.0', 'Yamaha FZ 16', 'TVS Apache RTR 160',\n",
       "       'Bajaj Pulsar 150', 'Honda CBR 150', 'Hero Extreme',\n",
       "       'Bajaj Avenger 220 dtsi', 'Bajaj Avenger 150 street',\n",
       "       'Yamaha FZ  v 2.0', 'Bajaj Pulsar  NS 200', 'Bajaj Pulsar 220 F',\n",
       "       'TVS Apache RTR 180', 'Hero Passion X pro', 'Bajaj Pulsar NS 200',\n",
       "       'Yamaha Fazer ', 'Honda Activa 4G', 'TVS Sport ',\n",
       "       'Honda Dream Yuga ', 'Bajaj Avenger Street 220',\n",
       "       'Hero Splender iSmart', 'Activa 3g', 'Hero Passion Pro',\n",
       "       'Honda CB Trigger', 'Yamaha FZ S ', 'Bajaj Pulsar 135 LS',\n",
       "       'Activa 4g', 'Honda CB Unicorn', 'Hero Honda CBZ extreme',\n",
       "       'Honda Karizma', 'Honda Activa 125', 'TVS Jupyter',\n",
       "       'Hero Honda Passion Pro', 'Hero Splender Plus', 'Honda CB Shine',\n",
       "       'Bajaj Discover 100', 'Suzuki Access 125', 'TVS Wego',\n",
       "       'Honda CB twister', 'Hero Glamour', 'Hero Super Splendor',\n",
       "       'Bajaj Discover 125', 'Hero Hunk', 'Hero  Ignitor Disc',\n",
       "       'Hero  CBZ Xtreme', 'Bajaj  ct 100', 'i20', 'grand i10', 'i10',\n",
       "       'eon', 'xcent', 'elantra', 'creta', 'verna', 'city', 'brio',\n",
       "       'amaze', 'jazz'], dtype=object)"
      ]
     },
     "execution_count": 108,
     "metadata": {},
     "output_type": "execute_result"
    }
   ],
   "source": [
    "car_data['Car_Name'].unique()"
   ]
  },
  {
   "cell_type": "code",
   "execution_count": 109,
   "id": "d39926a7",
   "metadata": {},
   "outputs": [
    {
     "data": {
      "text/plain": [
       "98"
      ]
     },
     "execution_count": 109,
     "metadata": {},
     "output_type": "execute_result"
    }
   ],
   "source": [
    "car_data['Car_Name'].nunique()"
   ]
  },
  {
   "cell_type": "markdown",
   "id": "af8ae51e",
   "metadata": {},
   "source": [
    "##### Finding car with highest and lowest price"
   ]
  },
  {
   "cell_type": "code",
   "execution_count": 110,
   "id": "be44ab3f",
   "metadata": {},
   "outputs": [
    {
     "data": {
      "text/html": [
       "<div>\n",
       "<style scoped>\n",
       "    .dataframe tbody tr th:only-of-type {\n",
       "        vertical-align: middle;\n",
       "    }\n",
       "\n",
       "    .dataframe tbody tr th {\n",
       "        vertical-align: top;\n",
       "    }\n",
       "\n",
       "    .dataframe thead th {\n",
       "        text-align: right;\n",
       "    }\n",
       "</style>\n",
       "<table border=\"1\" class=\"dataframe\">\n",
       "  <thead>\n",
       "    <tr style=\"text-align: right;\">\n",
       "      <th></th>\n",
       "      <th>Car_Name</th>\n",
       "      <th>Year</th>\n",
       "      <th>Selling_Price</th>\n",
       "      <th>Present_Price</th>\n",
       "      <th>Driven_kms</th>\n",
       "      <th>Fuel_Type</th>\n",
       "      <th>Selling_type</th>\n",
       "      <th>Transmission</th>\n",
       "      <th>Owner</th>\n",
       "    </tr>\n",
       "  </thead>\n",
       "  <tbody>\n",
       "    <tr>\n",
       "      <th>86</th>\n",
       "      <td>land cruiser</td>\n",
       "      <td>2010</td>\n",
       "      <td>35.0</td>\n",
       "      <td>92.6</td>\n",
       "      <td>78000</td>\n",
       "      <td>Diesel</td>\n",
       "      <td>Dealer</td>\n",
       "      <td>Manual</td>\n",
       "      <td>0</td>\n",
       "    </tr>\n",
       "  </tbody>\n",
       "</table>\n",
       "</div>"
      ],
      "text/plain": [
       "        Car_Name  Year  Selling_Price  Present_Price  Driven_kms Fuel_Type  \\\n",
       "86  land cruiser  2010           35.0           92.6       78000    Diesel   \n",
       "\n",
       "   Selling_type Transmission  Owner  \n",
       "86       Dealer       Manual      0  "
      ]
     },
     "execution_count": 110,
     "metadata": {},
     "output_type": "execute_result"
    }
   ],
   "source": [
    "car_data.nlargest(1,'Selling_Price')"
   ]
  },
  {
   "cell_type": "code",
   "execution_count": 111,
   "id": "9bcb9858",
   "metadata": {},
   "outputs": [
    {
     "data": {
      "text/html": [
       "<div>\n",
       "<style scoped>\n",
       "    .dataframe tbody tr th:only-of-type {\n",
       "        vertical-align: middle;\n",
       "    }\n",
       "\n",
       "    .dataframe tbody tr th {\n",
       "        vertical-align: top;\n",
       "    }\n",
       "\n",
       "    .dataframe thead th {\n",
       "        text-align: right;\n",
       "    }\n",
       "</style>\n",
       "<table border=\"1\" class=\"dataframe\">\n",
       "  <thead>\n",
       "    <tr style=\"text-align: right;\">\n",
       "      <th></th>\n",
       "      <th>Car_Name</th>\n",
       "      <th>Year</th>\n",
       "      <th>Selling_Price</th>\n",
       "      <th>Present_Price</th>\n",
       "      <th>Driven_kms</th>\n",
       "      <th>Fuel_Type</th>\n",
       "      <th>Selling_type</th>\n",
       "      <th>Transmission</th>\n",
       "      <th>Owner</th>\n",
       "    </tr>\n",
       "  </thead>\n",
       "  <tbody>\n",
       "    <tr>\n",
       "      <th>200</th>\n",
       "      <td>Bajaj Pulsar 150</td>\n",
       "      <td>2006</td>\n",
       "      <td>0.1</td>\n",
       "      <td>0.75</td>\n",
       "      <td>92233</td>\n",
       "      <td>Petrol</td>\n",
       "      <td>Individual</td>\n",
       "      <td>Manual</td>\n",
       "      <td>0</td>\n",
       "    </tr>\n",
       "  </tbody>\n",
       "</table>\n",
       "</div>"
      ],
      "text/plain": [
       "             Car_Name  Year  Selling_Price  Present_Price  Driven_kms  \\\n",
       "200  Bajaj Pulsar 150  2006            0.1           0.75       92233   \n",
       "\n",
       "    Fuel_Type Selling_type Transmission  Owner  \n",
       "200    Petrol   Individual       Manual      0  "
      ]
     },
     "execution_count": 111,
     "metadata": {},
     "output_type": "execute_result"
    }
   ],
   "source": [
    "car_data.nsmallest(1,'Selling_Price')"
   ]
  },
  {
   "cell_type": "markdown",
   "id": "2ee69786",
   "metadata": {},
   "source": [
    "##### Finding average selling price, present price and driven_kms of a car "
   ]
  },
  {
   "cell_type": "code",
   "execution_count": 112,
   "id": "ebd98443",
   "metadata": {},
   "outputs": [
    {
     "data": {
      "text/plain": [
       "Selling_Price        4.661296\n",
       "Present_Price        7.628472\n",
       "Driven_kms       36947.205980\n",
       "dtype: float64"
      ]
     },
     "execution_count": 112,
     "metadata": {},
     "output_type": "execute_result"
    }
   ],
   "source": [
    "car_data[['Selling_Price','Present_Price','Driven_kms']].mean()"
   ]
  },
  {
   "cell_type": "markdown",
   "id": "69da78cc",
   "metadata": {},
   "source": [
    "##### Finding average selling price, present price and driven_kms of a car¶ based on fuel"
   ]
  },
  {
   "cell_type": "code",
   "execution_count": 113,
   "id": "5ac8b8b0",
   "metadata": {},
   "outputs": [
    {
     "data": {
      "text/html": [
       "<div>\n",
       "<style scoped>\n",
       "    .dataframe tbody tr th:only-of-type {\n",
       "        vertical-align: middle;\n",
       "    }\n",
       "\n",
       "    .dataframe tbody tr th {\n",
       "        vertical-align: top;\n",
       "    }\n",
       "\n",
       "    .dataframe thead th {\n",
       "        text-align: right;\n",
       "    }\n",
       "</style>\n",
       "<table border=\"1\" class=\"dataframe\">\n",
       "  <thead>\n",
       "    <tr style=\"text-align: right;\">\n",
       "      <th></th>\n",
       "      <th>Selling_Price</th>\n",
       "      <th>Present_Price</th>\n",
       "      <th>Driven_kms</th>\n",
       "    </tr>\n",
       "    <tr>\n",
       "      <th>Fuel_Type</th>\n",
       "      <th></th>\n",
       "      <th></th>\n",
       "      <th></th>\n",
       "    </tr>\n",
       "  </thead>\n",
       "  <tbody>\n",
       "    <tr>\n",
       "      <th>CNG</th>\n",
       "      <td>3.100000</td>\n",
       "      <td>6.415000</td>\n",
       "      <td>42749.000000</td>\n",
       "    </tr>\n",
       "    <tr>\n",
       "      <th>Diesel</th>\n",
       "      <td>10.278500</td>\n",
       "      <td>15.814500</td>\n",
       "      <td>50369.916667</td>\n",
       "    </tr>\n",
       "    <tr>\n",
       "      <th>Petrol</th>\n",
       "      <td>3.264184</td>\n",
       "      <td>5.583556</td>\n",
       "      <td>33528.937238</td>\n",
       "    </tr>\n",
       "  </tbody>\n",
       "</table>\n",
       "</div>"
      ],
      "text/plain": [
       "           Selling_Price  Present_Price    Driven_kms\n",
       "Fuel_Type                                            \n",
       "CNG             3.100000       6.415000  42749.000000\n",
       "Diesel         10.278500      15.814500  50369.916667\n",
       "Petrol          3.264184       5.583556  33528.937238"
      ]
     },
     "execution_count": 113,
     "metadata": {},
     "output_type": "execute_result"
    }
   ],
   "source": [
    "car_data[['Selling_Price','Present_Price','Driven_kms','Fuel_Type']].groupby(['Fuel_Type']).mean()"
   ]
  },
  {
   "cell_type": "markdown",
   "id": "8ee0ea95",
   "metadata": {},
   "source": [
    "### Analysing with the help of plots"
   ]
  },
  {
   "cell_type": "markdown",
   "id": "4fa3f443",
   "metadata": {},
   "source": [
    "##### Relation of attributes"
   ]
  },
  {
   "cell_type": "code",
   "execution_count": 114,
   "id": "101b8d6f",
   "metadata": {},
   "outputs": [
    {
     "data": {
      "text/plain": [
       "<seaborn.axisgrid.PairGrid at 0x1e7aa6f7590>"
      ]
     },
     "execution_count": 114,
     "metadata": {},
     "output_type": "execute_result"
    },
    {
     "data": {
      "image/png": "[encoded data removed]",
      "text/plain": [
       "<Figure size 1342.62x1250 with 30 Axes>"
      ]
     },
     "metadata": {},
     "output_type": "display_data"
    }
   ],
   "source": [
    "sns.pairplot(data=car_data,hue='Fuel_Type')"
   ]
  },
  {
   "cell_type": "markdown",
   "id": "0f1cf911",
   "metadata": {},
   "source": [
    "##### Correlation of attributes"
   ]
  },
  {
   "cell_type": "code",
   "execution_count": 115,
   "id": "ef857601",
   "metadata": {},
   "outputs": [],
   "source": [
    "cor=car_data[['Year','Selling_Price','Present_Price','Driven_kms']].corr()"
   ]
  },
  {
   "cell_type": "code",
   "execution_count": 116,
   "id": "e31177a0",
   "metadata": {},
   "outputs": [
    {
     "data": {
      "text/plain": [
       "<Axes: >"
      ]
     },
     "execution_count": 116,
     "metadata": {},
     "output_type": "execute_result"
    },
    {
     "data": {
      "image/png": "[encoded data removed]",
      "text/plain": [
       "<Figure size 1000x400 with 2 Axes>"
      ]
     },
     "metadata": {},
     "output_type": "display_data"
    }
   ],
   "source": [
    "plt.figure(figsize=(10,4))\n",
    "sns.heatmap(data=cor,annot=True,cmap='magma')"
   ]
  },
  {
   "cell_type": "code",
   "execution_count": 117,
   "id": "22174dea",
   "metadata": {},
   "outputs": [
    {
     "data": {
      "text/html": [
       "<div>\n",
       "<style scoped>\n",
       "    .dataframe tbody tr th:only-of-type {\n",
       "        vertical-align: middle;\n",
       "    }\n",
       "\n",
       "    .dataframe tbody tr th {\n",
       "        vertical-align: top;\n",
       "    }\n",
       "\n",
       "    .dataframe thead th {\n",
       "        text-align: right;\n",
       "    }\n",
       "</style>\n",
       "<table border=\"1\" class=\"dataframe\">\n",
       "  <thead>\n",
       "    <tr style=\"text-align: right;\">\n",
       "      <th></th>\n",
       "      <th>Car_Name</th>\n",
       "      <th>Year</th>\n",
       "      <th>Selling_Price</th>\n",
       "      <th>Present_Price</th>\n",
       "      <th>Driven_kms</th>\n",
       "      <th>Fuel_Type</th>\n",
       "      <th>Selling_type</th>\n",
       "      <th>Transmission</th>\n",
       "      <th>Owner</th>\n",
       "    </tr>\n",
       "  </thead>\n",
       "  <tbody>\n",
       "    <tr>\n",
       "      <th>0</th>\n",
       "      <td>ritz</td>\n",
       "      <td>2014</td>\n",
       "      <td>3.35</td>\n",
       "      <td>5.59</td>\n",
       "      <td>27000</td>\n",
       "      <td>Petrol</td>\n",
       "      <td>Dealer</td>\n",
       "      <td>Manual</td>\n",
       "      <td>0</td>\n",
       "    </tr>\n",
       "  </tbody>\n",
       "</table>\n",
       "</div>"
      ],
      "text/plain": [
       "  Car_Name  Year  Selling_Price  Present_Price  Driven_kms Fuel_Type  \\\n",
       "0     ritz  2014           3.35           5.59       27000    Petrol   \n",
       "\n",
       "  Selling_type Transmission  Owner  \n",
       "0       Dealer       Manual      0  "
      ]
     },
     "execution_count": 117,
     "metadata": {},
     "output_type": "execute_result"
    }
   ],
   "source": [
    "car_data.head(1)"
   ]
  },
  {
   "cell_type": "markdown",
   "id": "2a9bc478",
   "metadata": {},
   "source": [
    "##### Average Selling_price based on fuel"
   ]
  },
  {
   "cell_type": "code",
   "execution_count": 118,
   "id": "a02047ef",
   "metadata": {},
   "outputs": [],
   "source": [
    "mean_data=car_data[['Selling_Price','Fuel_Type']].groupby(['Fuel_Type']).mean().reset_index()"
   ]
  },
  {
   "cell_type": "code",
   "execution_count": 119,
   "id": "70e36670",
   "metadata": {},
   "outputs": [
    {
     "data": {
      "application/vnd.plotly.v1+json": {
       "config": {
        "plotlyServerURL": "https://plot.ly"
       },
       "data": [
        {
         "alignmentgroup": "True",
         "hovertemplate": "Fuel_Type=%{x}<br>Selling_Price=%{y}<extra></extra>",
         "legendgroup": "CNG",
         "marker": {
          "color": "#636efa",
          "pattern": {
           "shape": ""
          }
         },
         "name": "CNG",
         "offsetgroup": "CNG",
         "orientation": "v",
         "showlegend": true,
         "textposition": "auto",
         "type": "bar",
         "x": [
          "CNG"
         ],
         "xaxis": "x",
         "y": [
          3.1
         ],
         "yaxis": "y"
        },
        {
         "alignmentgroup": "True",
         "hovertemplate": "Fuel_Type=%{x}<br>Selling_Price=%{y}<extra></extra>",
         "legendgroup": "Diesel",
         "marker": {
          "color": "#EF553B",
          "pattern": {
           "shape": ""
          }
         },
         "name": "Diesel",
         "offsetgroup": "Diesel",
         "orientation": "v",
         "showlegend": true,
         "textposition": "auto",
         "type": "bar",
         "x": [
          "Diesel"
         ],
         "xaxis": "x",
         "y": [
          10.278500000000001
         ],
         "yaxis": "y"
        },
        {
         "alignmentgroup": "True",
         "hovertemplate": "Fuel_Type=%{x}<br>Selling_Price=%{y}<extra></extra>",
         "legendgroup": "Petrol",
         "marker": {
          "color": "#00cc96",
          "pattern": {
           "shape": ""
          }
         },
         "name": "Petrol",
         "offsetgroup": "Petrol",
         "orientation": "v",
         "showlegend": true,
         "textposition": "auto",
         "type": "bar",
         "x": [
          "Petrol"
         ],
         "xaxis": "x",
         "y": [
          3.26418410041841
         ],
         "yaxis": "y"
        }
       ],
       "layout": {
        "barmode": "relative",
        "legend": {
         "title": {
          "text": "Fuel_Type"
         },
         "tracegroupgap": 0
        },
        "margin": {
         "t": 60
        },
        "template": {
         "data": {
          "bar": [
           {
            "error_x": {
             "color": "#2a3f5f"
            },
            "error_y": {
             "color": "#2a3f5f"
            },
            "marker": {
             "line": {
              "color": "#E5ECF6",
              "width": 0.5
             },
             "pattern": {
              "fillmode": "overlay",
              "size": 10,
              "solidity": 0.2
             }
            },
            "type": "bar"
           }
          ],
          "barpolar": [
           {
            "marker": {
             "line": {
              "color": "#E5ECF6",
              "width": 0.5
             },
             "pattern": {
              "fillmode": "overlay",
              "size": 10,
              "solidity": 0.2
             }
            },
            "type": "barpolar"
           }
          ],
          "carpet": [
           {
            "aaxis": {
             "endlinecolor": "#2a3f5f",
             "gridcolor": "white",
             "linecolor": "white",
             "minorgridcolor": "white",
             "startlinecolor": "#2a3f5f"
            },
            "baxis": {
             "endlinecolor": "#2a3f5f",
             "gridcolor": "white",
             "linecolor": "white",
             "minorgridcolor": "white",
             "startlinecolor": "#2a3f5f"
            },
            "type": "carpet"
           }
          ],
          "choropleth": [
           {
            "colorbar": {
             "outlinewidth": 0,
             "ticks": ""
            },
            "type": "choropleth"
           }
          ],
          "contour": [
           {
            "colorbar": {
             "outlinewidth": 0,
             "ticks": ""
            },
            "colorscale": [
             [
              0,
              "#0d0887"
             ],
             [
              0.1111111111111111,
              "#46039f"
             ],
             [
              0.2222222222222222,
              "#7201a8"
             ],
             [
              0.3333333333333333,
              "#9c179e"
             ],
             [
              0.4444444444444444,
              "#bd3786"
             ],
             [
              0.5555555555555556,
              "#d8576b"
             ],
             [
              0.6666666666666666,
              "#ed7953"
             ],
             [
              0.7777777777777778,
              "#fb9f3a"
             ],
             [
              0.8888888888888888,
              "#fdca26"
             ],
             [
              1,
              "#f0f921"
             ]
            ],
            "type": "contour"
           }
          ],
          "contourcarpet": [
           {
            "colorbar": {
             "outlinewidth": 0,
             "ticks": ""
            },
            "type": "contourcarpet"
           }
          ],
          "heatmap": [
           {
            "colorbar": {
             "outlinewidth": 0,
             "ticks": ""
            },
            "colorscale": [
             [
              0,
              "#0d0887"
             ],
             [
              0.1111111111111111,
              "#46039f"
             ],
             [
              0.2222222222222222,
              "#7201a8"
             ],
             [
              0.3333333333333333,
              "#9c179e"
             ],
             [
              0.4444444444444444,
              "#bd3786"
             ],
             [
              0.5555555555555556,
              "#d8576b"
             ],
             [
              0.6666666666666666,
              "#ed7953"
             ],
             [
              0.7777777777777778,
              "#fb9f3a"
             ],
             [
              0.8888888888888888,
              "#fdca26"
             ],
             [
              1,
              "#f0f921"
             ]
            ],
            "type": "heatmap"
           }
          ],
          "heatmapgl": [
           {
            "colorbar": {
             "outlinewidth": 0,
             "ticks": ""
            },
            "colorscale": [
             [
              0,
              "#0d0887"
             ],
             [
              0.1111111111111111,
              "#46039f"
             ],
             [
              0.2222222222222222,
              "#7201a8"
             ],
             [
              0.3333333333333333,
              "#9c179e"
             ],
             [
              0.4444444444444444,
              "#bd3786"
             ],
             [
              0.5555555555555556,
              "#d8576b"
             ],
             [
              0.6666666666666666,
              "#ed7953"
             ],
             [
              0.7777777777777778,
              "#fb9f3a"
             ],
             [
              0.8888888888888888,
              "#fdca26"
             ],
             [
              1,
              "#f0f921"
             ]
            ],
            "type": "heatmapgl"
           }
          ],
          "histogram": [
           {
            "marker": {
             "pattern": {
              "fillmode": "overlay",
              "size": 10,
              "solidity": 0.2
             }
            },
            "type": "histogram"
           }
          ],
          "histogram2d": [
           {
            "colorbar": {
             "outlinewidth": 0,
             "ticks": ""
            },
            "colorscale": [
             [
              0,
              "#0d0887"
             ],
             [
              0.1111111111111111,
              "#46039f"
             ],
             [
              0.2222222222222222,
              "#7201a8"
             ],
             [
              0.3333333333333333,
              "#9c179e"
             ],
             [
              0.4444444444444444,
              "#bd3786"
             ],
             [
              0.5555555555555556,
              "#d8576b"
             ],
             [
              0.6666666666666666,
              "#ed7953"
             ],
             [
              0.7777777777777778,
              "#fb9f3a"
             ],
             [
              0.8888888888888888,
              "#fdca26"
             ],
             [
              1,
              "#f0f921"
             ]
            ],
            "type": "histogram2d"
           }
          ],
          "histogram2dcontour": [
           {
            "colorbar": {
             "outlinewidth": 0,
             "ticks": ""
            },
            "colorscale": [
             [
              0,
              "#0d0887"
             ],
             [
              0.1111111111111111,
              "#46039f"
             ],
             [
              0.2222222222222222,
              "#7201a8"
             ],
             [
              0.3333333333333333,
              "#9c179e"
             ],
             [
              0.4444444444444444,
              "#bd3786"
             ],
             [
              0.5555555555555556,
              "#d8576b"
             ],
             [
              0.6666666666666666,
              "#ed7953"
             ],
             [
              0.7777777777777778,
              "#fb9f3a"
             ],
             [
              0.8888888888888888,
              "#fdca26"
             ],
             [
              1,
              "#f0f921"
             ]
            ],
            "type": "histogram2dcontour"
           }
          ],
          "mesh3d": [
           {
            "colorbar": {
             "outlinewidth": 0,
             "ticks": ""
            },
            "type": "mesh3d"
           }
          ],
          "parcoords": [
           {
            "line": {
             "colorbar": {
              "outlinewidth": 0,
              "ticks": ""
             }
            },
            "type": "parcoords"
           }
          ],
          "pie": [
           {
            "automargin": true,
            "type": "pie"
           }
          ],
          "scatter": [
           {
            "fillpattern": {
             "fillmode": "overlay",
             "size": 10,
             "solidity": 0.2
            },
            "type": "scatter"
           }
          ],
          "scatter3d": [
           {
            "line": {
             "colorbar": {
              "outlinewidth": 0,
              "ticks": ""
             }
            },
            "marker": {
             "colorbar": {
              "outlinewidth": 0,
              "ticks": ""
             }
            },
            "type": "scatter3d"
           }
          ],
          "scattercarpet": [
           {
            "marker": {
             "colorbar": {
              "outlinewidth": 0,
              "ticks": ""
             }
            },
            "type": "scattercarpet"
           }
          ],
          "scattergeo": [
           {
            "marker": {
             "colorbar": {
              "outlinewidth": 0,
              "ticks": ""
             }
            },
            "type": "scattergeo"
           }
          ],
          "scattergl": [
           {
            "marker": {
             "colorbar": {
              "outlinewidth": 0,
              "ticks": ""
             }
            },
            "type": "scattergl"
           }
          ],
          "scattermapbox": [
           {
            "marker": {
             "colorbar": {
              "outlinewidth": 0,
              "ticks": ""
             }
            },
            "type": "scattermapbox"
           }
          ],
          "scatterpolar": [
           {
            "marker": {
             "colorbar": {
              "outlinewidth": 0,
              "ticks": ""
             }
            },
            "type": "scatterpolar"
           }
          ],
          "scatterpolargl": [
           {
            "marker": {
             "colorbar": {
              "outlinewidth": 0,
              "ticks": ""
             }
            },
            "type": "scatterpolargl"
           }
          ],
          "scatterternary": [
           {
            "marker": {
             "colorbar": {
              "outlinewidth": 0,
              "ticks": ""
             }
            },
            "type": "scatterternary"
           }
          ],
          "surface": [
           {
            "colorbar": {
             "outlinewidth": 0,
             "ticks": ""
            },
            "colorscale": [
             [
              0,
              "#0d0887"
             ],
             [
              0.1111111111111111,
              "#46039f"
             ],
             [
              0.2222222222222222,
              "#7201a8"
             ],
             [
              0.3333333333333333,
              "#9c179e"
             ],
             [
              0.4444444444444444,
              "#bd3786"
             ],
             [
              0.5555555555555556,
              "#d8576b"
             ],
             [
              0.6666666666666666,
              "#ed7953"
             ],
             [
              0.7777777777777778,
              "#fb9f3a"
             ],
             [
              0.8888888888888888,
              "#fdca26"
             ],
             [
              1,
              "#f0f921"
             ]
            ],
            "type": "surface"
           }
          ],
          "table": [
           {
            "cells": {
             "fill": {
              "color": "#EBF0F8"
             },
             "line": {
              "color": "white"
             }
            },
            "header": {
             "fill": {
              "color": "#C8D4E3"
             },
             "line": {
              "color": "white"
             }
            },
            "type": "table"
           }
          ]
         },
         "layout": {
          "annotationdefaults": {
           "arrowcolor": "#2a3f5f",
           "arrowhead": 0,
           "arrowwidth": 1
          },
          "autotypenumbers": "strict",
          "coloraxis": {
           "colorbar": {
            "outlinewidth": 0,
            "ticks": ""
           }
          },
          "colorscale": {
           "diverging": [
            [
             0,
             "#8e0152"
            ],
            [
             0.1,
             "#c51b7d"
            ],
            [
             0.2,
             "#de77ae"
            ],
            [
             0.3,
             "#f1b6da"
            ],
            [
             0.4,
             "#fde0ef"
            ],
            [
             0.5,
             "#f7f7f7"
            ],
            [
             0.6,
             "#e6f5d0"
            ],
            [
             0.7,
             "#b8e186"
            ],
            [
             0.8,
             "#7fbc41"
            ],
            [
             0.9,
             "#4d9221"
            ],
            [
             1,
             "#276419"
            ]
           ],
           "sequential": [
            [
             0,
             "#0d0887"
            ],
            [
             0.1111111111111111,
             "#46039f"
            ],
            [
             0.2222222222222222,
             "#7201a8"
            ],
            [
             0.3333333333333333,
             "#9c179e"
            ],
            [
             0.4444444444444444,
             "#bd3786"
            ],
            [
             0.5555555555555556,
             "#d8576b"
            ],
            [
             0.6666666666666666,
             "#ed7953"
            ],
            [
             0.7777777777777778,
             "#fb9f3a"
            ],
            [
             0.8888888888888888,
             "#fdca26"
            ],
            [
             1,
             "#f0f921"
            ]
           ],
           "sequentialminus": [
            [
             0,
             "#0d0887"
            ],
            [
             0.1111111111111111,
             "#46039f"
            ],
            [
             0.2222222222222222,
             "#7201a8"
            ],
            [
             0.3333333333333333,
             "#9c179e"
            ],
            [
             0.4444444444444444,
             "#bd3786"
            ],
            [
             0.5555555555555556,
             "#d8576b"
            ],
            [
             0.6666666666666666,
             "#ed7953"
            ],
            [
             0.7777777777777778,
             "#fb9f3a"
            ],
            [
             0.8888888888888888,
             "#fdca26"
            ],
            [
             1,
             "#f0f921"
            ]
           ]
          },
          "colorway": [
           "#636efa",
           "#EF553B",
           "#00cc96",
           "#ab63fa",
           "#FFA15A",
           "#19d3f3",
           "#FF6692",
           "#B6E880",
           "#FF97FF",
           "#FECB52"
          ],
          "font": {
           "color": "#2a3f5f"
          },
          "geo": {
           "bgcolor": "white",
           "lakecolor": "white",
           "landcolor": "#E5ECF6",
           "showlakes": true,
           "showland": true,
           "subunitcolor": "white"
          },
          "hoverlabel": {
           "align": "left"
          },
          "hovermode": "closest",
          "mapbox": {
           "style": "light"
          },
          "paper_bgcolor": "white",
          "plot_bgcolor": "#E5ECF6",
          "polar": {
           "angularaxis": {
            "gridcolor": "white",
            "linecolor": "white",
            "ticks": ""
           },
           "bgcolor": "#E5ECF6",
           "radialaxis": {
            "gridcolor": "white",
            "linecolor": "white",
            "ticks": ""
           }
          },
          "scene": {
           "xaxis": {
            "backgroundcolor": "#E5ECF6",
            "gridcolor": "white",
            "gridwidth": 2,
            "linecolor": "white",
            "showbackground": true,
            "ticks": "",
            "zerolinecolor": "white"
           },
           "yaxis": {
            "backgroundcolor": "#E5ECF6",
            "gridcolor": "white",
            "gridwidth": 2,
            "linecolor": "white",
            "showbackground": true,
            "ticks": "",
            "zerolinecolor": "white"
           },
           "zaxis": {
            "backgroundcolor": "#E5ECF6",
            "gridcolor": "white",
            "gridwidth": 2,
            "linecolor": "white",
            "showbackground": true,
            "ticks": "",
            "zerolinecolor": "white"
           }
          },
          "shapedefaults": {
           "line": {
            "color": "#2a3f5f"
           }
          },
          "ternary": {
           "aaxis": {
            "gridcolor": "white",
            "linecolor": "white",
            "ticks": ""
           },
           "baxis": {
            "gridcolor": "white",
            "linecolor": "white",
            "ticks": ""
           },
           "bgcolor": "#E5ECF6",
           "caxis": {
            "gridcolor": "white",
            "linecolor": "white",
            "ticks": ""
           }
          },
          "title": {
           "x": 0.05
          },
          "xaxis": {
           "automargin": true,
           "gridcolor": "white",
           "linecolor": "white",
           "ticks": "",
           "title": {
            "standoff": 15
           },
           "zerolinecolor": "white",
           "zerolinewidth": 2
          },
          "yaxis": {
           "automargin": true,
           "gridcolor": "white",
           "linecolor": "white",
           "ticks": "",
           "title": {
            "standoff": 15
           },
           "zerolinecolor": "white",
           "zerolinewidth": 2
          }
         }
        },
        "xaxis": {
         "anchor": "y",
         "categoryarray": [
          "CNG",
          "Diesel",
          "Petrol"
         ],
         "categoryorder": "array",
         "domain": [
          0,
          1
         ],
         "title": {
          "text": "Fuel_Type"
         }
        },
        "yaxis": {
         "anchor": "x",
         "domain": [
          0,
          1
         ],
         "title": {
          "text": "Selling_Price"
         }
        }
       }
      },
      "text/html": [
       "<div>                            <div id=\"1bac38ea-b0c1-4a7d-b391-2c9e3c27d8db\" class=\"plotly-graph-div\" style=\"height:525px; width:100%;\"></div>            <script type=\"text/javascript\">                require([\"plotly\"], function(Plotly) {                    window.PLOTLYENV=window.PLOTLYENV || {};                                    if (document.getElementById(\"1bac38ea-b0c1-4a7d-b391-2c9e3c27d8db\")) {                    Plotly.newPlot(                        \"1bac38ea-b0c1-4a7d-b391-2c9e3c27d8db\",                        [{\"alignmentgroup\":\"True\",\"hovertemplate\":\"Fuel_Type=%{x}<br>Selling_Price=%{y}<extra></extra>\",\"legendgroup\":\"CNG\",\"marker\":{\"color\":\"#636efa\",\"pattern\":{\"shape\":\"\"}},\"name\":\"CNG\",\"offsetgroup\":\"CNG\",\"orientation\":\"v\",\"showlegend\":true,\"textposition\":\"auto\",\"x\":[\"CNG\"],\"xaxis\":\"x\",\"y\":[3.1],\"yaxis\":\"y\",\"type\":\"bar\"},{\"alignmentgroup\":\"True\",\"hovertemplate\":\"Fuel_Type=%{x}<br>Selling_Price=%{y}<extra></extra>\",\"legendgroup\":\"Diesel\",\"marker\":{\"color\":\"#EF553B\",\"pattern\":{\"shape\":\"\"}},\"name\":\"Diesel\",\"offsetgroup\":\"Diesel\",\"orientation\":\"v\",\"showlegend\":true,\"textposition\":\"auto\",\"x\":[\"Diesel\"],\"xaxis\":\"x\",\"y\":[10.278500000000001],\"yaxis\":\"y\",\"type\":\"bar\"},{\"alignmentgroup\":\"True\",\"hovertemplate\":\"Fuel_Type=%{x}<br>Selling_Price=%{y}<extra></extra>\",\"legendgroup\":\"Petrol\",\"marker\":{\"color\":\"#00cc96\",\"pattern\":{\"shape\":\"\"}},\"name\":\"Petrol\",\"offsetgroup\":\"Petrol\",\"orientation\":\"v\",\"showlegend\":true,\"textposition\":\"auto\",\"x\":[\"Petrol\"],\"xaxis\":\"x\",\"y\":[3.26418410041841],\"yaxis\":\"y\",\"type\":\"bar\"}],                        {\"template\":{\"data\":{\"histogram2dcontour\":[{\"type\":\"histogram2dcontour\",\"colorbar\":{\"outlinewidth\":0,\"ticks\":\"\"},\"colorscale\":[[0.0,\"#0d0887\"],[0.1111111111111111,\"#46039f\"],[0.2222222222222222,\"#7201a8\"],[0.3333333333333333,\"#9c179e\"],[0.4444444444444444,\"#bd3786\"],[0.5555555555555556,\"#d8576b\"],[0.6666666666666666,\"#ed7953\"],[0.7777777777777778,\"#fb9f3a\"],[0.8888888888888888,\"#fdca26\"],[1.0,\"#f0f921\"]]}],\"choropleth\":[{\"type\":\"choropleth\",\"colorbar\":{\"outlinewidth\":0,\"ticks\":\"\"}}],\"histogram2d\":[{\"type\":\"histogram2d\",\"colorbar\":{\"outlinewidth\":0,\"ticks\":\"\"},\"colorscale\":[[0.0,\"#0d0887\"],[0.1111111111111111,\"#46039f\"],[0.2222222222222222,\"#7201a8\"],[0.3333333333333333,\"#9c179e\"],[0.4444444444444444,\"#bd3786\"],[0.5555555555555556,\"#d8576b\"],[0.6666666666666666,\"#ed7953\"],[0.7777777777777778,\"#fb9f3a\"],[0.8888888888888888,\"#fdca26\"],[1.0,\"#f0f921\"]]}],\"heatmap\":[{\"type\":\"heatmap\",\"colorbar\":{\"outlinewidth\":0,\"ticks\":\"\"},\"colorscale\":[[0.0,\"#0d0887\"],[0.1111111111111111,\"#46039f\"],[0.2222222222222222,\"#7201a8\"],[0.3333333333333333,\"#9c179e\"],[0.4444444444444444,\"#bd3786\"],[0.5555555555555556,\"#d8576b\"],[0.6666666666666666,\"#ed7953\"],[0.7777777777777778,\"#fb9f3a\"],[0.8888888888888888,\"#fdca26\"],[1.0,\"#f0f921\"]]}],\"heatmapgl\":[{\"type\":\"heatmapgl\",\"colorbar\":{\"outlinewidth\":0,\"ticks\":\"\"},\"colorscale\":[[0.0,\"#0d0887\"],[0.1111111111111111,\"#46039f\"],[0.2222222222222222,\"#7201a8\"],[0.3333333333333333,\"#9c179e\"],[0.4444444444444444,\"#bd3786\"],[0.5555555555555556,\"#d8576b\"],[0.6666666666666666,\"#ed7953\"],[0.7777777777777778,\"#fb9f3a\"],[0.8888888888888888,\"#fdca26\"],[1.0,\"#f0f921\"]]}],\"contourcarpet\":[{\"type\":\"contourcarpet\",\"colorbar\":{\"outlinewidth\":0,\"ticks\":\"\"}}],\"contour\":[{\"type\":\"contour\",\"colorbar\":{\"outlinewidth\":0,\"ticks\":\"\"},\"colorscale\":[[0.0,\"#0d0887\"],[0.1111111111111111,\"#46039f\"],[0.2222222222222222,\"#7201a8\"],[0.3333333333333333,\"#9c179e\"],[0.4444444444444444,\"#bd3786\"],[0.5555555555555556,\"#d8576b\"],[0.6666666666666666,\"#ed7953\"],[0.7777777777777778,\"#fb9f3a\"],[0.8888888888888888,\"#fdca26\"],[1.0,\"#f0f921\"]]}],\"surface\":[{\"type\":\"surface\",\"colorbar\":{\"outlinewidth\":0,\"ticks\":\"\"},\"colorscale\":[[0.0,\"#0d0887\"],[0.1111111111111111,\"#46039f\"],[0.2222222222222222,\"#7201a8\"],[0.3333333333333333,\"#9c179e\"],[0.4444444444444444,\"#bd3786\"],[0.5555555555555556,\"#d8576b\"],[0.6666666666666666,\"#ed7953\"],[0.7777777777777778,\"#fb9f3a\"],[0.8888888888888888,\"#fdca26\"],[1.0,\"#f0f921\"]]}],\"mesh3d\":[{\"type\":\"mesh3d\",\"colorbar\":{\"outlinewidth\":0,\"ticks\":\"\"}}],\"scatter\":[{\"fillpattern\":{\"fillmode\":\"overlay\",\"size\":10,\"solidity\":0.2},\"type\":\"scatter\"}],\"parcoords\":[{\"type\":\"parcoords\",\"line\":{\"colorbar\":{\"outlinewidth\":0,\"ticks\":\"\"}}}],\"scatterpolargl\":[{\"type\":\"scatterpolargl\",\"marker\":{\"colorbar\":{\"outlinewidth\":0,\"ticks\":\"\"}}}],\"bar\":[{\"error_x\":{\"color\":\"#2a3f5f\"},\"error_y\":{\"color\":\"#2a3f5f\"},\"marker\":{\"line\":{\"color\":\"#E5ECF6\",\"width\":0.5},\"pattern\":{\"fillmode\":\"overlay\",\"size\":10,\"solidity\":0.2}},\"type\":\"bar\"}],\"scattergeo\":[{\"type\":\"scattergeo\",\"marker\":{\"colorbar\":{\"outlinewidth\":0,\"ticks\":\"\"}}}],\"scatterpolar\":[{\"type\":\"scatterpolar\",\"marker\":{\"colorbar\":{\"outlinewidth\":0,\"ticks\":\"\"}}}],\"histogram\":[{\"marker\":{\"pattern\":{\"fillmode\":\"overlay\",\"size\":10,\"solidity\":0.2}},\"type\":\"histogram\"}],\"scattergl\":[{\"type\":\"scattergl\",\"marker\":{\"colorbar\":{\"outlinewidth\":0,\"ticks\":\"\"}}}],\"scatter3d\":[{\"type\":\"scatter3d\",\"line\":{\"colorbar\":{\"outlinewidth\":0,\"ticks\":\"\"}},\"marker\":{\"colorbar\":{\"outlinewidth\":0,\"ticks\":\"\"}}}],\"scattermapbox\":[{\"type\":\"scattermapbox\",\"marker\":{\"colorbar\":{\"outlinewidth\":0,\"ticks\":\"\"}}}],\"scatterternary\":[{\"type\":\"scatterternary\",\"marker\":{\"colorbar\":{\"outlinewidth\":0,\"ticks\":\"\"}}}],\"scattercarpet\":[{\"type\":\"scattercarpet\",\"marker\":{\"colorbar\":{\"outlinewidth\":0,\"ticks\":\"\"}}}],\"carpet\":[{\"aaxis\":{\"endlinecolor\":\"#2a3f5f\",\"gridcolor\":\"white\",\"linecolor\":\"white\",\"minorgridcolor\":\"white\",\"startlinecolor\":\"#2a3f5f\"},\"baxis\":{\"endlinecolor\":\"#2a3f5f\",\"gridcolor\":\"white\",\"linecolor\":\"white\",\"minorgridcolor\":\"white\",\"startlinecolor\":\"#2a3f5f\"},\"type\":\"carpet\"}],\"table\":[{\"cells\":{\"fill\":{\"color\":\"#EBF0F8\"},\"line\":{\"color\":\"white\"}},\"header\":{\"fill\":{\"color\":\"#C8D4E3\"},\"line\":{\"color\":\"white\"}},\"type\":\"table\"}],\"barpolar\":[{\"marker\":{\"line\":{\"color\":\"#E5ECF6\",\"width\":0.5},\"pattern\":{\"fillmode\":\"overlay\",\"size\":10,\"solidity\":0.2}},\"type\":\"barpolar\"}],\"pie\":[{\"automargin\":true,\"type\":\"pie\"}]},\"layout\":{\"autotypenumbers\":\"strict\",\"colorway\":[\"#636efa\",\"#EF553B\",\"#00cc96\",\"#ab63fa\",\"#FFA15A\",\"#19d3f3\",\"#FF6692\",\"#B6E880\",\"#FF97FF\",\"#FECB52\"],\"font\":{\"color\":\"#2a3f5f\"},\"hovermode\":\"closest\",\"hoverlabel\":{\"align\":\"left\"},\"paper_bgcolor\":\"white\",\"plot_bgcolor\":\"#E5ECF6\",\"polar\":{\"bgcolor\":\"#E5ECF6\",\"angularaxis\":{\"gridcolor\":\"white\",\"linecolor\":\"white\",\"ticks\":\"\"},\"radialaxis\":{\"gridcolor\":\"white\",\"linecolor\":\"white\",\"ticks\":\"\"}},\"ternary\":{\"bgcolor\":\"#E5ECF6\",\"aaxis\":{\"gridcolor\":\"white\",\"linecolor\":\"white\",\"ticks\":\"\"},\"baxis\":{\"gridcolor\":\"white\",\"linecolor\":\"white\",\"ticks\":\"\"},\"caxis\":{\"gridcolor\":\"white\",\"linecolor\":\"white\",\"ticks\":\"\"}},\"coloraxis\":{\"colorbar\":{\"outlinewidth\":0,\"ticks\":\"\"}},\"colorscale\":{\"sequential\":[[0.0,\"#0d0887\"],[0.1111111111111111,\"#46039f\"],[0.2222222222222222,\"#7201a8\"],[0.3333333333333333,\"#9c179e\"],[0.4444444444444444,\"#bd3786\"],[0.5555555555555556,\"#d8576b\"],[0.6666666666666666,\"#ed7953\"],[0.7777777777777778,\"#fb9f3a\"],[0.8888888888888888,\"#fdca26\"],[1.0,\"#f0f921\"]],\"sequentialminus\":[[0.0,\"#0d0887\"],[0.1111111111111111,\"#46039f\"],[0.2222222222222222,\"#7201a8\"],[0.3333333333333333,\"#9c179e\"],[0.4444444444444444,\"#bd3786\"],[0.5555555555555556,\"#d8576b\"],[0.6666666666666666,\"#ed7953\"],[0.7777777777777778,\"#fb9f3a\"],[0.8888888888888888,\"#fdca26\"],[1.0,\"#f0f921\"]],\"diverging\":[[0,\"#8e0152\"],[0.1,\"#c51b7d\"],[0.2,\"#de77ae\"],[0.3,\"#f1b6da\"],[0.4,\"#fde0ef\"],[0.5,\"#f7f7f7\"],[0.6,\"#e6f5d0\"],[0.7,\"#b8e186\"],[0.8,\"#7fbc41\"],[0.9,\"#4d9221\"],[1,\"#276419\"]]},\"xaxis\":{\"gridcolor\":\"white\",\"linecolor\":\"white\",\"ticks\":\"\",\"title\":{\"standoff\":15},\"zerolinecolor\":\"white\",\"automargin\":true,\"zerolinewidth\":2},\"yaxis\":{\"gridcolor\":\"white\",\"linecolor\":\"white\",\"ticks\":\"\",\"title\":{\"standoff\":15},\"zerolinecolor\":\"white\",\"automargin\":true,\"zerolinewidth\":2},\"scene\":{\"xaxis\":{\"backgroundcolor\":\"#E5ECF6\",\"gridcolor\":\"white\",\"linecolor\":\"white\",\"showbackground\":true,\"ticks\":\"\",\"zerolinecolor\":\"white\",\"gridwidth\":2},\"yaxis\":{\"backgroundcolor\":\"#E5ECF6\",\"gridcolor\":\"white\",\"linecolor\":\"white\",\"showbackground\":true,\"ticks\":\"\",\"zerolinecolor\":\"white\",\"gridwidth\":2},\"zaxis\":{\"backgroundcolor\":\"#E5ECF6\",\"gridcolor\":\"white\",\"linecolor\":\"white\",\"showbackground\":true,\"ticks\":\"\",\"zerolinecolor\":\"white\",\"gridwidth\":2}},\"shapedefaults\":{\"line\":{\"color\":\"#2a3f5f\"}},\"annotationdefaults\":{\"arrowcolor\":\"#2a3f5f\",\"arrowhead\":0,\"arrowwidth\":1},\"geo\":{\"bgcolor\":\"white\",\"landcolor\":\"#E5ECF6\",\"subunitcolor\":\"white\",\"showland\":true,\"showlakes\":true,\"lakecolor\":\"white\"},\"title\":{\"x\":0.05},\"mapbox\":{\"style\":\"light\"}}},\"xaxis\":{\"anchor\":\"y\",\"domain\":[0.0,1.0],\"title\":{\"text\":\"Fuel_Type\"},\"categoryorder\":\"array\",\"categoryarray\":[\"CNG\",\"Diesel\",\"Petrol\"]},\"yaxis\":{\"anchor\":\"x\",\"domain\":[0.0,1.0],\"title\":{\"text\":\"Selling_Price\"}},\"legend\":{\"title\":{\"text\":\"Fuel_Type\"},\"tracegroupgap\":0},\"margin\":{\"t\":60},\"barmode\":\"relative\"},                        {\"responsive\": true}                    ).then(function(){\n",
       "                            \n",
       "var gd = document.getElementById('1bac38ea-b0c1-4a7d-b391-2c9e3c27d8db');\n",
       "var x = new MutationObserver(function (mutations, observer) {{\n",
       "        var display = window.getComputedStyle(gd).display;\n",
       "        if (!display || display === 'none') {{\n",
       "            console.log([gd, 'removed!']);\n",
       "            Plotly.purge(gd);\n",
       "            observer.disconnect();\n",
       "        }}\n",
       "}});\n",
       "\n",
       "// Listen for the removal of the full notebook cells\n",
       "var notebookContainer = gd.closest('#notebook-container');\n",
       "if (notebookContainer) {{\n",
       "    x.observe(notebookContainer, {childList: true});\n",
       "}}\n",
       "\n",
       "// Listen for the clearing of the current output cell\n",
       "var outputEl = gd.closest('.output');\n",
       "if (outputEl) {{\n",
       "    x.observe(outputEl, {childList: true});\n",
       "}}\n",
       "\n",
       "                        })                };                });            </script>        </div>"
      ]
     },
     "metadata": {},
     "output_type": "display_data"
    }
   ],
   "source": [
    "px.bar(data_frame=mean_data,x='Fuel_Type',y='Selling_Price',color='Fuel_Type')"
   ]
  },
  {
   "cell_type": "markdown",
   "id": "b618f7ea",
   "metadata": {},
   "source": [
    "##### Average selling price based on car"
   ]
  },
  {
   "cell_type": "code",
   "execution_count": 120,
   "id": "4c3645b2",
   "metadata": {},
   "outputs": [],
   "source": [
    "data_m=car_data[['Car_Name','Selling_Price']].groupby('Car_Name').mean().reset_index()"
   ]
  },
  {
   "cell_type": "code",
   "execution_count": 121,
   "id": "da52b3c9",
   "metadata": {},
   "outputs": [
    {
     "data": {
      "application/vnd.plotly.v1+json": {
       "config": {
        "plotlyServerURL": "https://plot.ly"
       },
       "data": [
        {
         "alignmentgroup": "True",
         "hovertemplate": "Car_Name=%{y}<br>Selling_Price=%{x}<extra></extra>",
         "legendgroup": "800",
         "marker": {
          "color": "#636efa",
          "pattern": {
           "shape": ""
          }
         },
         "name": "800",
         "offsetgroup": "800",
         "orientation": "h",
         "showlegend": true,
         "textposition": "auto",
         "type": "bar",
         "x": [
          0.35
         ],
         "xaxis": "x",
         "y": [
          "800"
         ],
         "yaxis": "y"
        },
        {
         "alignmentgroup": "True",
         "hovertemplate": "Car_Name=%{y}<br>Selling_Price=%{x}<extra></extra>",
         "legendgroup": "Activa 3g",
         "marker": {
          "color": "#EF553B",
          "pattern": {
           "shape": ""
          }
         },
         "name": "Activa 3g",
         "offsetgroup": "Activa 3g",
         "orientation": "h",
         "showlegend": true,
         "textposition": "auto",
         "type": "bar",
         "x": [
          0.31
         ],
         "xaxis": "x",
         "y": [
          "Activa 3g"
         ],
         "yaxis": "y"
        },
        {
         "alignmentgroup": "True",
         "hovertemplate": "Car_Name=%{y}<br>Selling_Price=%{x}<extra></extra>",
         "legendgroup": "Activa 4g",
         "marker": {
          "color": "#00cc96",
          "pattern": {
           "shape": ""
          }
         },
         "name": "Activa 4g",
         "offsetgroup": "Activa 4g",
         "orientation": "h",
         "showlegend": true,
         "textposition": "auto",
         "type": "bar",
         "x": [
          0.4
         ],
         "xaxis": "x",
         "y": [
          "Activa 4g"
         ],
         "yaxis": "y"
        },
        {
         "alignmentgroup": "True",
         "hovertemplate": "Car_Name=%{y}<br>Selling_Price=%{x}<extra></extra>",
         "legendgroup": "Bajaj  ct 100",
         "marker": {
          "color": "#ab63fa",
          "pattern": {
           "shape": ""
          }
         },
         "name": "Bajaj  ct 100",
         "offsetgroup": "Bajaj  ct 100",
         "orientation": "h",
         "showlegend": true,
         "textposition": "auto",
         "type": "bar",
         "x": [
          0.18
         ],
         "xaxis": "x",
         "y": [
          "Bajaj  ct 100"
         ],
         "yaxis": "y"
        },
        {
         "alignmentgroup": "True",
         "hovertemplate": "Car_Name=%{y}<br>Selling_Price=%{x}<extra></extra>",
         "legendgroup": "Bajaj Avenger 150",
         "marker": {
          "color": "#FFA15A",
          "pattern": {
           "shape": ""
          }
         },
         "name": "Bajaj Avenger 150",
         "offsetgroup": "Bajaj Avenger 150",
         "orientation": "h",
         "showlegend": true,
         "textposition": "auto",
         "type": "bar",
         "x": [
          0.75
         ],
         "xaxis": "x",
         "y": [
          "Bajaj Avenger 150"
         ],
         "yaxis": "y"
        },
        {
         "alignmentgroup": "True",
         "hovertemplate": "Car_Name=%{y}<br>Selling_Price=%{x}<extra></extra>",
         "legendgroup": "Bajaj Avenger 150 street",
         "marker": {
          "color": "#19d3f3",
          "pattern": {
           "shape": ""
          }
         },
         "name": "Bajaj Avenger 150 street",
         "offsetgroup": "Bajaj Avenger 150 street",
         "orientation": "h",
         "showlegend": true,
         "textposition": "auto",
         "type": "bar",
         "x": [
          0.6
         ],
         "xaxis": "x",
         "y": [
          "Bajaj Avenger 150 street"
         ],
         "yaxis": "y"
        },
        {
         "alignmentgroup": "True",
         "hovertemplate": "Car_Name=%{y}<br>Selling_Price=%{x}<extra></extra>",
         "legendgroup": "Bajaj Avenger 220",
         "marker": {
          "color": "#FF6692",
          "pattern": {
           "shape": ""
          }
         },
         "name": "Bajaj Avenger 220",
         "offsetgroup": "Bajaj Avenger 220",
         "orientation": "h",
         "showlegend": true,
         "textposition": "auto",
         "type": "bar",
         "x": [
          0.79
         ],
         "xaxis": "x",
         "y": [
          "Bajaj Avenger 220"
         ],
         "yaxis": "y"
        },
        {
         "alignmentgroup": "True",
         "hovertemplate": "Car_Name=%{y}<br>Selling_Price=%{x}<extra></extra>",
         "legendgroup": "Bajaj Avenger 220 dtsi",
         "marker": {
          "color": "#B6E880",
          "pattern": {
           "shape": ""
          }
         },
         "name": "Bajaj Avenger 220 dtsi",
         "offsetgroup": "Bajaj Avenger 220 dtsi",
         "orientation": "h",
         "showlegend": true,
         "textposition": "auto",
         "type": "bar",
         "x": [
          0.525
         ],
         "xaxis": "x",
         "y": [
          "Bajaj Avenger 220 dtsi"
         ],
         "yaxis": "y"
        },
        {
         "alignmentgroup": "True",
         "hovertemplate": "Car_Name=%{y}<br>Selling_Price=%{x}<extra></extra>",
         "legendgroup": "Bajaj Avenger Street 220",
         "marker": {
          "color": "#FF97FF",
          "pattern": {
           "shape": ""
          }
         },
         "name": "Bajaj Avenger Street 220",
         "offsetgroup": "Bajaj Avenger Street 220",
         "orientation": "h",
         "showlegend": true,
         "textposition": "auto",
         "type": "bar",
         "x": [
          0.45
         ],
         "xaxis": "x",
         "y": [
          "Bajaj Avenger Street 220"
         ],
         "yaxis": "y"
        },
        {
         "alignmentgroup": "True",
         "hovertemplate": "Car_Name=%{y}<br>Selling_Price=%{x}<extra></extra>",
         "legendgroup": "Bajaj Discover 100",
         "marker": {
          "color": "#FECB52",
          "pattern": {
           "shape": ""
          }
         },
         "name": "Bajaj Discover 100",
         "offsetgroup": "Bajaj Discover 100",
         "orientation": "h",
         "showlegend": true,
         "textposition": "auto",
         "type": "bar",
         "x": [
          0.27
         ],
         "xaxis": "x",
         "y": [
          "Bajaj Discover 100"
         ],
         "yaxis": "y"
        },
        {
         "alignmentgroup": "True",
         "hovertemplate": "Car_Name=%{y}<br>Selling_Price=%{x}<extra></extra>",
         "legendgroup": "Bajaj Discover 125",
         "marker": {
          "color": "#636efa",
          "pattern": {
           "shape": ""
          }
         },
         "name": "Bajaj Discover 125",
         "offsetgroup": "Bajaj Discover 125",
         "orientation": "h",
         "showlegend": true,
         "textposition": "auto",
         "type": "bar",
         "x": [
          0.175
         ],
         "xaxis": "x",
         "y": [
          "Bajaj Discover 125"
         ],
         "yaxis": "y"
        },
        {
         "alignmentgroup": "True",
         "hovertemplate": "Car_Name=%{y}<br>Selling_Price=%{x}<extra></extra>",
         "legendgroup": "Bajaj Dominar 400",
         "marker": {
          "color": "#EF553B",
          "pattern": {
           "shape": ""
          }
         },
         "name": "Bajaj Dominar 400",
         "offsetgroup": "Bajaj Dominar 400",
         "orientation": "h",
         "showlegend": true,
         "textposition": "auto",
         "type": "bar",
         "x": [
          1.45
         ],
         "xaxis": "x",
         "y": [
          "Bajaj Dominar 400"
         ],
         "yaxis": "y"
        },
        {
         "alignmentgroup": "True",
         "hovertemplate": "Car_Name=%{y}<br>Selling_Price=%{x}<extra></extra>",
         "legendgroup": "Bajaj Pulsar  NS 200",
         "marker": {
          "color": "#00cc96",
          "pattern": {
           "shape": ""
          }
         },
         "name": "Bajaj Pulsar  NS 200",
         "offsetgroup": "Bajaj Pulsar  NS 200",
         "orientation": "h",
         "showlegend": true,
         "textposition": "auto",
         "type": "bar",
         "x": [
          0.6
         ],
         "xaxis": "x",
         "y": [
          "Bajaj Pulsar  NS 200"
         ],
         "yaxis": "y"
        },
        {
         "alignmentgroup": "True",
         "hovertemplate": "Car_Name=%{y}<br>Selling_Price=%{x}<extra></extra>",
         "legendgroup": "Bajaj Pulsar 135 LS",
         "marker": {
          "color": "#ab63fa",
          "pattern": {
           "shape": ""
          }
         },
         "name": "Bajaj Pulsar 135 LS",
         "offsetgroup": "Bajaj Pulsar 135 LS",
         "orientation": "h",
         "showlegend": true,
         "textposition": "auto",
         "type": "bar",
         "x": [
          0.4
         ],
         "xaxis": "x",
         "y": [
          "Bajaj Pulsar 135 LS"
         ],
         "yaxis": "y"
        },
        {
         "alignmentgroup": "True",
         "hovertemplate": "Car_Name=%{y}<br>Selling_Price=%{x}<extra></extra>",
         "legendgroup": "Bajaj Pulsar 150",
         "marker": {
          "color": "#FFA15A",
          "pattern": {
           "shape": ""
          }
         },
         "name": "Bajaj Pulsar 150",
         "offsetgroup": "Bajaj Pulsar 150",
         "orientation": "h",
         "showlegend": true,
         "textposition": "auto",
         "type": "bar",
         "x": [
          0.3
         ],
         "xaxis": "x",
         "y": [
          "Bajaj Pulsar 150"
         ],
         "yaxis": "y"
        },
        {
         "alignmentgroup": "True",
         "hovertemplate": "Car_Name=%{y}<br>Selling_Price=%{x}<extra></extra>",
         "legendgroup": "Bajaj Pulsar 220 F",
         "marker": {
          "color": "#19d3f3",
          "pattern": {
           "shape": ""
          }
         },
         "name": "Bajaj Pulsar 220 F",
         "offsetgroup": "Bajaj Pulsar 220 F",
         "orientation": "h",
         "showlegend": true,
         "textposition": "auto",
         "type": "bar",
         "x": [
          0.515
         ],
         "xaxis": "x",
         "y": [
          "Bajaj Pulsar 220 F"
         ],
         "yaxis": "y"
        },
        {
         "alignmentgroup": "True",
         "hovertemplate": "Car_Name=%{y}<br>Selling_Price=%{x}<extra></extra>",
         "legendgroup": "Bajaj Pulsar NS 200",
         "marker": {
          "color": "#FF6692",
          "pattern": {
           "shape": ""
          }
         },
         "name": "Bajaj Pulsar NS 200",
         "offsetgroup": "Bajaj Pulsar NS 200",
         "orientation": "h",
         "showlegend": true,
         "textposition": "auto",
         "type": "bar",
         "x": [
          0.48333333333333334
         ],
         "xaxis": "x",
         "y": [
          "Bajaj Pulsar NS 200"
         ],
         "yaxis": "y"
        },
        {
         "alignmentgroup": "True",
         "hovertemplate": "Car_Name=%{y}<br>Selling_Price=%{x}<extra></extra>",
         "legendgroup": "Bajaj Pulsar RS200",
         "marker": {
          "color": "#B6E880",
          "pattern": {
           "shape": ""
          }
         },
         "name": "Bajaj Pulsar RS200",
         "offsetgroup": "Bajaj Pulsar RS200",
         "orientation": "h",
         "showlegend": true,
         "textposition": "auto",
         "type": "bar",
         "x": [
          1.05
         ],
         "xaxis": "x",
         "y": [
          "Bajaj Pulsar RS200"
         ],
         "yaxis": "y"
        },
        {
         "alignmentgroup": "True",
         "hovertemplate": "Car_Name=%{y}<br>Selling_Price=%{x}<extra></extra>",
         "legendgroup": "Hero  CBZ Xtreme",
         "marker": {
          "color": "#FF97FF",
          "pattern": {
           "shape": ""
          }
         },
         "name": "Hero  CBZ Xtreme",
         "offsetgroup": "Hero  CBZ Xtreme",
         "orientation": "h",
         "showlegend": true,
         "textposition": "auto",
         "type": "bar",
         "x": [
          0.2
         ],
         "xaxis": "x",
         "y": [
          "Hero  CBZ Xtreme"
         ],
         "yaxis": "y"
        },
        {
         "alignmentgroup": "True",
         "hovertemplate": "Car_Name=%{y}<br>Selling_Price=%{x}<extra></extra>",
         "legendgroup": "Hero  Ignitor Disc",
         "marker": {
          "color": "#FECB52",
          "pattern": {
           "shape": ""
          }
         },
         "name": "Hero  Ignitor Disc",
         "offsetgroup": "Hero  Ignitor Disc",
         "orientation": "h",
         "showlegend": true,
         "textposition": "auto",
         "type": "bar",
         "x": [
          0.2
         ],
         "xaxis": "x",
         "y": [
          "Hero  Ignitor Disc"
         ],
         "yaxis": "y"
        },
        {
         "alignmentgroup": "True",
         "hovertemplate": "Car_Name=%{y}<br>Selling_Price=%{x}<extra></extra>",
         "legendgroup": "Hero Extreme",
         "marker": {
          "color": "#636efa",
          "pattern": {
           "shape": ""
          }
         },
         "name": "Hero Extreme",
         "offsetgroup": "Hero Extreme",
         "orientation": "h",
         "showlegend": true,
         "textposition": "auto",
         "type": "bar",
         "x": [
          0.6000000000000001
         ],
         "xaxis": "x",
         "y": [
          "Hero Extreme"
         ],
         "yaxis": "y"
        },
        {
         "alignmentgroup": "True",
         "hovertemplate": "Car_Name=%{y}<br>Selling_Price=%{x}<extra></extra>",
         "legendgroup": "Hero Glamour",
         "marker": {
          "color": "#EF553B",
          "pattern": {
           "shape": ""
          }
         },
         "name": "Hero Glamour",
         "offsetgroup": "Hero Glamour",
         "orientation": "h",
         "showlegend": true,
         "textposition": "auto",
         "type": "bar",
         "x": [
          0.25
         ],
         "xaxis": "x",
         "y": [
          "Hero Glamour"
         ],
         "yaxis": "y"
        },
        {
         "alignmentgroup": "True",
         "hovertemplate": "Car_Name=%{y}<br>Selling_Price=%{x}<extra></extra>",
         "legendgroup": "Hero Honda CBZ extreme",
         "marker": {
          "color": "#00cc96",
          "pattern": {
           "shape": ""
          }
         },
         "name": "Hero Honda CBZ extreme",
         "offsetgroup": "Hero Honda CBZ extreme",
         "orientation": "h",
         "showlegend": true,
         "textposition": "auto",
         "type": "bar",
         "x": [
          0.38
         ],
         "xaxis": "x",
         "y": [
          "Hero Honda CBZ extreme"
         ],
         "yaxis": "y"
        },
        {
         "alignmentgroup": "True",
         "hovertemplate": "Car_Name=%{y}<br>Selling_Price=%{x}<extra></extra>",
         "legendgroup": "Hero Honda Passion Pro",
         "marker": {
          "color": "#ab63fa",
          "pattern": {
           "shape": ""
          }
         },
         "name": "Hero Honda Passion Pro",
         "offsetgroup": "Hero Honda Passion Pro",
         "orientation": "h",
         "showlegend": true,
         "textposition": "auto",
         "type": "bar",
         "x": [
          0.3
         ],
         "xaxis": "x",
         "y": [
          "Hero Honda Passion Pro"
         ],
         "yaxis": "y"
        },
        {
         "alignmentgroup": "True",
         "hovertemplate": "Car_Name=%{y}<br>Selling_Price=%{x}<extra></extra>",
         "legendgroup": "Hero Hunk",
         "marker": {
          "color": "#FFA15A",
          "pattern": {
           "shape": ""
          }
         },
         "name": "Hero Hunk",
         "offsetgroup": "Hero Hunk",
         "orientation": "h",
         "showlegend": true,
         "textposition": "auto",
         "type": "bar",
         "x": [
          0.2
         ],
         "xaxis": "x",
         "y": [
          "Hero Hunk"
         ],
         "yaxis": "y"
        },
        {
         "alignmentgroup": "True",
         "hovertemplate": "Car_Name=%{y}<br>Selling_Price=%{x}<extra></extra>",
         "legendgroup": "Hero Passion Pro",
         "marker": {
          "color": "#19d3f3",
          "pattern": {
           "shape": ""
          }
         },
         "name": "Hero Passion Pro",
         "offsetgroup": "Hero Passion Pro",
         "orientation": "h",
         "showlegend": true,
         "textposition": "auto",
         "type": "bar",
         "x": [
          0.42500000000000004
         ],
         "xaxis": "x",
         "y": [
          "Hero Passion Pro"
         ],
         "yaxis": "y"
        },
        {
         "alignmentgroup": "True",
         "hovertemplate": "Car_Name=%{y}<br>Selling_Price=%{x}<extra></extra>",
         "legendgroup": "Hero Passion X pro",
         "marker": {
          "color": "#FF6692",
          "pattern": {
           "shape": ""
          }
         },
         "name": "Hero Passion X pro",
         "offsetgroup": "Hero Passion X pro",
         "orientation": "h",
         "showlegend": true,
         "textposition": "auto",
         "type": "bar",
         "x": [
          0.5
         ],
         "xaxis": "x",
         "y": [
          "Hero Passion X pro"
         ],
         "yaxis": "y"
        },
        {
         "alignmentgroup": "True",
         "hovertemplate": "Car_Name=%{y}<br>Selling_Price=%{x}<extra></extra>",
         "legendgroup": "Hero Splender Plus",
         "marker": {
          "color": "#B6E880",
          "pattern": {
           "shape": ""
          }
         },
         "name": "Hero Splender Plus",
         "offsetgroup": "Hero Splender Plus",
         "orientation": "h",
         "showlegend": true,
         "textposition": "auto",
         "type": "bar",
         "x": [
          0.3
         ],
         "xaxis": "x",
         "y": [
          "Hero Splender Plus"
         ],
         "yaxis": "y"
        },
        {
         "alignmentgroup": "True",
         "hovertemplate": "Car_Name=%{y}<br>Selling_Price=%{x}<extra></extra>",
         "legendgroup": "Hero Splender iSmart",
         "marker": {
          "color": "#FF97FF",
          "pattern": {
           "shape": ""
          }
         },
         "name": "Hero Splender iSmart",
         "offsetgroup": "Hero Splender iSmart",
         "orientation": "h",
         "showlegend": true,
         "textposition": "auto",
         "type": "bar",
         "x": [
          0.42500000000000004
         ],
         "xaxis": "x",
         "y": [
          "Hero Splender iSmart"
         ],
         "yaxis": "y"
        },
        {
         "alignmentgroup": "True",
         "hovertemplate": "Car_Name=%{y}<br>Selling_Price=%{x}<extra></extra>",
         "legendgroup": "Hero Super Splendor",
         "marker": {
          "color": "#FECB52",
          "pattern": {
           "shape": ""
          }
         },
         "name": "Hero Super Splendor",
         "offsetgroup": "Hero Super Splendor",
         "orientation": "h",
         "showlegend": true,
         "textposition": "auto",
         "type": "bar",
         "x": [
          0.2
         ],
         "xaxis": "x",
         "y": [
          "Hero Super Splendor"
         ],
         "yaxis": "y"
        },
        {
         "alignmentgroup": "True",
         "hovertemplate": "Car_Name=%{y}<br>Selling_Price=%{x}<extra></extra>",
         "legendgroup": "Honda Activa 125",
         "marker": {
          "color": "#636efa",
          "pattern": {
           "shape": ""
          }
         },
         "name": "Honda Activa 125",
         "offsetgroup": "Honda Activa 125",
         "orientation": "h",
         "showlegend": true,
         "textposition": "auto",
         "type": "bar",
         "x": [
          0.35
         ],
         "xaxis": "x",
         "y": [
          "Honda Activa 125"
         ],
         "yaxis": "y"
        },
        {
         "alignmentgroup": "True",
         "hovertemplate": "Car_Name=%{y}<br>Selling_Price=%{x}<extra></extra>",
         "legendgroup": "Honda Activa 4G",
         "marker": {
          "color": "#EF553B",
          "pattern": {
           "shape": ""
          }
         },
         "name": "Honda Activa 4G",
         "offsetgroup": "Honda Activa 4G",
         "orientation": "h",
         "showlegend": true,
         "textposition": "auto",
         "type": "bar",
         "x": [
          0.46499999999999997
         ],
         "xaxis": "x",
         "y": [
          "Honda Activa 4G"
         ],
         "yaxis": "y"
        },
        {
         "alignmentgroup": "True",
         "hovertemplate": "Car_Name=%{y}<br>Selling_Price=%{x}<extra></extra>",
         "legendgroup": "Honda CB Hornet 160R",
         "marker": {
          "color": "#00cc96",
          "pattern": {
           "shape": ""
          }
         },
         "name": "Honda CB Hornet 160R",
         "offsetgroup": "Honda CB Hornet 160R",
         "orientation": "h",
         "showlegend": true,
         "textposition": "auto",
         "type": "bar",
         "x": [
          0.7166666666666667
         ],
         "xaxis": "x",
         "y": [
          "Honda CB Hornet 160R"
         ],
         "yaxis": "y"
        },
        {
         "alignmentgroup": "True",
         "hovertemplate": "Car_Name=%{y}<br>Selling_Price=%{x}<extra></extra>",
         "legendgroup": "Honda CB Shine",
         "marker": {
          "color": "#ab63fa",
          "pattern": {
           "shape": ""
          }
         },
         "name": "Honda CB Shine",
         "offsetgroup": "Honda CB Shine",
         "orientation": "h",
         "showlegend": true,
         "textposition": "auto",
         "type": "bar",
         "x": [
          0.21
         ],
         "xaxis": "x",
         "y": [
          "Honda CB Shine"
         ],
         "yaxis": "y"
        },
        {
         "alignmentgroup": "True",
         "hovertemplate": "Car_Name=%{y}<br>Selling_Price=%{x}<extra></extra>",
         "legendgroup": "Honda CB Trigger",
         "marker": {
          "color": "#FFA15A",
          "pattern": {
           "shape": ""
          }
         },
         "name": "Honda CB Trigger",
         "offsetgroup": "Honda CB Trigger",
         "orientation": "h",
         "showlegend": true,
         "textposition": "auto",
         "type": "bar",
         "x": [
          0.42
         ],
         "xaxis": "x",
         "y": [
          "Honda CB Trigger"
         ],
         "yaxis": "y"
        },
        {
         "alignmentgroup": "True",
         "hovertemplate": "Car_Name=%{y}<br>Selling_Price=%{x}<extra></extra>",
         "legendgroup": "Honda CB Unicorn",
         "marker": {
          "color": "#19d3f3",
          "pattern": {
           "shape": ""
          }
         },
         "name": "Honda CB Unicorn",
         "offsetgroup": "Honda CB Unicorn",
         "orientation": "h",
         "showlegend": true,
         "textposition": "auto",
         "type": "bar",
         "x": [
          0.38
         ],
         "xaxis": "x",
         "y": [
          "Honda CB Unicorn"
         ],
         "yaxis": "y"
        },
        {
         "alignmentgroup": "True",
         "hovertemplate": "Car_Name=%{y}<br>Selling_Price=%{x}<extra></extra>",
         "legendgroup": "Honda CB twister",
         "marker": {
          "color": "#FF6692",
          "pattern": {
           "shape": ""
          }
         },
         "name": "Honda CB twister",
         "offsetgroup": "Honda CB twister",
         "orientation": "h",
         "showlegend": true,
         "textposition": "auto",
         "type": "bar",
         "x": [
          0.20500000000000002
         ],
         "xaxis": "x",
         "y": [
          "Honda CB twister"
         ],
         "yaxis": "y"
        },
        {
         "alignmentgroup": "True",
         "hovertemplate": "Car_Name=%{y}<br>Selling_Price=%{x}<extra></extra>",
         "legendgroup": "Honda CBR 150",
         "marker": {
          "color": "#B6E880",
          "pattern": {
           "shape": ""
          }
         },
         "name": "Honda CBR 150",
         "offsetgroup": "Honda CBR 150",
         "orientation": "h",
         "showlegend": true,
         "textposition": "auto",
         "type": "bar",
         "x": [
          0.625
         ],
         "xaxis": "x",
         "y": [
          "Honda CBR 150"
         ],
         "yaxis": "y"
        },
        {
         "alignmentgroup": "True",
         "hovertemplate": "Car_Name=%{y}<br>Selling_Price=%{x}<extra></extra>",
         "legendgroup": "Honda Dream Yuga ",
         "marker": {
          "color": "#FF97FF",
          "pattern": {
           "shape": ""
          }
         },
         "name": "Honda Dream Yuga ",
         "offsetgroup": "Honda Dream Yuga ",
         "orientation": "h",
         "showlegend": true,
         "textposition": "auto",
         "type": "bar",
         "x": [
          0.48
         ],
         "xaxis": "x",
         "y": [
          "Honda Dream Yuga "
         ],
         "yaxis": "y"
        },
        {
         "alignmentgroup": "True",
         "hovertemplate": "Car_Name=%{y}<br>Selling_Price=%{x}<extra></extra>",
         "legendgroup": "Honda Karizma",
         "marker": {
          "color": "#FECB52",
          "pattern": {
           "shape": ""
          }
         },
         "name": "Honda Karizma",
         "offsetgroup": "Honda Karizma",
         "orientation": "h",
         "showlegend": true,
         "textposition": "auto",
         "type": "bar",
         "x": [
          0.32999999999999996
         ],
         "xaxis": "x",
         "y": [
          "Honda Karizma"
         ],
         "yaxis": "y"
        },
        {
         "alignmentgroup": "True",
         "hovertemplate": "Car_Name=%{y}<br>Selling_Price=%{x}<extra></extra>",
         "legendgroup": "Hyosung GT250R",
         "marker": {
          "color": "#636efa",
          "pattern": {
           "shape": ""
          }
         },
         "name": "Hyosung GT250R",
         "offsetgroup": "Hyosung GT250R",
         "orientation": "h",
         "showlegend": true,
         "textposition": "auto",
         "type": "bar",
         "x": [
          1.35
         ],
         "xaxis": "x",
         "y": [
          "Hyosung GT250R"
         ],
         "yaxis": "y"
        },
        {
         "alignmentgroup": "True",
         "hovertemplate": "Car_Name=%{y}<br>Selling_Price=%{x}<extra></extra>",
         "legendgroup": "KTM 390 Duke ",
         "marker": {
          "color": "#EF553B",
          "pattern": {
           "shape": ""
          }
         },
         "name": "KTM 390 Duke ",
         "offsetgroup": "KTM 390 Duke ",
         "orientation": "h",
         "showlegend": true,
         "textposition": "auto",
         "type": "bar",
         "x": [
          1.15
         ],
         "xaxis": "x",
         "y": [
          "KTM 390 Duke "
         ],
         "yaxis": "y"
        },
        {
         "alignmentgroup": "True",
         "hovertemplate": "Car_Name=%{y}<br>Selling_Price=%{x}<extra></extra>",
         "legendgroup": "KTM RC200",
         "marker": {
          "color": "#00cc96",
          "pattern": {
           "shape": ""
          }
         },
         "name": "KTM RC200",
         "offsetgroup": "KTM RC200",
         "orientation": "h",
         "showlegend": true,
         "textposition": "auto",
         "type": "bar",
         "x": [
          1.4249999999999998
         ],
         "xaxis": "x",
         "y": [
          "KTM RC200"
         ],
         "yaxis": "y"
        },
        {
         "alignmentgroup": "True",
         "hovertemplate": "Car_Name=%{y}<br>Selling_Price=%{x}<extra></extra>",
         "legendgroup": "KTM RC390",
         "marker": {
          "color": "#ab63fa",
          "pattern": {
           "shape": ""
          }
         },
         "name": "KTM RC390",
         "offsetgroup": "KTM RC390",
         "orientation": "h",
         "showlegend": true,
         "textposition": "auto",
         "type": "bar",
         "x": [
          1.35
         ],
         "xaxis": "x",
         "y": [
          "KTM RC390"
         ],
         "yaxis": "y"
        },
        {
         "alignmentgroup": "True",
         "hovertemplate": "Car_Name=%{y}<br>Selling_Price=%{x}<extra></extra>",
         "legendgroup": "Mahindra Mojo XT300",
         "marker": {
          "color": "#FFA15A",
          "pattern": {
           "shape": ""
          }
         },
         "name": "Mahindra Mojo XT300",
         "offsetgroup": "Mahindra Mojo XT300",
         "orientation": "h",
         "showlegend": true,
         "textposition": "auto",
         "type": "bar",
         "x": [
          1.15
         ],
         "xaxis": "x",
         "y": [
          "Mahindra Mojo XT300"
         ],
         "yaxis": "y"
        },
        {
         "alignmentgroup": "True",
         "hovertemplate": "Car_Name=%{y}<br>Selling_Price=%{x}<extra></extra>",
         "legendgroup": "Royal Enfield Bullet 350",
         "marker": {
          "color": "#19d3f3",
          "pattern": {
           "shape": ""
          }
         },
         "name": "Royal Enfield Bullet 350",
         "offsetgroup": "Royal Enfield Bullet 350",
         "orientation": "h",
         "showlegend": true,
         "textposition": "auto",
         "type": "bar",
         "x": [
          1.05
         ],
         "xaxis": "x",
         "y": [
          "Royal Enfield Bullet 350"
         ],
         "yaxis": "y"
        },
        {
         "alignmentgroup": "True",
         "hovertemplate": "Car_Name=%{y}<br>Selling_Price=%{x}<extra></extra>",
         "legendgroup": "Royal Enfield Classic 350",
         "marker": {
          "color": "#FF6692",
          "pattern": {
           "shape": ""
          }
         },
         "name": "Royal Enfield Classic 350",
         "offsetgroup": "Royal Enfield Classic 350",
         "orientation": "h",
         "showlegend": true,
         "textposition": "auto",
         "type": "bar",
         "x": [
          1.1442857142857144
         ],
         "xaxis": "x",
         "y": [
          "Royal Enfield Classic 350"
         ],
         "yaxis": "y"
        },
        {
         "alignmentgroup": "True",
         "hovertemplate": "Car_Name=%{y}<br>Selling_Price=%{x}<extra></extra>",
         "legendgroup": "Royal Enfield Classic 500",
         "marker": {
          "color": "#B6E880",
          "pattern": {
           "shape": ""
          }
         },
         "name": "Royal Enfield Classic 500",
         "offsetgroup": "Royal Enfield Classic 500",
         "orientation": "h",
         "showlegend": true,
         "textposition": "auto",
         "type": "bar",
         "x": [
          0.925
         ],
         "xaxis": "x",
         "y": [
          "Royal Enfield Classic 500"
         ],
         "yaxis": "y"
        },
        {
         "alignmentgroup": "True",
         "hovertemplate": "Car_Name=%{y}<br>Selling_Price=%{x}<extra></extra>",
         "legendgroup": "Royal Enfield Thunder 350",
         "marker": {
          "color": "#FF97FF",
          "pattern": {
           "shape": ""
          }
         },
         "name": "Royal Enfield Thunder 350",
         "offsetgroup": "Royal Enfield Thunder 350",
         "orientation": "h",
         "showlegend": true,
         "textposition": "auto",
         "type": "bar",
         "x": [
          1.1625
         ],
         "xaxis": "x",
         "y": [
          "Royal Enfield Thunder 350"
         ],
         "yaxis": "y"
        },
        {
         "alignmentgroup": "True",
         "hovertemplate": "Car_Name=%{y}<br>Selling_Price=%{x}<extra></extra>",
         "legendgroup": "Royal Enfield Thunder 500",
         "marker": {
          "color": "#FECB52",
          "pattern": {
           "shape": ""
          }
         },
         "name": "Royal Enfield Thunder 500",
         "offsetgroup": "Royal Enfield Thunder 500",
         "orientation": "h",
         "showlegend": true,
         "textposition": "auto",
         "type": "bar",
         "x": [
          1.3
         ],
         "xaxis": "x",
         "y": [
          "Royal Enfield Thunder 500"
         ],
         "yaxis": "y"
        },
        {
         "alignmentgroup": "True",
         "hovertemplate": "Car_Name=%{y}<br>Selling_Price=%{x}<extra></extra>",
         "legendgroup": "Suzuki Access 125",
         "marker": {
          "color": "#636efa",
          "pattern": {
           "shape": ""
          }
         },
         "name": "Suzuki Access 125",
         "offsetgroup": "Suzuki Access 125",
         "orientation": "h",
         "showlegend": true,
         "textposition": "auto",
         "type": "bar",
         "x": [
          0.25
         ],
         "xaxis": "x",
         "y": [
          "Suzuki Access 125"
         ],
         "yaxis": "y"
        },
        {
         "alignmentgroup": "True",
         "hovertemplate": "Car_Name=%{y}<br>Selling_Price=%{x}<extra></extra>",
         "legendgroup": "TVS Apache RTR 160",
         "marker": {
          "color": "#EF553B",
          "pattern": {
           "shape": ""
          }
         },
         "name": "TVS Apache RTR 160",
         "offsetgroup": "TVS Apache RTR 160",
         "orientation": "h",
         "showlegend": true,
         "textposition": "auto",
         "type": "bar",
         "x": [
          0.5566666666666666
         ],
         "xaxis": "x",
         "y": [
          "TVS Apache RTR 160"
         ],
         "yaxis": "y"
        },
        {
         "alignmentgroup": "True",
         "hovertemplate": "Car_Name=%{y}<br>Selling_Price=%{x}<extra></extra>",
         "legendgroup": "TVS Apache RTR 180",
         "marker": {
          "color": "#00cc96",
          "pattern": {
           "shape": ""
          }
         },
         "name": "TVS Apache RTR 180",
         "offsetgroup": "TVS Apache RTR 180",
         "orientation": "h",
         "showlegend": true,
         "textposition": "auto",
         "type": "bar",
         "x": [
          0.475
         ],
         "xaxis": "x",
         "y": [
          "TVS Apache RTR 180"
         ],
         "yaxis": "y"
        },
        {
         "alignmentgroup": "True",
         "hovertemplate": "Car_Name=%{y}<br>Selling_Price=%{x}<extra></extra>",
         "legendgroup": "TVS Jupyter",
         "marker": {
          "color": "#ab63fa",
          "pattern": {
           "shape": ""
          }
         },
         "name": "TVS Jupyter",
         "offsetgroup": "TVS Jupyter",
         "orientation": "h",
         "showlegend": true,
         "textposition": "auto",
         "type": "bar",
         "x": [
          0.35
         ],
         "xaxis": "x",
         "y": [
          "TVS Jupyter"
         ],
         "yaxis": "y"
        },
        {
         "alignmentgroup": "True",
         "hovertemplate": "Car_Name=%{y}<br>Selling_Price=%{x}<extra></extra>",
         "legendgroup": "TVS Sport ",
         "marker": {
          "color": "#FFA15A",
          "pattern": {
           "shape": ""
          }
         },
         "name": "TVS Sport ",
         "offsetgroup": "TVS Sport ",
         "orientation": "h",
         "showlegend": true,
         "textposition": "auto",
         "type": "bar",
         "x": [
          0.48
         ],
         "xaxis": "x",
         "y": [
          "TVS Sport "
         ],
         "yaxis": "y"
        },
        {
         "alignmentgroup": "True",
         "hovertemplate": "Car_Name=%{y}<br>Selling_Price=%{x}<extra></extra>",
         "legendgroup": "TVS Wego",
         "marker": {
          "color": "#19d3f3",
          "pattern": {
           "shape": ""
          }
         },
         "name": "TVS Wego",
         "offsetgroup": "TVS Wego",
         "orientation": "h",
         "showlegend": true,
         "textposition": "auto",
         "type": "bar",
         "x": [
          0.25
         ],
         "xaxis": "x",
         "y": [
          "TVS Wego"
         ],
         "yaxis": "y"
        },
        {
         "alignmentgroup": "True",
         "hovertemplate": "Car_Name=%{y}<br>Selling_Price=%{x}<extra></extra>",
         "legendgroup": "UM Renegade Mojave",
         "marker": {
          "color": "#FF6692",
          "pattern": {
           "shape": ""
          }
         },
         "name": "UM Renegade Mojave",
         "offsetgroup": "UM Renegade Mojave",
         "orientation": "h",
         "showlegend": true,
         "textposition": "auto",
         "type": "bar",
         "x": [
          1.7
         ],
         "xaxis": "x",
         "y": [
          "UM Renegade Mojave"
         ],
         "yaxis": "y"
        },
        {
         "alignmentgroup": "True",
         "hovertemplate": "Car_Name=%{y}<br>Selling_Price=%{x}<extra></extra>",
         "legendgroup": "Yamaha FZ  v 2.0",
         "marker": {
          "color": "#B6E880",
          "pattern": {
           "shape": ""
          }
         },
         "name": "Yamaha FZ  v 2.0",
         "offsetgroup": "Yamaha FZ  v 2.0",
         "orientation": "h",
         "showlegend": true,
         "textposition": "auto",
         "type": "bar",
         "x": [
          0.6
         ],
         "xaxis": "x",
         "y": [
          "Yamaha FZ  v 2.0"
         ],
         "yaxis": "y"
        },
        {
         "alignmentgroup": "True",
         "hovertemplate": "Car_Name=%{y}<br>Selling_Price=%{x}<extra></extra>",
         "legendgroup": "Yamaha FZ 16",
         "marker": {
          "color": "#FF97FF",
          "pattern": {
           "shape": ""
          }
         },
         "name": "Yamaha FZ 16",
         "offsetgroup": "Yamaha FZ 16",
         "orientation": "h",
         "showlegend": true,
         "textposition": "auto",
         "type": "bar",
         "x": [
          0.75
         ],
         "xaxis": "x",
         "y": [
          "Yamaha FZ 16"
         ],
         "yaxis": "y"
        },
        {
         "alignmentgroup": "True",
         "hovertemplate": "Car_Name=%{y}<br>Selling_Price=%{x}<extra></extra>",
         "legendgroup": "Yamaha FZ S ",
         "marker": {
          "color": "#FECB52",
          "pattern": {
           "shape": ""
          }
         },
         "name": "Yamaha FZ S ",
         "offsetgroup": "Yamaha FZ S ",
         "orientation": "h",
         "showlegend": true,
         "textposition": "auto",
         "type": "bar",
         "x": [
          0.4
         ],
         "xaxis": "x",
         "y": [
          "Yamaha FZ S "
         ],
         "yaxis": "y"
        },
        {
         "alignmentgroup": "True",
         "hovertemplate": "Car_Name=%{y}<br>Selling_Price=%{x}<extra></extra>",
         "legendgroup": "Yamaha FZ S V 2.0",
         "marker": {
          "color": "#636efa",
          "pattern": {
           "shape": ""
          }
         },
         "name": "Yamaha FZ S V 2.0",
         "offsetgroup": "Yamaha FZ S V 2.0",
         "orientation": "h",
         "showlegend": true,
         "textposition": "auto",
         "type": "bar",
         "x": [
          0.6033333333333334
         ],
         "xaxis": "x",
         "y": [
          "Yamaha FZ S V 2.0"
         ],
         "yaxis": "y"
        },
        {
         "alignmentgroup": "True",
         "hovertemplate": "Car_Name=%{y}<br>Selling_Price=%{x}<extra></extra>",
         "legendgroup": "Yamaha Fazer ",
         "marker": {
          "color": "#EF553B",
          "pattern": {
           "shape": ""
          }
         },
         "name": "Yamaha Fazer ",
         "offsetgroup": "Yamaha Fazer ",
         "orientation": "h",
         "showlegend": true,
         "textposition": "auto",
         "type": "bar",
         "x": [
          0.5
         ],
         "xaxis": "x",
         "y": [
          "Yamaha Fazer "
         ],
         "yaxis": "y"
        },
        {
         "alignmentgroup": "True",
         "hovertemplate": "Car_Name=%{y}<br>Selling_Price=%{x}<extra></extra>",
         "legendgroup": "alto 800",
         "marker": {
          "color": "#00cc96",
          "pattern": {
           "shape": ""
          }
         },
         "name": "alto 800",
         "offsetgroup": "alto 800",
         "orientation": "h",
         "showlegend": true,
         "textposition": "auto",
         "type": "bar",
         "x": [
          2.85
         ],
         "xaxis": "x",
         "y": [
          "alto 800"
         ],
         "yaxis": "y"
        },
        {
         "alignmentgroup": "True",
         "hovertemplate": "Car_Name=%{y}<br>Selling_Price=%{x}<extra></extra>",
         "legendgroup": "alto k10",
         "marker": {
          "color": "#ab63fa",
          "pattern": {
           "shape": ""
          }
         },
         "name": "alto k10",
         "offsetgroup": "alto k10",
         "orientation": "h",
         "showlegend": true,
         "textposition": "auto",
         "type": "bar",
         "x": [
          2.57
         ],
         "xaxis": "x",
         "y": [
          "alto k10"
         ],
         "yaxis": "y"
        },
        {
         "alignmentgroup": "True",
         "hovertemplate": "Car_Name=%{y}<br>Selling_Price=%{x}<extra></extra>",
         "legendgroup": "amaze",
         "marker": {
          "color": "#FFA15A",
          "pattern": {
           "shape": ""
          }
         },
         "name": "amaze",
         "offsetgroup": "amaze",
         "orientation": "h",
         "showlegend": true,
         "textposition": "auto",
         "type": "bar",
         "x": [
          4.2214285714285715
         ],
         "xaxis": "x",
         "y": [
          "amaze"
         ],
         "yaxis": "y"
        },
        {
         "alignmentgroup": "True",
         "hovertemplate": "Car_Name=%{y}<br>Selling_Price=%{x}<extra></extra>",
         "legendgroup": "baleno",
         "marker": {
          "color": "#19d3f3",
          "pattern": {
           "shape": ""
          }
         },
         "name": "baleno",
         "offsetgroup": "baleno",
         "orientation": "h",
         "showlegend": true,
         "textposition": "auto",
         "type": "bar",
         "x": [
          5.85
         ],
         "xaxis": "x",
         "y": [
          "baleno"
         ],
         "yaxis": "y"
        },
        {
         "alignmentgroup": "True",
         "hovertemplate": "Car_Name=%{y}<br>Selling_Price=%{x}<extra></extra>",
         "legendgroup": "brio",
         "marker": {
          "color": "#FF6692",
          "pattern": {
           "shape": ""
          }
         },
         "name": "brio",
         "offsetgroup": "brio",
         "orientation": "h",
         "showlegend": true,
         "textposition": "auto",
         "type": "bar",
         "x": [
          4.745
         ],
         "xaxis": "x",
         "y": [
          "brio"
         ],
         "yaxis": "y"
        },
        {
         "alignmentgroup": "True",
         "hovertemplate": "Car_Name=%{y}<br>Selling_Price=%{x}<extra></extra>",
         "legendgroup": "camry",
         "marker": {
          "color": "#B6E880",
          "pattern": {
           "shape": ""
          }
         },
         "name": "camry",
         "offsetgroup": "camry",
         "orientation": "h",
         "showlegend": true,
         "textposition": "auto",
         "type": "bar",
         "x": [
          2.5
         ],
         "xaxis": "x",
         "y": [
          "camry"
         ],
         "yaxis": "y"
        },
        {
         "alignmentgroup": "True",
         "hovertemplate": "Car_Name=%{y}<br>Selling_Price=%{x}<extra></extra>",
         "legendgroup": "ciaz",
         "marker": {
          "color": "#FF97FF",
          "pattern": {
           "shape": ""
          }
         },
         "name": "ciaz",
         "offsetgroup": "ciaz",
         "orientation": "h",
         "showlegend": true,
         "textposition": "auto",
         "type": "bar",
         "x": [
          7.472222222222222
         ],
         "xaxis": "x",
         "y": [
          "ciaz"
         ],
         "yaxis": "y"
        },
        {
         "alignmentgroup": "True",
         "hovertemplate": "Car_Name=%{y}<br>Selling_Price=%{x}<extra></extra>",
         "legendgroup": "city",
         "marker": {
          "color": "#FECB52",
          "pattern": {
           "shape": ""
          }
         },
         "name": "city",
         "offsetgroup": "city",
         "orientation": "h",
         "showlegend": true,
         "textposition": "auto",
         "type": "bar",
         "x": [
          7.4192307692307695
         ],
         "xaxis": "x",
         "y": [
          "city"
         ],
         "yaxis": "y"
        },
        {
         "alignmentgroup": "True",
         "hovertemplate": "Car_Name=%{y}<br>Selling_Price=%{x}<extra></extra>",
         "legendgroup": "corolla",
         "marker": {
          "color": "#636efa",
          "pattern": {
           "shape": ""
          }
         },
         "name": "corolla",
         "offsetgroup": "corolla",
         "orientation": "h",
         "showlegend": true,
         "textposition": "auto",
         "type": "bar",
         "x": [
          1.5
         ],
         "xaxis": "x",
         "y": [
          "corolla"
         ],
         "yaxis": "y"
        },
        {
         "alignmentgroup": "True",
         "hovertemplate": "Car_Name=%{y}<br>Selling_Price=%{x}<extra></extra>",
         "legendgroup": "corolla altis",
         "marker": {
          "color": "#EF553B",
          "pattern": {
           "shape": ""
          }
         },
         "name": "corolla altis",
         "offsetgroup": "corolla altis",
         "orientation": "h",
         "showlegend": true,
         "textposition": "auto",
         "type": "bar",
         "x": [
          7.1831249999999995
         ],
         "xaxis": "x",
         "y": [
          "corolla altis"
         ],
         "yaxis": "y"
        },
        {
         "alignmentgroup": "True",
         "hovertemplate": "Car_Name=%{y}<br>Selling_Price=%{x}<extra></extra>",
         "legendgroup": "creta",
         "marker": {
          "color": "#00cc96",
          "pattern": {
           "shape": ""
          }
         },
         "name": "creta",
         "offsetgroup": "creta",
         "orientation": "h",
         "showlegend": true,
         "textposition": "auto",
         "type": "bar",
         "x": [
          11.799999999999999
         ],
         "xaxis": "x",
         "y": [
          "creta"
         ],
         "yaxis": "y"
        },
        {
         "alignmentgroup": "True",
         "hovertemplate": "Car_Name=%{y}<br>Selling_Price=%{x}<extra></extra>",
         "legendgroup": "dzire",
         "marker": {
          "color": "#ab63fa",
          "pattern": {
           "shape": ""
          }
         },
         "name": "dzire",
         "offsetgroup": "dzire",
         "orientation": "h",
         "showlegend": true,
         "textposition": "auto",
         "type": "bar",
         "x": [
          4.475
         ],
         "xaxis": "x",
         "y": [
          "dzire"
         ],
         "yaxis": "y"
        },
        {
         "alignmentgroup": "True",
         "hovertemplate": "Car_Name=%{y}<br>Selling_Price=%{x}<extra></extra>",
         "legendgroup": "elantra",
         "marker": {
          "color": "#FFA15A",
          "pattern": {
           "shape": ""
          }
         },
         "name": "elantra",
         "offsetgroup": "elantra",
         "orientation": "h",
         "showlegend": true,
         "textposition": "auto",
         "type": "bar",
         "x": [
          11.6
         ],
         "xaxis": "x",
         "y": [
          "elantra"
         ],
         "yaxis": "y"
        },
        {
         "alignmentgroup": "True",
         "hovertemplate": "Car_Name=%{y}<br>Selling_Price=%{x}<extra></extra>",
         "legendgroup": "eon",
         "marker": {
          "color": "#19d3f3",
          "pattern": {
           "shape": ""
          }
         },
         "name": "eon",
         "offsetgroup": "eon",
         "orientation": "h",
         "showlegend": true,
         "textposition": "auto",
         "type": "bar",
         "x": [
          2.9
         ],
         "xaxis": "x",
         "y": [
          "eon"
         ],
         "yaxis": "y"
        },
        {
         "alignmentgroup": "True",
         "hovertemplate": "Car_Name=%{y}<br>Selling_Price=%{x}<extra></extra>",
         "legendgroup": "ertiga",
         "marker": {
          "color": "#FF6692",
          "pattern": {
           "shape": ""
          }
         },
         "name": "ertiga",
         "offsetgroup": "ertiga",
         "orientation": "h",
         "showlegend": true,
         "textposition": "auto",
         "type": "bar",
         "x": [
          6.7749999999999995
         ],
         "xaxis": "x",
         "y": [
          "ertiga"
         ],
         "yaxis": "y"
        },
        {
         "alignmentgroup": "True",
         "hovertemplate": "Car_Name=%{y}<br>Selling_Price=%{x}<extra></extra>",
         "legendgroup": "etios cross",
         "marker": {
          "color": "#B6E880",
          "pattern": {
           "shape": ""
          }
         },
         "name": "etios cross",
         "offsetgroup": "etios cross",
         "orientation": "h",
         "showlegend": true,
         "textposition": "auto",
         "type": "bar",
         "x": [
          4.633333333333334
         ],
         "xaxis": "x",
         "y": [
          "etios cross"
         ],
         "yaxis": "y"
        },
        {
         "alignmentgroup": "True",
         "hovertemplate": "Car_Name=%{y}<br>Selling_Price=%{x}<extra></extra>",
         "legendgroup": "etios g",
         "marker": {
          "color": "#FF97FF",
          "pattern": {
           "shape": ""
          }
         },
         "name": "etios g",
         "offsetgroup": "etios g",
         "orientation": "h",
         "showlegend": true,
         "textposition": "auto",
         "type": "bar",
         "x": [
          4.266666666666667
         ],
         "xaxis": "x",
         "y": [
          "etios g"
         ],
         "yaxis": "y"
        },
        {
         "alignmentgroup": "True",
         "hovertemplate": "Car_Name=%{y}<br>Selling_Price=%{x}<extra></extra>",
         "legendgroup": "etios gd",
         "marker": {
          "color": "#FECB52",
          "pattern": {
           "shape": ""
          }
         },
         "name": "etios gd",
         "offsetgroup": "etios gd",
         "orientation": "h",
         "showlegend": true,
         "textposition": "auto",
         "type": "bar",
         "x": [
          4.75
         ],
         "xaxis": "x",
         "y": [
          "etios gd"
         ],
         "yaxis": "y"
        },
        {
         "alignmentgroup": "True",
         "hovertemplate": "Car_Name=%{y}<br>Selling_Price=%{x}<extra></extra>",
         "legendgroup": "etios liva",
         "marker": {
          "color": "#636efa",
          "pattern": {
           "shape": ""
          }
         },
         "name": "etios liva",
         "offsetgroup": "etios liva",
         "orientation": "h",
         "showlegend": true,
         "textposition": "auto",
         "type": "bar",
         "x": [
          3.7
         ],
         "xaxis": "x",
         "y": [
          "etios liva"
         ],
         "yaxis": "y"
        },
        {
         "alignmentgroup": "True",
         "hovertemplate": "Car_Name=%{y}<br>Selling_Price=%{x}<extra></extra>",
         "legendgroup": "fortuner",
         "marker": {
          "color": "#EF553B",
          "pattern": {
           "shape": ""
          }
         },
         "name": "fortuner",
         "offsetgroup": "fortuner",
         "orientation": "h",
         "showlegend": true,
         "textposition": "auto",
         "type": "bar",
         "x": [
          18.685454545454544
         ],
         "xaxis": "x",
         "y": [
          "fortuner"
         ],
         "yaxis": "y"
        },
        {
         "alignmentgroup": "True",
         "hovertemplate": "Car_Name=%{y}<br>Selling_Price=%{x}<extra></extra>",
         "legendgroup": "grand i10",
         "marker": {
          "color": "#00cc96",
          "pattern": {
           "shape": ""
          }
         },
         "name": "grand i10",
         "offsetgroup": "grand i10",
         "orientation": "h",
         "showlegend": true,
         "textposition": "auto",
         "type": "bar",
         "x": [
          4.94375
         ],
         "xaxis": "x",
         "y": [
          "grand i10"
         ],
         "yaxis": "y"
        },
        {
         "alignmentgroup": "True",
         "hovertemplate": "Car_Name=%{y}<br>Selling_Price=%{x}<extra></extra>",
         "legendgroup": "i10",
         "marker": {
          "color": "#ab63fa",
          "pattern": {
           "shape": ""
          }
         },
         "name": "i10",
         "offsetgroup": "i10",
         "orientation": "h",
         "showlegend": true,
         "textposition": "auto",
         "type": "bar",
         "x": [
          3.06
         ],
         "xaxis": "x",
         "y": [
          "i10"
         ],
         "yaxis": "y"
        },
        {
         "alignmentgroup": "True",
         "hovertemplate": "Car_Name=%{y}<br>Selling_Price=%{x}<extra></extra>",
         "legendgroup": "i20",
         "marker": {
          "color": "#FFA15A",
          "pattern": {
           "shape": ""
          }
         },
         "name": "i20",
         "offsetgroup": "i20",
         "orientation": "h",
         "showlegend": true,
         "textposition": "auto",
         "type": "bar",
         "x": [
          4.766666666666667
         ],
         "xaxis": "x",
         "y": [
          "i20"
         ],
         "yaxis": "y"
        },
        {
         "alignmentgroup": "True",
         "hovertemplate": "Car_Name=%{y}<br>Selling_Price=%{x}<extra></extra>",
         "legendgroup": "ignis",
         "marker": {
          "color": "#19d3f3",
          "pattern": {
           "shape": ""
          }
         },
         "name": "ignis",
         "offsetgroup": "ignis",
         "orientation": "h",
         "showlegend": true,
         "textposition": "auto",
         "type": "bar",
         "x": [
          4.9
         ],
         "xaxis": "x",
         "y": [
          "ignis"
         ],
         "yaxis": "y"
        },
        {
         "alignmentgroup": "True",
         "hovertemplate": "Car_Name=%{y}<br>Selling_Price=%{x}<extra></extra>",
         "legendgroup": "innova",
         "marker": {
          "color": "#FF6692",
          "pattern": {
           "shape": ""
          }
         },
         "name": "innova",
         "offsetgroup": "innova",
         "orientation": "h",
         "showlegend": true,
         "textposition": "auto",
         "type": "bar",
         "x": [
          12.777777777777779
         ],
         "xaxis": "x",
         "y": [
          "innova"
         ],
         "yaxis": "y"
        },
        {
         "alignmentgroup": "True",
         "hovertemplate": "Car_Name=%{y}<br>Selling_Price=%{x}<extra></extra>",
         "legendgroup": "jazz",
         "marker": {
          "color": "#B6E880",
          "pattern": {
           "shape": ""
          }
         },
         "name": "jazz",
         "offsetgroup": "jazz",
         "orientation": "h",
         "showlegend": true,
         "textposition": "auto",
         "type": "bar",
         "x": [
          5.828571428571428
         ],
         "xaxis": "x",
         "y": [
          "jazz"
         ],
         "yaxis": "y"
        },
        {
         "alignmentgroup": "True",
         "hovertemplate": "Car_Name=%{y}<br>Selling_Price=%{x}<extra></extra>",
         "legendgroup": "land cruiser",
         "marker": {
          "color": "#FF97FF",
          "pattern": {
           "shape": ""
          }
         },
         "name": "land cruiser",
         "offsetgroup": "land cruiser",
         "orientation": "h",
         "showlegend": true,
         "textposition": "auto",
         "type": "bar",
         "x": [
          35
         ],
         "xaxis": "x",
         "y": [
          "land cruiser"
         ],
         "yaxis": "y"
        },
        {
         "alignmentgroup": "True",
         "hovertemplate": "Car_Name=%{y}<br>Selling_Price=%{x}<extra></extra>",
         "legendgroup": "omni",
         "marker": {
          "color": "#FECB52",
          "pattern": {
           "shape": ""
          }
         },
         "name": "omni",
         "offsetgroup": "omni",
         "orientation": "h",
         "showlegend": true,
         "textposition": "auto",
         "type": "bar",
         "x": [
          1.25
         ],
         "xaxis": "x",
         "y": [
          "omni"
         ],
         "yaxis": "y"
        },
        {
         "alignmentgroup": "True",
         "hovertemplate": "Car_Name=%{y}<br>Selling_Price=%{x}<extra></extra>",
         "legendgroup": "ritz",
         "marker": {
          "color": "#636efa",
          "pattern": {
           "shape": ""
          }
         },
         "name": "ritz",
         "offsetgroup": "ritz",
         "orientation": "h",
         "showlegend": true,
         "textposition": "auto",
         "type": "bar",
         "x": [
          2.8625
         ],
         "xaxis": "x",
         "y": [
          "ritz"
         ],
         "yaxis": "y"
        },
        {
         "alignmentgroup": "True",
         "hovertemplate": "Car_Name=%{y}<br>Selling_Price=%{x}<extra></extra>",
         "legendgroup": "s cross",
         "marker": {
          "color": "#EF553B",
          "pattern": {
           "shape": ""
          }
         },
         "name": "s cross",
         "offsetgroup": "s cross",
         "orientation": "h",
         "showlegend": true,
         "textposition": "auto",
         "type": "bar",
         "x": [
          6.5
         ],
         "xaxis": "x",
         "y": [
          "s cross"
         ],
         "yaxis": "y"
        },
        {
         "alignmentgroup": "True",
         "hovertemplate": "Car_Name=%{y}<br>Selling_Price=%{x}<extra></extra>",
         "legendgroup": "swift",
         "marker": {
          "color": "#00cc96",
          "pattern": {
           "shape": ""
          }
         },
         "name": "swift",
         "offsetgroup": "swift",
         "orientation": "h",
         "showlegend": true,
         "textposition": "auto",
         "type": "bar",
         "x": [
          4.54
         ],
         "xaxis": "x",
         "y": [
          "swift"
         ],
         "yaxis": "y"
        },
        {
         "alignmentgroup": "True",
         "hovertemplate": "Car_Name=%{y}<br>Selling_Price=%{x}<extra></extra>",
         "legendgroup": "sx4",
         "marker": {
          "color": "#ab63fa",
          "pattern": {
           "shape": ""
          }
         },
         "name": "sx4",
         "offsetgroup": "sx4",
         "orientation": "h",
         "showlegend": true,
         "textposition": "auto",
         "type": "bar",
         "x": [
          3.158333333333333
         ],
         "xaxis": "x",
         "y": [
          "sx4"
         ],
         "yaxis": "y"
        },
        {
         "alignmentgroup": "True",
         "hovertemplate": "Car_Name=%{y}<br>Selling_Price=%{x}<extra></extra>",
         "legendgroup": "verna",
         "marker": {
          "color": "#FFA15A",
          "pattern": {
           "shape": ""
          }
         },
         "name": "verna",
         "offsetgroup": "verna",
         "orientation": "h",
         "showlegend": true,
         "textposition": "auto",
         "type": "bar",
         "x": [
          6.107857142857143
         ],
         "xaxis": "x",
         "y": [
          "verna"
         ],
         "yaxis": "y"
        },
        {
         "alignmentgroup": "True",
         "hovertemplate": "Car_Name=%{y}<br>Selling_Price=%{x}<extra></extra>",
         "legendgroup": "vitara brezza",
         "marker": {
          "color": "#19d3f3",
          "pattern": {
           "shape": ""
          }
         },
         "name": "vitara brezza",
         "offsetgroup": "vitara brezza",
         "orientation": "h",
         "showlegend": true,
         "textposition": "auto",
         "type": "bar",
         "x": [
          9.25
         ],
         "xaxis": "x",
         "y": [
          "vitara brezza"
         ],
         "yaxis": "y"
        },
        {
         "alignmentgroup": "True",
         "hovertemplate": "Car_Name=%{y}<br>Selling_Price=%{x}<extra></extra>",
         "legendgroup": "wagon r",
         "marker": {
          "color": "#FF6692",
          "pattern": {
           "shape": ""
          }
         },
         "name": "wagon r",
         "offsetgroup": "wagon r",
         "orientation": "h",
         "showlegend": true,
         "textposition": "auto",
         "type": "bar",
         "x": [
          2.5125
         ],
         "xaxis": "x",
         "y": [
          "wagon r"
         ],
         "yaxis": "y"
        },
        {
         "alignmentgroup": "True",
         "hovertemplate": "Car_Name=%{y}<br>Selling_Price=%{x}<extra></extra>",
         "legendgroup": "xcent",
         "marker": {
          "color": "#B6E880",
          "pattern": {
           "shape": ""
          }
         },
         "name": "xcent",
         "offsetgroup": "xcent",
         "orientation": "h",
         "showlegend": true,
         "textposition": "auto",
         "type": "bar",
         "x": [
          4.966666666666667
         ],
         "xaxis": "x",
         "y": [
          "xcent"
         ],
         "yaxis": "y"
        }
       ],
       "layout": {
        "barmode": "relative",
        "legend": {
         "title": {
          "text": "Car_Name"
         },
         "tracegroupgap": 0
        },
        "margin": {
         "t": 60
        },
        "template": {
         "data": {
          "bar": [
           {
            "error_x": {
             "color": "#2a3f5f"
            },
            "error_y": {
             "color": "#2a3f5f"
            },
            "marker": {
             "line": {
              "color": "#E5ECF6",
              "width": 0.5
             },
             "pattern": {
              "fillmode": "overlay",
              "size": 10,
              "solidity": 0.2
             }
            },
            "type": "bar"
           }
          ],
          "barpolar": [
           {
            "marker": {
             "line": {
              "color": "#E5ECF6",
              "width": 0.5
             },
             "pattern": {
              "fillmode": "overlay",
              "size": 10,
              "solidity": 0.2
             }
            },
            "type": "barpolar"
           }
          ],
          "carpet": [
           {
            "aaxis": {
             "endlinecolor": "#2a3f5f",
             "gridcolor": "white",
             "linecolor": "white",
             "minorgridcolor": "white",
             "startlinecolor": "#2a3f5f"
            },
            "baxis": {
             "endlinecolor": "#2a3f5f",
             "gridcolor": "white",
             "linecolor": "white",
             "minorgridcolor": "white",
             "startlinecolor": "#2a3f5f"
            },
            "type": "carpet"
           }
          ],
          "choropleth": [
           {
            "colorbar": {
             "outlinewidth": 0,
             "ticks": ""
            },
            "type": "choropleth"
           }
          ],
          "contour": [
           {
            "colorbar": {
             "outlinewidth": 0,
             "ticks": ""
            },
            "colorscale": [
             [
              0,
              "#0d0887"
             ],
             [
              0.1111111111111111,
              "#46039f"
             ],
             [
              0.2222222222222222,
              "#7201a8"
             ],
             [
              0.3333333333333333,
              "#9c179e"
             ],
             [
              0.4444444444444444,
              "#bd3786"
             ],
             [
              0.5555555555555556,
              "#d8576b"
             ],
             [
              0.6666666666666666,
              "#ed7953"
             ],
             [
              0.7777777777777778,
              "#fb9f3a"
             ],
             [
              0.8888888888888888,
              "#fdca26"
             ],
             [
              1,
              "#f0f921"
             ]
            ],
            "type": "contour"
           }
          ],
          "contourcarpet": [
           {
            "colorbar": {
             "outlinewidth": 0,
             "ticks": ""
            },
            "type": "contourcarpet"
           }
          ],
          "heatmap": [
           {
            "colorbar": {
             "outlinewidth": 0,
             "ticks": ""
            },
            "colorscale": [
             [
              0,
              "#0d0887"
             ],
             [
              0.1111111111111111,
              "#46039f"
             ],
             [
              0.2222222222222222,
              "#7201a8"
             ],
             [
              0.3333333333333333,
              "#9c179e"
             ],
             [
              0.4444444444444444,
              "#bd3786"
             ],
             [
              0.5555555555555556,
              "#d8576b"
             ],
             [
              0.6666666666666666,
              "#ed7953"
             ],
             [
              0.7777777777777778,
              "#fb9f3a"
             ],
             [
              0.8888888888888888,
              "#fdca26"
             ],
             [
              1,
              "#f0f921"
             ]
            ],
            "type": "heatmap"
           }
          ],
          "heatmapgl": [
           {
            "colorbar": {
             "outlinewidth": 0,
             "ticks": ""
            },
            "colorscale": [
             [
              0,
              "#0d0887"
             ],
             [
              0.1111111111111111,
              "#46039f"
             ],
             [
              0.2222222222222222,
              "#7201a8"
             ],
             [
              0.3333333333333333,
              "#9c179e"
             ],
             [
              0.4444444444444444,
              "#bd3786"
             ],
             [
              0.5555555555555556,
              "#d8576b"
             ],
             [
              0.6666666666666666,
              "#ed7953"
             ],
             [
              0.7777777777777778,
              "#fb9f3a"
             ],
             [
              0.8888888888888888,
              "#fdca26"
             ],
             [
              1,
              "#f0f921"
             ]
            ],
            "type": "heatmapgl"
           }
          ],
          "histogram": [
           {
            "marker": {
             "pattern": {
              "fillmode": "overlay",
              "size": 10,
              "solidity": 0.2
             }
            },
            "type": "histogram"
           }
          ],
          "histogram2d": [
           {
            "colorbar": {
             "outlinewidth": 0,
             "ticks": ""
            },
            "colorscale": [
             [
              0,
              "#0d0887"
             ],
             [
              0.1111111111111111,
              "#46039f"
             ],
             [
              0.2222222222222222,
              "#7201a8"
             ],
             [
              0.3333333333333333,
              "#9c179e"
             ],
             [
              0.4444444444444444,
              "#bd3786"
             ],
             [
              0.5555555555555556,
              "#d8576b"
             ],
             [
              0.6666666666666666,
              "#ed7953"
             ],
             [
              0.7777777777777778,
              "#fb9f3a"
             ],
             [
              0.8888888888888888,
              "#fdca26"
             ],
             [
              1,
              "#f0f921"
             ]
            ],
            "type": "histogram2d"
           }
          ],
          "histogram2dcontour": [
           {
            "colorbar": {
             "outlinewidth": 0,
             "ticks": ""
            },
            "colorscale": [
             [
              0,
              "#0d0887"
             ],
             [
              0.1111111111111111,
              "#46039f"
             ],
             [
              0.2222222222222222,
              "#7201a8"
             ],
             [
              0.3333333333333333,
              "#9c179e"
             ],
             [
              0.4444444444444444,
              "#bd3786"
             ],
             [
              0.5555555555555556,
              "#d8576b"
             ],
             [
              0.6666666666666666,
              "#ed7953"
             ],
             [
              0.7777777777777778,
              "#fb9f3a"
             ],
             [
              0.8888888888888888,
              "#fdca26"
             ],
             [
              1,
              "#f0f921"
             ]
            ],
            "type": "histogram2dcontour"
           }
          ],
          "mesh3d": [
           {
            "colorbar": {
             "outlinewidth": 0,
             "ticks": ""
            },
            "type": "mesh3d"
           }
          ],
          "parcoords": [
           {
            "line": {
             "colorbar": {
              "outlinewidth": 0,
              "ticks": ""
             }
            },
            "type": "parcoords"
           }
          ],
          "pie": [
           {
            "automargin": true,
            "type": "pie"
           }
          ],
          "scatter": [
           {
            "fillpattern": {
             "fillmode": "overlay",
             "size": 10,
             "solidity": 0.2
            },
            "type": "scatter"
           }
          ],
          "scatter3d": [
           {
            "line": {
             "colorbar": {
              "outlinewidth": 0,
              "ticks": ""
             }
            },
            "marker": {
             "colorbar": {
              "outlinewidth": 0,
              "ticks": ""
             }
            },
            "type": "scatter3d"
           }
          ],
          "scattercarpet": [
           {
            "marker": {
             "colorbar": {
              "outlinewidth": 0,
              "ticks": ""
             }
            },
            "type": "scattercarpet"
           }
          ],
          "scattergeo": [
           {
            "marker": {
             "colorbar": {
              "outlinewidth": 0,
              "ticks": ""
             }
            },
            "type": "scattergeo"
           }
          ],
          "scattergl": [
           {
            "marker": {
             "colorbar": {
              "outlinewidth": 0,
              "ticks": ""
             }
            },
            "type": "scattergl"
           }
          ],
          "scattermapbox": [
           {
            "marker": {
             "colorbar": {
              "outlinewidth": 0,
              "ticks": ""
             }
            },
            "type": "scattermapbox"
           }
          ],
          "scatterpolar": [
           {
            "marker": {
             "colorbar": {
              "outlinewidth": 0,
              "ticks": ""
             }
            },
            "type": "scatterpolar"
           }
          ],
          "scatterpolargl": [
           {
            "marker": {
             "colorbar": {
              "outlinewidth": 0,
              "ticks": ""
             }
            },
            "type": "scatterpolargl"
           }
          ],
          "scatterternary": [
           {
            "marker": {
             "colorbar": {
              "outlinewidth": 0,
              "ticks": ""
             }
            },
            "type": "scatterternary"
           }
          ],
          "surface": [
           {
            "colorbar": {
             "outlinewidth": 0,
             "ticks": ""
            },
            "colorscale": [
             [
              0,
              "#0d0887"
             ],
             [
              0.1111111111111111,
              "#46039f"
             ],
             [
              0.2222222222222222,
              "#7201a8"
             ],
             [
              0.3333333333333333,
              "#9c179e"
             ],
             [
              0.4444444444444444,
              "#bd3786"
             ],
             [
              0.5555555555555556,
              "#d8576b"
             ],
             [
              0.6666666666666666,
              "#ed7953"
             ],
             [
              0.7777777777777778,
              "#fb9f3a"
             ],
             [
              0.8888888888888888,
              "#fdca26"
             ],
             [
              1,
              "#f0f921"
             ]
            ],
            "type": "surface"
           }
          ],
          "table": [
           {
            "cells": {
             "fill": {
              "color": "#EBF0F8"
             },
             "line": {
              "color": "white"
             }
            },
            "header": {
             "fill": {
              "color": "#C8D4E3"
             },
             "line": {
              "color": "white"
             }
            },
            "type": "table"
           }
          ]
         },
         "layout": {
          "annotationdefaults": {
           "arrowcolor": "#2a3f5f",
           "arrowhead": 0,
           "arrowwidth": 1
          },
          "autotypenumbers": "strict",
          "coloraxis": {
           "colorbar": {
            "outlinewidth": 0,
            "ticks": ""
           }
          },
          "colorscale": {
           "diverging": [
            [
             0,
             "#8e0152"
            ],
            [
             0.1,
             "#c51b7d"
            ],
            [
             0.2,
             "#de77ae"
            ],
            [
             0.3,
             "#f1b6da"
            ],
            [
             0.4,
             "#fde0ef"
            ],
            [
             0.5,
             "#f7f7f7"
            ],
            [
             0.6,
             "#e6f5d0"
            ],
            [
             0.7,
             "#b8e186"
            ],
            [
             0.8,
             "#7fbc41"
            ],
            [
             0.9,
             "#4d9221"
            ],
            [
             1,
             "#276419"
            ]
           ],
           "sequential": [
            [
             0,
             "#0d0887"
            ],
            [
             0.1111111111111111,
             "#46039f"
            ],
            [
             0.2222222222222222,
             "#7201a8"
            ],
            [
             0.3333333333333333,
             "#9c179e"
            ],
            [
             0.4444444444444444,
             "#bd3786"
            ],
            [
             0.5555555555555556,
             "#d8576b"
            ],
            [
             0.6666666666666666,
             "#ed7953"
            ],
            [
             0.7777777777777778,
             "#fb9f3a"
            ],
            [
             0.8888888888888888,
             "#fdca26"
            ],
            [
             1,
             "#f0f921"
            ]
           ],
           "sequentialminus": [
            [
             0,
             "#0d0887"
            ],
            [
             0.1111111111111111,
             "#46039f"
            ],
            [
             0.2222222222222222,
             "#7201a8"
            ],
            [
             0.3333333333333333,
             "#9c179e"
            ],
            [
             0.4444444444444444,
             "#bd3786"
            ],
            [
             0.5555555555555556,
             "#d8576b"
            ],
            [
             0.6666666666666666,
             "#ed7953"
            ],
            [
             0.7777777777777778,
             "#fb9f3a"
            ],
            [
             0.8888888888888888,
             "#fdca26"
            ],
            [
             1,
             "#f0f921"
            ]
           ]
          },
          "colorway": [
           "#636efa",
           "#EF553B",
           "#00cc96",
           "#ab63fa",
           "#FFA15A",
           "#19d3f3",
           "#FF6692",
           "#B6E880",
           "#FF97FF",
           "#FECB52"
          ],
          "font": {
           "color": "#2a3f5f"
          },
          "geo": {
           "bgcolor": "white",
           "lakecolor": "white",
           "landcolor": "#E5ECF6",
           "showlakes": true,
           "showland": true,
           "subunitcolor": "white"
          },
          "hoverlabel": {
           "align": "left"
          },
          "hovermode": "closest",
          "mapbox": {
           "style": "light"
          },
          "paper_bgcolor": "white",
          "plot_bgcolor": "#E5ECF6",
          "polar": {
           "angularaxis": {
            "gridcolor": "white",
            "linecolor": "white",
            "ticks": ""
           },
           "bgcolor": "#E5ECF6",
           "radialaxis": {
            "gridcolor": "white",
            "linecolor": "white",
            "ticks": ""
           }
          },
          "scene": {
           "xaxis": {
            "backgroundcolor": "#E5ECF6",
            "gridcolor": "white",
            "gridwidth": 2,
            "linecolor": "white",
            "showbackground": true,
            "ticks": "",
            "zerolinecolor": "white"
           },
           "yaxis": {
            "backgroundcolor": "#E5ECF6",
            "gridcolor": "white",
            "gridwidth": 2,
            "linecolor": "white",
            "showbackground": true,
            "ticks": "",
            "zerolinecolor": "white"
           },
           "zaxis": {
            "backgroundcolor": "#E5ECF6",
            "gridcolor": "white",
            "gridwidth": 2,
            "linecolor": "white",
            "showbackground": true,
            "ticks": "",
            "zerolinecolor": "white"
           }
          },
          "shapedefaults": {
           "line": {
            "color": "#2a3f5f"
           }
          },
          "ternary": {
           "aaxis": {
            "gridcolor": "white",
            "linecolor": "white",
            "ticks": ""
           },
           "baxis": {
            "gridcolor": "white",
            "linecolor": "white",
            "ticks": ""
           },
           "bgcolor": "#E5ECF6",
           "caxis": {
            "gridcolor": "white",
            "linecolor": "white",
            "ticks": ""
           }
          },
          "title": {
           "x": 0.05
          },
          "xaxis": {
           "automargin": true,
           "gridcolor": "white",
           "linecolor": "white",
           "ticks": "",
           "title": {
            "standoff": 15
           },
           "zerolinecolor": "white",
           "zerolinewidth": 2
          },
          "yaxis": {
           "automargin": true,
           "gridcolor": "white",
           "linecolor": "white",
           "ticks": "",
           "title": {
            "standoff": 15
           },
           "zerolinecolor": "white",
           "zerolinewidth": 2
          }
         }
        },
        "xaxis": {
         "anchor": "y",
         "domain": [
          0,
          1
         ],
         "title": {
          "text": "Selling_Price"
         }
        },
        "yaxis": {
         "anchor": "x",
         "categoryarray": [
          "xcent",
          "wagon r",
          "vitara brezza",
          "verna",
          "sx4",
          "swift",
          "s cross",
          "ritz",
          "omni",
          "land cruiser",
          "jazz",
          "innova",
          "ignis",
          "i20",
          "i10",
          "grand i10",
          "fortuner",
          "etios liva",
          "etios gd",
          "etios g",
          "etios cross",
          "ertiga",
          "eon",
          "elantra",
          "dzire",
          "creta",
          "corolla altis",
          "corolla",
          "city",
          "ciaz",
          "camry",
          "brio",
          "baleno",
          "amaze",
          "alto k10",
          "alto 800",
          "Yamaha Fazer ",
          "Yamaha FZ S V 2.0",
          "Yamaha FZ S ",
          "Yamaha FZ 16",
          "Yamaha FZ  v 2.0",
          "UM Renegade Mojave",
          "TVS Wego",
          "TVS Sport ",
          "TVS Jupyter",
          "TVS Apache RTR 180",
          "TVS Apache RTR 160",
          "Suzuki Access 125",
          "Royal Enfield Thunder 500",
          "Royal Enfield Thunder 350",
          "Royal Enfield Classic 500",
          "Royal Enfield Classic 350",
          "Royal Enfield Bullet 350",
          "Mahindra Mojo XT300",
          "KTM RC390",
          "KTM RC200",
          "KTM 390 Duke ",
          "Hyosung GT250R",
          "Honda Karizma",
          "Honda Dream Yuga ",
          "Honda CBR 150",
          "Honda CB twister",
          "Honda CB Unicorn",
          "Honda CB Trigger",
          "Honda CB Shine",
          "Honda CB Hornet 160R",
          "Honda Activa 4G",
          "Honda Activa 125",
          "Hero Super Splendor",
          "Hero Splender iSmart",
          "Hero Splender Plus",
          "Hero Passion X pro",
          "Hero Passion Pro",
          "Hero Hunk",
          "Hero Honda Passion Pro",
          "Hero Honda CBZ extreme",
          "Hero Glamour",
          "Hero Extreme",
          "Hero  Ignitor Disc",
          "Hero  CBZ Xtreme",
          "Bajaj Pulsar RS200",
          "Bajaj Pulsar NS 200",
          "Bajaj Pulsar 220 F",
          "Bajaj Pulsar 150",
          "Bajaj Pulsar 135 LS",
          "Bajaj Pulsar  NS 200",
          "Bajaj Dominar 400",
          "Bajaj Discover 125",
          "Bajaj Discover 100",
          "Bajaj Avenger Street 220",
          "Bajaj Avenger 220 dtsi",
          "Bajaj Avenger 220",
          "Bajaj Avenger 150 street",
          "Bajaj Avenger 150",
          "Bajaj  ct 100",
          "Activa 4g",
          "Activa 3g",
          "800"
         ],
         "categoryorder": "array",
         "domain": [
          0,
          1
         ],
         "title": {
          "text": "Car_Name"
         }
        }
       }
      },
      "text/html": [
       "<div>                            <div id=\"e92f25d7-d97b-44b9-9fce-26f703c5079b\" class=\"plotly-graph-div\" style=\"height:525px; width:100%;\"></div>            <script type=\"text/javascript\">                require([\"plotly\"], function(Plotly) {                    window.PLOTLYENV=window.PLOTLYENV || {};                                    if (document.getElementById(\"e92f25d7-d97b-44b9-9fce-26f703c5079b\")) {                    Plotly.newPlot(                        \"e92f25d7-d97b-44b9-9fce-26f703c5079b\",                        [{\"alignmentgroup\":\"True\",\"hovertemplate\":\"Car_Name=%{y}<br>Selling_Price=%{x}<extra></extra>\",\"legendgroup\":\"800\",\"marker\":{\"color\":\"#636efa\",\"pattern\":{\"shape\":\"\"}},\"name\":\"800\",\"offsetgroup\":\"800\",\"orientation\":\"h\",\"showlegend\":true,\"textposition\":\"auto\",\"x\":[0.35],\"xaxis\":\"x\",\"y\":[\"800\"],\"yaxis\":\"y\",\"type\":\"bar\"},{\"alignmentgroup\":\"True\",\"hovertemplate\":\"Car_Name=%{y}<br>Selling_Price=%{x}<extra></extra>\",\"legendgroup\":\"Activa 3g\",\"marker\":{\"color\":\"#EF553B\",\"pattern\":{\"shape\":\"\"}},\"name\":\"Activa 3g\",\"offsetgroup\":\"Activa 3g\",\"orientation\":\"h\",\"showlegend\":true,\"textposition\":\"auto\",\"x\":[0.31],\"xaxis\":\"x\",\"y\":[\"Activa 3g\"],\"yaxis\":\"y\",\"type\":\"bar\"},{\"alignmentgroup\":\"True\",\"hovertemplate\":\"Car_Name=%{y}<br>Selling_Price=%{x}<extra></extra>\",\"legendgroup\":\"Activa 4g\",\"marker\":{\"color\":\"#00cc96\",\"pattern\":{\"shape\":\"\"}},\"name\":\"Activa 4g\",\"offsetgroup\":\"Activa 4g\",\"orientation\":\"h\",\"showlegend\":true,\"textposition\":\"auto\",\"x\":[0.4],\"xaxis\":\"x\",\"y\":[\"Activa 4g\"],\"yaxis\":\"y\",\"type\":\"bar\"},{\"alignmentgroup\":\"True\",\"hovertemplate\":\"Car_Name=%{y}<br>Selling_Price=%{x}<extra></extra>\",\"legendgroup\":\"Bajaj  ct 100\",\"marker\":{\"color\":\"#ab63fa\",\"pattern\":{\"shape\":\"\"}},\"name\":\"Bajaj  ct 100\",\"offsetgroup\":\"Bajaj  ct 100\",\"orientation\":\"h\",\"showlegend\":true,\"textposition\":\"auto\",\"x\":[0.18],\"xaxis\":\"x\",\"y\":[\"Bajaj  ct 100\"],\"yaxis\":\"y\",\"type\":\"bar\"},{\"alignmentgroup\":\"True\",\"hovertemplate\":\"Car_Name=%{y}<br>Selling_Price=%{x}<extra></extra>\",\"legendgroup\":\"Bajaj Avenger 150\",\"marker\":{\"color\":\"#FFA15A\",\"pattern\":{\"shape\":\"\"}},\"name\":\"Bajaj Avenger 150\",\"offsetgroup\":\"Bajaj Avenger 150\",\"orientation\":\"h\",\"showlegend\":true,\"textposition\":\"auto\",\"x\":[0.75],\"xaxis\":\"x\",\"y\":[\"Bajaj Avenger 150\"],\"yaxis\":\"y\",\"type\":\"bar\"},{\"alignmentgroup\":\"True\",\"hovertemplate\":\"Car_Name=%{y}<br>Selling_Price=%{x}<extra></extra>\",\"legendgroup\":\"Bajaj Avenger 150 street\",\"marker\":{\"color\":\"#19d3f3\",\"pattern\":{\"shape\":\"\"}},\"name\":\"Bajaj Avenger 150 street\",\"offsetgroup\":\"Bajaj Avenger 150 street\",\"orientation\":\"h\",\"showlegend\":true,\"textposition\":\"auto\",\"x\":[0.6],\"xaxis\":\"x\",\"y\":[\"Bajaj Avenger 150 street\"],\"yaxis\":\"y\",\"type\":\"bar\"},{\"alignmentgroup\":\"True\",\"hovertemplate\":\"Car_Name=%{y}<br>Selling_Price=%{x}<extra></extra>\",\"legendgroup\":\"Bajaj Avenger 220\",\"marker\":{\"color\":\"#FF6692\",\"pattern\":{\"shape\":\"\"}},\"name\":\"Bajaj Avenger 220\",\"offsetgroup\":\"Bajaj Avenger 220\",\"orientation\":\"h\",\"showlegend\":true,\"textposition\":\"auto\",\"x\":[0.79],\"xaxis\":\"x\",\"y\":[\"Bajaj Avenger 220\"],\"yaxis\":\"y\",\"type\":\"bar\"},{\"alignmentgroup\":\"True\",\"hovertemplate\":\"Car_Name=%{y}<br>Selling_Price=%{x}<extra></extra>\",\"legendgroup\":\"Bajaj Avenger 220 dtsi\",\"marker\":{\"color\":\"#B6E880\",\"pattern\":{\"shape\":\"\"}},\"name\":\"Bajaj Avenger 220 dtsi\",\"offsetgroup\":\"Bajaj Avenger 220 dtsi\",\"orientation\":\"h\",\"showlegend\":true,\"textposition\":\"auto\",\"x\":[0.525],\"xaxis\":\"x\",\"y\":[\"Bajaj Avenger 220 dtsi\"],\"yaxis\":\"y\",\"type\":\"bar\"},{\"alignmentgroup\":\"True\",\"hovertemplate\":\"Car_Name=%{y}<br>Selling_Price=%{x}<extra></extra>\",\"legendgroup\":\"Bajaj Avenger Street 220\",\"marker\":{\"color\":\"#FF97FF\",\"pattern\":{\"shape\":\"\"}},\"name\":\"Bajaj Avenger Street 220\",\"offsetgroup\":\"Bajaj Avenger Street 220\",\"orientation\":\"h\",\"showlegend\":true,\"textposition\":\"auto\",\"x\":[0.45],\"xaxis\":\"x\",\"y\":[\"Bajaj Avenger Street 220\"],\"yaxis\":\"y\",\"type\":\"bar\"},{\"alignmentgroup\":\"True\",\"hovertemplate\":\"Car_Name=%{y}<br>Selling_Price=%{x}<extra></extra>\",\"legendgroup\":\"Bajaj Discover 100\",\"marker\":{\"color\":\"#FECB52\",\"pattern\":{\"shape\":\"\"}},\"name\":\"Bajaj Discover 100\",\"offsetgroup\":\"Bajaj Discover 100\",\"orientation\":\"h\",\"showlegend\":true,\"textposition\":\"auto\",\"x\":[0.27],\"xaxis\":\"x\",\"y\":[\"Bajaj Discover 100\"],\"yaxis\":\"y\",\"type\":\"bar\"},{\"alignmentgroup\":\"True\",\"hovertemplate\":\"Car_Name=%{y}<br>Selling_Price=%{x}<extra></extra>\",\"legendgroup\":\"Bajaj Discover 125\",\"marker\":{\"color\":\"#636efa\",\"pattern\":{\"shape\":\"\"}},\"name\":\"Bajaj Discover 125\",\"offsetgroup\":\"Bajaj Discover 125\",\"orientation\":\"h\",\"showlegend\":true,\"textposition\":\"auto\",\"x\":[0.175],\"xaxis\":\"x\",\"y\":[\"Bajaj Discover 125\"],\"yaxis\":\"y\",\"type\":\"bar\"},{\"alignmentgroup\":\"True\",\"hovertemplate\":\"Car_Name=%{y}<br>Selling_Price=%{x}<extra></extra>\",\"legendgroup\":\"Bajaj Dominar 400\",\"marker\":{\"color\":\"#EF553B\",\"pattern\":{\"shape\":\"\"}},\"name\":\"Bajaj Dominar 400\",\"offsetgroup\":\"Bajaj Dominar 400\",\"orientation\":\"h\",\"showlegend\":true,\"textposition\":\"auto\",\"x\":[1.45],\"xaxis\":\"x\",\"y\":[\"Bajaj Dominar 400\"],\"yaxis\":\"y\",\"type\":\"bar\"},{\"alignmentgroup\":\"True\",\"hovertemplate\":\"Car_Name=%{y}<br>Selling_Price=%{x}<extra></extra>\",\"legendgroup\":\"Bajaj Pulsar  NS 200\",\"marker\":{\"color\":\"#00cc96\",\"pattern\":{\"shape\":\"\"}},\"name\":\"Bajaj Pulsar  NS 200\",\"offsetgroup\":\"Bajaj Pulsar  NS 200\",\"orientation\":\"h\",\"showlegend\":true,\"textposition\":\"auto\",\"x\":[0.6],\"xaxis\":\"x\",\"y\":[\"Bajaj Pulsar  NS 200\"],\"yaxis\":\"y\",\"type\":\"bar\"},{\"alignmentgroup\":\"True\",\"hovertemplate\":\"Car_Name=%{y}<br>Selling_Price=%{x}<extra></extra>\",\"legendgroup\":\"Bajaj Pulsar 135 LS\",\"marker\":{\"color\":\"#ab63fa\",\"pattern\":{\"shape\":\"\"}},\"name\":\"Bajaj Pulsar 135 LS\",\"offsetgroup\":\"Bajaj Pulsar 135 LS\",\"orientation\":\"h\",\"showlegend\":true,\"textposition\":\"auto\",\"x\":[0.4],\"xaxis\":\"x\",\"y\":[\"Bajaj Pulsar 135 LS\"],\"yaxis\":\"y\",\"type\":\"bar\"},{\"alignmentgroup\":\"True\",\"hovertemplate\":\"Car_Name=%{y}<br>Selling_Price=%{x}<extra></extra>\",\"legendgroup\":\"Bajaj Pulsar 150\",\"marker\":{\"color\":\"#FFA15A\",\"pattern\":{\"shape\":\"\"}},\"name\":\"Bajaj Pulsar 150\",\"offsetgroup\":\"Bajaj Pulsar 150\",\"orientation\":\"h\",\"showlegend\":true,\"textposition\":\"auto\",\"x\":[0.3],\"xaxis\":\"x\",\"y\":[\"Bajaj Pulsar 150\"],\"yaxis\":\"y\",\"type\":\"bar\"},{\"alignmentgroup\":\"True\",\"hovertemplate\":\"Car_Name=%{y}<br>Selling_Price=%{x}<extra></extra>\",\"legendgroup\":\"Bajaj Pulsar 220 F\",\"marker\":{\"color\":\"#19d3f3\",\"pattern\":{\"shape\":\"\"}},\"name\":\"Bajaj Pulsar 220 F\",\"offsetgroup\":\"Bajaj Pulsar 220 F\",\"orientation\":\"h\",\"showlegend\":true,\"textposition\":\"auto\",\"x\":[0.515],\"xaxis\":\"x\",\"y\":[\"Bajaj Pulsar 220 F\"],\"yaxis\":\"y\",\"type\":\"bar\"},{\"alignmentgroup\":\"True\",\"hovertemplate\":\"Car_Name=%{y}<br>Selling_Price=%{x}<extra></extra>\",\"legendgroup\":\"Bajaj Pulsar NS 200\",\"marker\":{\"color\":\"#FF6692\",\"pattern\":{\"shape\":\"\"}},\"name\":\"Bajaj Pulsar NS 200\",\"offsetgroup\":\"Bajaj Pulsar NS 200\",\"orientation\":\"h\",\"showlegend\":true,\"textposition\":\"auto\",\"x\":[0.48333333333333334],\"xaxis\":\"x\",\"y\":[\"Bajaj Pulsar NS 200\"],\"yaxis\":\"y\",\"type\":\"bar\"},{\"alignmentgroup\":\"True\",\"hovertemplate\":\"Car_Name=%{y}<br>Selling_Price=%{x}<extra></extra>\",\"legendgroup\":\"Bajaj Pulsar RS200\",\"marker\":{\"color\":\"#B6E880\",\"pattern\":{\"shape\":\"\"}},\"name\":\"Bajaj Pulsar RS200\",\"offsetgroup\":\"Bajaj Pulsar RS200\",\"orientation\":\"h\",\"showlegend\":true,\"textposition\":\"auto\",\"x\":[1.05],\"xaxis\":\"x\",\"y\":[\"Bajaj Pulsar RS200\"],\"yaxis\":\"y\",\"type\":\"bar\"},{\"alignmentgroup\":\"True\",\"hovertemplate\":\"Car_Name=%{y}<br>Selling_Price=%{x}<extra></extra>\",\"legendgroup\":\"Hero  CBZ Xtreme\",\"marker\":{\"color\":\"#FF97FF\",\"pattern\":{\"shape\":\"\"}},\"name\":\"Hero  CBZ Xtreme\",\"offsetgroup\":\"Hero  CBZ Xtreme\",\"orientation\":\"h\",\"showlegend\":true,\"textposition\":\"auto\",\"x\":[0.2],\"xaxis\":\"x\",\"y\":[\"Hero  CBZ Xtreme\"],\"yaxis\":\"y\",\"type\":\"bar\"},{\"alignmentgroup\":\"True\",\"hovertemplate\":\"Car_Name=%{y}<br>Selling_Price=%{x}<extra></extra>\",\"legendgroup\":\"Hero  Ignitor Disc\",\"marker\":{\"color\":\"#FECB52\",\"pattern\":{\"shape\":\"\"}},\"name\":\"Hero  Ignitor Disc\",\"offsetgroup\":\"Hero  Ignitor Disc\",\"orientation\":\"h\",\"showlegend\":true,\"textposition\":\"auto\",\"x\":[0.2],\"xaxis\":\"x\",\"y\":[\"Hero  Ignitor Disc\"],\"yaxis\":\"y\",\"type\":\"bar\"},{\"alignmentgroup\":\"True\",\"hovertemplate\":\"Car_Name=%{y}<br>Selling_Price=%{x}<extra></extra>\",\"legendgroup\":\"Hero Extreme\",\"marker\":{\"color\":\"#636efa\",\"pattern\":{\"shape\":\"\"}},\"name\":\"Hero Extreme\",\"offsetgroup\":\"Hero Extreme\",\"orientation\":\"h\",\"showlegend\":true,\"textposition\":\"auto\",\"x\":[0.6000000000000001],\"xaxis\":\"x\",\"y\":[\"Hero Extreme\"],\"yaxis\":\"y\",\"type\":\"bar\"},{\"alignmentgroup\":\"True\",\"hovertemplate\":\"Car_Name=%{y}<br>Selling_Price=%{x}<extra></extra>\",\"legendgroup\":\"Hero Glamour\",\"marker\":{\"color\":\"#EF553B\",\"pattern\":{\"shape\":\"\"}},\"name\":\"Hero Glamour\",\"offsetgroup\":\"Hero Glamour\",\"orientation\":\"h\",\"showlegend\":true,\"textposition\":\"auto\",\"x\":[0.25],\"xaxis\":\"x\",\"y\":[\"Hero Glamour\"],\"yaxis\":\"y\",\"type\":\"bar\"},{\"alignmentgroup\":\"True\",\"hovertemplate\":\"Car_Name=%{y}<br>Selling_Price=%{x}<extra></extra>\",\"legendgroup\":\"Hero Honda CBZ extreme\",\"marker\":{\"color\":\"#00cc96\",\"pattern\":{\"shape\":\"\"}},\"name\":\"Hero Honda CBZ extreme\",\"offsetgroup\":\"Hero Honda CBZ extreme\",\"orientation\":\"h\",\"showlegend\":true,\"textposition\":\"auto\",\"x\":[0.38],\"xaxis\":\"x\",\"y\":[\"Hero Honda CBZ extreme\"],\"yaxis\":\"y\",\"type\":\"bar\"},{\"alignmentgroup\":\"True\",\"hovertemplate\":\"Car_Name=%{y}<br>Selling_Price=%{x}<extra></extra>\",\"legendgroup\":\"Hero Honda Passion Pro\",\"marker\":{\"color\":\"#ab63fa\",\"pattern\":{\"shape\":\"\"}},\"name\":\"Hero Honda Passion Pro\",\"offsetgroup\":\"Hero Honda Passion Pro\",\"orientation\":\"h\",\"showlegend\":true,\"textposition\":\"auto\",\"x\":[0.3],\"xaxis\":\"x\",\"y\":[\"Hero Honda Passion Pro\"],\"yaxis\":\"y\",\"type\":\"bar\"},{\"alignmentgroup\":\"True\",\"hovertemplate\":\"Car_Name=%{y}<br>Selling_Price=%{x}<extra></extra>\",\"legendgroup\":\"Hero Hunk\",\"marker\":{\"color\":\"#FFA15A\",\"pattern\":{\"shape\":\"\"}},\"name\":\"Hero Hunk\",\"offsetgroup\":\"Hero Hunk\",\"orientation\":\"h\",\"showlegend\":true,\"textposition\":\"auto\",\"x\":[0.2],\"xaxis\":\"x\",\"y\":[\"Hero Hunk\"],\"yaxis\":\"y\",\"type\":\"bar\"},{\"alignmentgroup\":\"True\",\"hovertemplate\":\"Car_Name=%{y}<br>Selling_Price=%{x}<extra></extra>\",\"legendgroup\":\"Hero Passion Pro\",\"marker\":{\"color\":\"#19d3f3\",\"pattern\":{\"shape\":\"\"}},\"name\":\"Hero Passion Pro\",\"offsetgroup\":\"Hero Passion Pro\",\"orientation\":\"h\",\"showlegend\":true,\"textposition\":\"auto\",\"x\":[0.42500000000000004],\"xaxis\":\"x\",\"y\":[\"Hero Passion Pro\"],\"yaxis\":\"y\",\"type\":\"bar\"},{\"alignmentgroup\":\"True\",\"hovertemplate\":\"Car_Name=%{y}<br>Selling_Price=%{x}<extra></extra>\",\"legendgroup\":\"Hero Passion X pro\",\"marker\":{\"color\":\"#FF6692\",\"pattern\":{\"shape\":\"\"}},\"name\":\"Hero Passion X pro\",\"offsetgroup\":\"Hero Passion X pro\",\"orientation\":\"h\",\"showlegend\":true,\"textposition\":\"auto\",\"x\":[0.5],\"xaxis\":\"x\",\"y\":[\"Hero Passion X pro\"],\"yaxis\":\"y\",\"type\":\"bar\"},{\"alignmentgroup\":\"True\",\"hovertemplate\":\"Car_Name=%{y}<br>Selling_Price=%{x}<extra></extra>\",\"legendgroup\":\"Hero Splender Plus\",\"marker\":{\"color\":\"#B6E880\",\"pattern\":{\"shape\":\"\"}},\"name\":\"Hero Splender Plus\",\"offsetgroup\":\"Hero Splender Plus\",\"orientation\":\"h\",\"showlegend\":true,\"textposition\":\"auto\",\"x\":[0.3],\"xaxis\":\"x\",\"y\":[\"Hero Splender Plus\"],\"yaxis\":\"y\",\"type\":\"bar\"},{\"alignmentgroup\":\"True\",\"hovertemplate\":\"Car_Name=%{y}<br>Selling_Price=%{x}<extra></extra>\",\"legendgroup\":\"Hero Splender iSmart\",\"marker\":{\"color\":\"#FF97FF\",\"pattern\":{\"shape\":\"\"}},\"name\":\"Hero Splender iSmart\",\"offsetgroup\":\"Hero Splender iSmart\",\"orientation\":\"h\",\"showlegend\":true,\"textposition\":\"auto\",\"x\":[0.42500000000000004],\"xaxis\":\"x\",\"y\":[\"Hero Splender iSmart\"],\"yaxis\":\"y\",\"type\":\"bar\"},{\"alignmentgroup\":\"True\",\"hovertemplate\":\"Car_Name=%{y}<br>Selling_Price=%{x}<extra></extra>\",\"legendgroup\":\"Hero Super Splendor\",\"marker\":{\"color\":\"#FECB52\",\"pattern\":{\"shape\":\"\"}},\"name\":\"Hero Super Splendor\",\"offsetgroup\":\"Hero Super Splendor\",\"orientation\":\"h\",\"showlegend\":true,\"textposition\":\"auto\",\"x\":[0.2],\"xaxis\":\"x\",\"y\":[\"Hero Super Splendor\"],\"yaxis\":\"y\",\"type\":\"bar\"},{\"alignmentgroup\":\"True\",\"hovertemplate\":\"Car_Name=%{y}<br>Selling_Price=%{x}<extra></extra>\",\"legendgroup\":\"Honda Activa 125\",\"marker\":{\"color\":\"#636efa\",\"pattern\":{\"shape\":\"\"}},\"name\":\"Honda Activa 125\",\"offsetgroup\":\"Honda Activa 125\",\"orientation\":\"h\",\"showlegend\":true,\"textposition\":\"auto\",\"x\":[0.35],\"xaxis\":\"x\",\"y\":[\"Honda Activa 125\"],\"yaxis\":\"y\",\"type\":\"bar\"},{\"alignmentgroup\":\"True\",\"hovertemplate\":\"Car_Name=%{y}<br>Selling_Price=%{x}<extra></extra>\",\"legendgroup\":\"Honda Activa 4G\",\"marker\":{\"color\":\"#EF553B\",\"pattern\":{\"shape\":\"\"}},\"name\":\"Honda Activa 4G\",\"offsetgroup\":\"Honda Activa 4G\",\"orientation\":\"h\",\"showlegend\":true,\"textposition\":\"auto\",\"x\":[0.46499999999999997],\"xaxis\":\"x\",\"y\":[\"Honda Activa 4G\"],\"yaxis\":\"y\",\"type\":\"bar\"},{\"alignmentgroup\":\"True\",\"hovertemplate\":\"Car_Name=%{y}<br>Selling_Price=%{x}<extra></extra>\",\"legendgroup\":\"Honda CB Hornet 160R\",\"marker\":{\"color\":\"#00cc96\",\"pattern\":{\"shape\":\"\"}},\"name\":\"Honda CB Hornet 160R\",\"offsetgroup\":\"Honda CB Hornet 160R\",\"orientation\":\"h\",\"showlegend\":true,\"textposition\":\"auto\",\"x\":[0.7166666666666667],\"xaxis\":\"x\",\"y\":[\"Honda CB Hornet 160R\"],\"yaxis\":\"y\",\"type\":\"bar\"},{\"alignmentgroup\":\"True\",\"hovertemplate\":\"Car_Name=%{y}<br>Selling_Price=%{x}<extra></extra>\",\"legendgroup\":\"Honda CB Shine\",\"marker\":{\"color\":\"#ab63fa\",\"pattern\":{\"shape\":\"\"}},\"name\":\"Honda CB Shine\",\"offsetgroup\":\"Honda CB Shine\",\"orientation\":\"h\",\"showlegend\":true,\"textposition\":\"auto\",\"x\":[0.21],\"xaxis\":\"x\",\"y\":[\"Honda CB Shine\"],\"yaxis\":\"y\",\"type\":\"bar\"},{\"alignmentgroup\":\"True\",\"hovertemplate\":\"Car_Name=%{y}<br>Selling_Price=%{x}<extra></extra>\",\"legendgroup\":\"Honda CB Trigger\",\"marker\":{\"color\":\"#FFA15A\",\"pattern\":{\"shape\":\"\"}},\"name\":\"Honda CB Trigger\",\"offsetgroup\":\"Honda CB Trigger\",\"orientation\":\"h\",\"showlegend\":true,\"textposition\":\"auto\",\"x\":[0.42],\"xaxis\":\"x\",\"y\":[\"Honda CB Trigger\"],\"yaxis\":\"y\",\"type\":\"bar\"},{\"alignmentgroup\":\"True\",\"hovertemplate\":\"Car_Name=%{y}<br>Selling_Price=%{x}<extra></extra>\",\"legendgroup\":\"Honda CB Unicorn\",\"marker\":{\"color\":\"#19d3f3\",\"pattern\":{\"shape\":\"\"}},\"name\":\"Honda CB Unicorn\",\"offsetgroup\":\"Honda CB Unicorn\",\"orientation\":\"h\",\"showlegend\":true,\"textposition\":\"auto\",\"x\":[0.38],\"xaxis\":\"x\",\"y\":[\"Honda CB Unicorn\"],\"yaxis\":\"y\",\"type\":\"bar\"},{\"alignmentgroup\":\"True\",\"hovertemplate\":\"Car_Name=%{y}<br>Selling_Price=%{x}<extra></extra>\",\"legendgroup\":\"Honda CB twister\",\"marker\":{\"color\":\"#FF6692\",\"pattern\":{\"shape\":\"\"}},\"name\":\"Honda CB twister\",\"offsetgroup\":\"Honda CB twister\",\"orientation\":\"h\",\"showlegend\":true,\"textposition\":\"auto\",\"x\":[0.20500000000000002],\"xaxis\":\"x\",\"y\":[\"Honda CB twister\"],\"yaxis\":\"y\",\"type\":\"bar\"},{\"alignmentgroup\":\"True\",\"hovertemplate\":\"Car_Name=%{y}<br>Selling_Price=%{x}<extra></extra>\",\"legendgroup\":\"Honda CBR 150\",\"marker\":{\"color\":\"#B6E880\",\"pattern\":{\"shape\":\"\"}},\"name\":\"Honda CBR 150\",\"offsetgroup\":\"Honda CBR 150\",\"orientation\":\"h\",\"showlegend\":true,\"textposition\":\"auto\",\"x\":[0.625],\"xaxis\":\"x\",\"y\":[\"Honda CBR 150\"],\"yaxis\":\"y\",\"type\":\"bar\"},{\"alignmentgroup\":\"True\",\"hovertemplate\":\"Car_Name=%{y}<br>Selling_Price=%{x}<extra></extra>\",\"legendgroup\":\"Honda Dream Yuga \",\"marker\":{\"color\":\"#FF97FF\",\"pattern\":{\"shape\":\"\"}},\"name\":\"Honda Dream Yuga \",\"offsetgroup\":\"Honda Dream Yuga \",\"orientation\":\"h\",\"showlegend\":true,\"textposition\":\"auto\",\"x\":[0.48],\"xaxis\":\"x\",\"y\":[\"Honda Dream Yuga \"],\"yaxis\":\"y\",\"type\":\"bar\"},{\"alignmentgroup\":\"True\",\"hovertemplate\":\"Car_Name=%{y}<br>Selling_Price=%{x}<extra></extra>\",\"legendgroup\":\"Honda Karizma\",\"marker\":{\"color\":\"#FECB52\",\"pattern\":{\"shape\":\"\"}},\"name\":\"Honda Karizma\",\"offsetgroup\":\"Honda Karizma\",\"orientation\":\"h\",\"showlegend\":true,\"textposition\":\"auto\",\"x\":[0.32999999999999996],\"xaxis\":\"x\",\"y\":[\"Honda Karizma\"],\"yaxis\":\"y\",\"type\":\"bar\"},{\"alignmentgroup\":\"True\",\"hovertemplate\":\"Car_Name=%{y}<br>Selling_Price=%{x}<extra></extra>\",\"legendgroup\":\"Hyosung GT250R\",\"marker\":{\"color\":\"#636efa\",\"pattern\":{\"shape\":\"\"}},\"name\":\"Hyosung GT250R\",\"offsetgroup\":\"Hyosung GT250R\",\"orientation\":\"h\",\"showlegend\":true,\"textposition\":\"auto\",\"x\":[1.35],\"xaxis\":\"x\",\"y\":[\"Hyosung GT250R\"],\"yaxis\":\"y\",\"type\":\"bar\"},{\"alignmentgroup\":\"True\",\"hovertemplate\":\"Car_Name=%{y}<br>Selling_Price=%{x}<extra></extra>\",\"legendgroup\":\"KTM 390 Duke \",\"marker\":{\"color\":\"#EF553B\",\"pattern\":{\"shape\":\"\"}},\"name\":\"KTM 390 Duke \",\"offsetgroup\":\"KTM 390 Duke \",\"orientation\":\"h\",\"showlegend\":true,\"textposition\":\"auto\",\"x\":[1.15],\"xaxis\":\"x\",\"y\":[\"KTM 390 Duke \"],\"yaxis\":\"y\",\"type\":\"bar\"},{\"alignmentgroup\":\"True\",\"hovertemplate\":\"Car_Name=%{y}<br>Selling_Price=%{x}<extra></extra>\",\"legendgroup\":\"KTM RC200\",\"marker\":{\"color\":\"#00cc96\",\"pattern\":{\"shape\":\"\"}},\"name\":\"KTM RC200\",\"offsetgroup\":\"KTM RC200\",\"orientation\":\"h\",\"showlegend\":true,\"textposition\":\"auto\",\"x\":[1.4249999999999998],\"xaxis\":\"x\",\"y\":[\"KTM RC200\"],\"yaxis\":\"y\",\"type\":\"bar\"},{\"alignmentgroup\":\"True\",\"hovertemplate\":\"Car_Name=%{y}<br>Selling_Price=%{x}<extra></extra>\",\"legendgroup\":\"KTM RC390\",\"marker\":{\"color\":\"#ab63fa\",\"pattern\":{\"shape\":\"\"}},\"name\":\"KTM RC390\",\"offsetgroup\":\"KTM RC390\",\"orientation\":\"h\",\"showlegend\":true,\"textposition\":\"auto\",\"x\":[1.35],\"xaxis\":\"x\",\"y\":[\"KTM RC390\"],\"yaxis\":\"y\",\"type\":\"bar\"},{\"alignmentgroup\":\"True\",\"hovertemplate\":\"Car_Name=%{y}<br>Selling_Price=%{x}<extra></extra>\",\"legendgroup\":\"Mahindra Mojo XT300\",\"marker\":{\"color\":\"#FFA15A\",\"pattern\":{\"shape\":\"\"}},\"name\":\"Mahindra Mojo XT300\",\"offsetgroup\":\"Mahindra Mojo XT300\",\"orientation\":\"h\",\"showlegend\":true,\"textposition\":\"auto\",\"x\":[1.15],\"xaxis\":\"x\",\"y\":[\"Mahindra Mojo XT300\"],\"yaxis\":\"y\",\"type\":\"bar\"},{\"alignmentgroup\":\"True\",\"hovertemplate\":\"Car_Name=%{y}<br>Selling_Price=%{x}<extra></extra>\",\"legendgroup\":\"Royal Enfield Bullet 350\",\"marker\":{\"color\":\"#19d3f3\",\"pattern\":{\"shape\":\"\"}},\"name\":\"Royal Enfield Bullet 350\",\"offsetgroup\":\"Royal Enfield Bullet 350\",\"orientation\":\"h\",\"showlegend\":true,\"textposition\":\"auto\",\"x\":[1.05],\"xaxis\":\"x\",\"y\":[\"Royal Enfield Bullet 350\"],\"yaxis\":\"y\",\"type\":\"bar\"},{\"alignmentgroup\":\"True\",\"hovertemplate\":\"Car_Name=%{y}<br>Selling_Price=%{x}<extra></extra>\",\"legendgroup\":\"Royal Enfield Classic 350\",\"marker\":{\"color\":\"#FF6692\",\"pattern\":{\"shape\":\"\"}},\"name\":\"Royal Enfield Classic 350\",\"offsetgroup\":\"Royal Enfield Classic 350\",\"orientation\":\"h\",\"showlegend\":true,\"textposition\":\"auto\",\"x\":[1.1442857142857144],\"xaxis\":\"x\",\"y\":[\"Royal Enfield Classic 350\"],\"yaxis\":\"y\",\"type\":\"bar\"},{\"alignmentgroup\":\"True\",\"hovertemplate\":\"Car_Name=%{y}<br>Selling_Price=%{x}<extra></extra>\",\"legendgroup\":\"Royal Enfield Classic 500\",\"marker\":{\"color\":\"#B6E880\",\"pattern\":{\"shape\":\"\"}},\"name\":\"Royal Enfield Classic 500\",\"offsetgroup\":\"Royal Enfield Classic 500\",\"orientation\":\"h\",\"showlegend\":true,\"textposition\":\"auto\",\"x\":[0.925],\"xaxis\":\"x\",\"y\":[\"Royal Enfield Classic 500\"],\"yaxis\":\"y\",\"type\":\"bar\"},{\"alignmentgroup\":\"True\",\"hovertemplate\":\"Car_Name=%{y}<br>Selling_Price=%{x}<extra></extra>\",\"legendgroup\":\"Royal Enfield Thunder 350\",\"marker\":{\"color\":\"#FF97FF\",\"pattern\":{\"shape\":\"\"}},\"name\":\"Royal Enfield Thunder 350\",\"offsetgroup\":\"Royal Enfield Thunder 350\",\"orientation\":\"h\",\"showlegend\":true,\"textposition\":\"auto\",\"x\":[1.1625],\"xaxis\":\"x\",\"y\":[\"Royal Enfield Thunder 350\"],\"yaxis\":\"y\",\"type\":\"bar\"},{\"alignmentgroup\":\"True\",\"hovertemplate\":\"Car_Name=%{y}<br>Selling_Price=%{x}<extra></extra>\",\"legendgroup\":\"Royal Enfield Thunder 500\",\"marker\":{\"color\":\"#FECB52\",\"pattern\":{\"shape\":\"\"}},\"name\":\"Royal Enfield Thunder 500\",\"offsetgroup\":\"Royal Enfield Thunder 500\",\"orientation\":\"h\",\"showlegend\":true,\"textposition\":\"auto\",\"x\":[1.3],\"xaxis\":\"x\",\"y\":[\"Royal Enfield Thunder 500\"],\"yaxis\":\"y\",\"type\":\"bar\"},{\"alignmentgroup\":\"True\",\"hovertemplate\":\"Car_Name=%{y}<br>Selling_Price=%{x}<extra></extra>\",\"legendgroup\":\"Suzuki Access 125\",\"marker\":{\"color\":\"#636efa\",\"pattern\":{\"shape\":\"\"}},\"name\":\"Suzuki Access 125\",\"offsetgroup\":\"Suzuki Access 125\",\"orientation\":\"h\",\"showlegend\":true,\"textposition\":\"auto\",\"x\":[0.25],\"xaxis\":\"x\",\"y\":[\"Suzuki Access 125\"],\"yaxis\":\"y\",\"type\":\"bar\"},{\"alignmentgroup\":\"True\",\"hovertemplate\":\"Car_Name=%{y}<br>Selling_Price=%{x}<extra></extra>\",\"legendgroup\":\"TVS Apache RTR 160\",\"marker\":{\"color\":\"#EF553B\",\"pattern\":{\"shape\":\"\"}},\"name\":\"TVS Apache RTR 160\",\"offsetgroup\":\"TVS Apache RTR 160\",\"orientation\":\"h\",\"showlegend\":true,\"textposition\":\"auto\",\"x\":[0.5566666666666666],\"xaxis\":\"x\",\"y\":[\"TVS Apache RTR 160\"],\"yaxis\":\"y\",\"type\":\"bar\"},{\"alignmentgroup\":\"True\",\"hovertemplate\":\"Car_Name=%{y}<br>Selling_Price=%{x}<extra></extra>\",\"legendgroup\":\"TVS Apache RTR 180\",\"marker\":{\"color\":\"#00cc96\",\"pattern\":{\"shape\":\"\"}},\"name\":\"TVS Apache RTR 180\",\"offsetgroup\":\"TVS Apache RTR 180\",\"orientation\":\"h\",\"showlegend\":true,\"textposition\":\"auto\",\"x\":[0.475],\"xaxis\":\"x\",\"y\":[\"TVS Apache RTR 180\"],\"yaxis\":\"y\",\"type\":\"bar\"},{\"alignmentgroup\":\"True\",\"hovertemplate\":\"Car_Name=%{y}<br>Selling_Price=%{x}<extra></extra>\",\"legendgroup\":\"TVS Jupyter\",\"marker\":{\"color\":\"#ab63fa\",\"pattern\":{\"shape\":\"\"}},\"name\":\"TVS Jupyter\",\"offsetgroup\":\"TVS Jupyter\",\"orientation\":\"h\",\"showlegend\":true,\"textposition\":\"auto\",\"x\":[0.35],\"xaxis\":\"x\",\"y\":[\"TVS Jupyter\"],\"yaxis\":\"y\",\"type\":\"bar\"},{\"alignmentgroup\":\"True\",\"hovertemplate\":\"Car_Name=%{y}<br>Selling_Price=%{x}<extra></extra>\",\"legendgroup\":\"TVS Sport \",\"marker\":{\"color\":\"#FFA15A\",\"pattern\":{\"shape\":\"\"}},\"name\":\"TVS Sport \",\"offsetgroup\":\"TVS Sport \",\"orientation\":\"h\",\"showlegend\":true,\"textposition\":\"auto\",\"x\":[0.48],\"xaxis\":\"x\",\"y\":[\"TVS Sport \"],\"yaxis\":\"y\",\"type\":\"bar\"},{\"alignmentgroup\":\"True\",\"hovertemplate\":\"Car_Name=%{y}<br>Selling_Price=%{x}<extra></extra>\",\"legendgroup\":\"TVS Wego\",\"marker\":{\"color\":\"#19d3f3\",\"pattern\":{\"shape\":\"\"}},\"name\":\"TVS Wego\",\"offsetgroup\":\"TVS Wego\",\"orientation\":\"h\",\"showlegend\":true,\"textposition\":\"auto\",\"x\":[0.25],\"xaxis\":\"x\",\"y\":[\"TVS Wego\"],\"yaxis\":\"y\",\"type\":\"bar\"},{\"alignmentgroup\":\"True\",\"hovertemplate\":\"Car_Name=%{y}<br>Selling_Price=%{x}<extra></extra>\",\"legendgroup\":\"UM Renegade Mojave\",\"marker\":{\"color\":\"#FF6692\",\"pattern\":{\"shape\":\"\"}},\"name\":\"UM Renegade Mojave\",\"offsetgroup\":\"UM Renegade Mojave\",\"orientation\":\"h\",\"showlegend\":true,\"textposition\":\"auto\",\"x\":[1.7],\"xaxis\":\"x\",\"y\":[\"UM Renegade Mojave\"],\"yaxis\":\"y\",\"type\":\"bar\"},{\"alignmentgroup\":\"True\",\"hovertemplate\":\"Car_Name=%{y}<br>Selling_Price=%{x}<extra></extra>\",\"legendgroup\":\"Yamaha FZ  v 2.0\",\"marker\":{\"color\":\"#B6E880\",\"pattern\":{\"shape\":\"\"}},\"name\":\"Yamaha FZ  v 2.0\",\"offsetgroup\":\"Yamaha FZ  v 2.0\",\"orientation\":\"h\",\"showlegend\":true,\"textposition\":\"auto\",\"x\":[0.6],\"xaxis\":\"x\",\"y\":[\"Yamaha FZ  v 2.0\"],\"yaxis\":\"y\",\"type\":\"bar\"},{\"alignmentgroup\":\"True\",\"hovertemplate\":\"Car_Name=%{y}<br>Selling_Price=%{x}<extra></extra>\",\"legendgroup\":\"Yamaha FZ 16\",\"marker\":{\"color\":\"#FF97FF\",\"pattern\":{\"shape\":\"\"}},\"name\":\"Yamaha FZ 16\",\"offsetgroup\":\"Yamaha FZ 16\",\"orientation\":\"h\",\"showlegend\":true,\"textposition\":\"auto\",\"x\":[0.75],\"xaxis\":\"x\",\"y\":[\"Yamaha FZ 16\"],\"yaxis\":\"y\",\"type\":\"bar\"},{\"alignmentgroup\":\"True\",\"hovertemplate\":\"Car_Name=%{y}<br>Selling_Price=%{x}<extra></extra>\",\"legendgroup\":\"Yamaha FZ S \",\"marker\":{\"color\":\"#FECB52\",\"pattern\":{\"shape\":\"\"}},\"name\":\"Yamaha FZ S \",\"offsetgroup\":\"Yamaha FZ S \",\"orientation\":\"h\",\"showlegend\":true,\"textposition\":\"auto\",\"x\":[0.4],\"xaxis\":\"x\",\"y\":[\"Yamaha FZ S \"],\"yaxis\":\"y\",\"type\":\"bar\"},{\"alignmentgroup\":\"True\",\"hovertemplate\":\"Car_Name=%{y}<br>Selling_Price=%{x}<extra></extra>\",\"legendgroup\":\"Yamaha FZ S V 2.0\",\"marker\":{\"color\":\"#636efa\",\"pattern\":{\"shape\":\"\"}},\"name\":\"Yamaha FZ S V 2.0\",\"offsetgroup\":\"Yamaha FZ S V 2.0\",\"orientation\":\"h\",\"showlegend\":true,\"textposition\":\"auto\",\"x\":[0.6033333333333334],\"xaxis\":\"x\",\"y\":[\"Yamaha FZ S V 2.0\"],\"yaxis\":\"y\",\"type\":\"bar\"},{\"alignmentgroup\":\"True\",\"hovertemplate\":\"Car_Name=%{y}<br>Selling_Price=%{x}<extra></extra>\",\"legendgroup\":\"Yamaha Fazer \",\"marker\":{\"color\":\"#EF553B\",\"pattern\":{\"shape\":\"\"}},\"name\":\"Yamaha Fazer \",\"offsetgroup\":\"Yamaha Fazer \",\"orientation\":\"h\",\"showlegend\":true,\"textposition\":\"auto\",\"x\":[0.5],\"xaxis\":\"x\",\"y\":[\"Yamaha Fazer \"],\"yaxis\":\"y\",\"type\":\"bar\"},{\"alignmentgroup\":\"True\",\"hovertemplate\":\"Car_Name=%{y}<br>Selling_Price=%{x}<extra></extra>\",\"legendgroup\":\"alto 800\",\"marker\":{\"color\":\"#00cc96\",\"pattern\":{\"shape\":\"\"}},\"name\":\"alto 800\",\"offsetgroup\":\"alto 800\",\"orientation\":\"h\",\"showlegend\":true,\"textposition\":\"auto\",\"x\":[2.85],\"xaxis\":\"x\",\"y\":[\"alto 800\"],\"yaxis\":\"y\",\"type\":\"bar\"},{\"alignmentgroup\":\"True\",\"hovertemplate\":\"Car_Name=%{y}<br>Selling_Price=%{x}<extra></extra>\",\"legendgroup\":\"alto k10\",\"marker\":{\"color\":\"#ab63fa\",\"pattern\":{\"shape\":\"\"}},\"name\":\"alto k10\",\"offsetgroup\":\"alto k10\",\"orientation\":\"h\",\"showlegend\":true,\"textposition\":\"auto\",\"x\":[2.57],\"xaxis\":\"x\",\"y\":[\"alto k10\"],\"yaxis\":\"y\",\"type\":\"bar\"},{\"alignmentgroup\":\"True\",\"hovertemplate\":\"Car_Name=%{y}<br>Selling_Price=%{x}<extra></extra>\",\"legendgroup\":\"amaze\",\"marker\":{\"color\":\"#FFA15A\",\"pattern\":{\"shape\":\"\"}},\"name\":\"amaze\",\"offsetgroup\":\"amaze\",\"orientation\":\"h\",\"showlegend\":true,\"textposition\":\"auto\",\"x\":[4.2214285714285715],\"xaxis\":\"x\",\"y\":[\"amaze\"],\"yaxis\":\"y\",\"type\":\"bar\"},{\"alignmentgroup\":\"True\",\"hovertemplate\":\"Car_Name=%{y}<br>Selling_Price=%{x}<extra></extra>\",\"legendgroup\":\"baleno\",\"marker\":{\"color\":\"#19d3f3\",\"pattern\":{\"shape\":\"\"}},\"name\":\"baleno\",\"offsetgroup\":\"baleno\",\"orientation\":\"h\",\"showlegend\":true,\"textposition\":\"auto\",\"x\":[5.85],\"xaxis\":\"x\",\"y\":[\"baleno\"],\"yaxis\":\"y\",\"type\":\"bar\"},{\"alignmentgroup\":\"True\",\"hovertemplate\":\"Car_Name=%{y}<br>Selling_Price=%{x}<extra></extra>\",\"legendgroup\":\"brio\",\"marker\":{\"color\":\"#FF6692\",\"pattern\":{\"shape\":\"\"}},\"name\":\"brio\",\"offsetgroup\":\"brio\",\"orientation\":\"h\",\"showlegend\":true,\"textposition\":\"auto\",\"x\":[4.745],\"xaxis\":\"x\",\"y\":[\"brio\"],\"yaxis\":\"y\",\"type\":\"bar\"},{\"alignmentgroup\":\"True\",\"hovertemplate\":\"Car_Name=%{y}<br>Selling_Price=%{x}<extra></extra>\",\"legendgroup\":\"camry\",\"marker\":{\"color\":\"#B6E880\",\"pattern\":{\"shape\":\"\"}},\"name\":\"camry\",\"offsetgroup\":\"camry\",\"orientation\":\"h\",\"showlegend\":true,\"textposition\":\"auto\",\"x\":[2.5],\"xaxis\":\"x\",\"y\":[\"camry\"],\"yaxis\":\"y\",\"type\":\"bar\"},{\"alignmentgroup\":\"True\",\"hovertemplate\":\"Car_Name=%{y}<br>Selling_Price=%{x}<extra></extra>\",\"legendgroup\":\"ciaz\",\"marker\":{\"color\":\"#FF97FF\",\"pattern\":{\"shape\":\"\"}},\"name\":\"ciaz\",\"offsetgroup\":\"ciaz\",\"orientation\":\"h\",\"showlegend\":true,\"textposition\":\"auto\",\"x\":[7.472222222222222],\"xaxis\":\"x\",\"y\":[\"ciaz\"],\"yaxis\":\"y\",\"type\":\"bar\"},{\"alignmentgroup\":\"True\",\"hovertemplate\":\"Car_Name=%{y}<br>Selling_Price=%{x}<extra></extra>\",\"legendgroup\":\"city\",\"marker\":{\"color\":\"#FECB52\",\"pattern\":{\"shape\":\"\"}},\"name\":\"city\",\"offsetgroup\":\"city\",\"orientation\":\"h\",\"showlegend\":true,\"textposition\":\"auto\",\"x\":[7.4192307692307695],\"xaxis\":\"x\",\"y\":[\"city\"],\"yaxis\":\"y\",\"type\":\"bar\"},{\"alignmentgroup\":\"True\",\"hovertemplate\":\"Car_Name=%{y}<br>Selling_Price=%{x}<extra></extra>\",\"legendgroup\":\"corolla\",\"marker\":{\"color\":\"#636efa\",\"pattern\":{\"shape\":\"\"}},\"name\":\"corolla\",\"offsetgroup\":\"corolla\",\"orientation\":\"h\",\"showlegend\":true,\"textposition\":\"auto\",\"x\":[1.5],\"xaxis\":\"x\",\"y\":[\"corolla\"],\"yaxis\":\"y\",\"type\":\"bar\"},{\"alignmentgroup\":\"True\",\"hovertemplate\":\"Car_Name=%{y}<br>Selling_Price=%{x}<extra></extra>\",\"legendgroup\":\"corolla altis\",\"marker\":{\"color\":\"#EF553B\",\"pattern\":{\"shape\":\"\"}},\"name\":\"corolla altis\",\"offsetgroup\":\"corolla altis\",\"orientation\":\"h\",\"showlegend\":true,\"textposition\":\"auto\",\"x\":[7.1831249999999995],\"xaxis\":\"x\",\"y\":[\"corolla altis\"],\"yaxis\":\"y\",\"type\":\"bar\"},{\"alignmentgroup\":\"True\",\"hovertemplate\":\"Car_Name=%{y}<br>Selling_Price=%{x}<extra></extra>\",\"legendgroup\":\"creta\",\"marker\":{\"color\":\"#00cc96\",\"pattern\":{\"shape\":\"\"}},\"name\":\"creta\",\"offsetgroup\":\"creta\",\"orientation\":\"h\",\"showlegend\":true,\"textposition\":\"auto\",\"x\":[11.799999999999999],\"xaxis\":\"x\",\"y\":[\"creta\"],\"yaxis\":\"y\",\"type\":\"bar\"},{\"alignmentgroup\":\"True\",\"hovertemplate\":\"Car_Name=%{y}<br>Selling_Price=%{x}<extra></extra>\",\"legendgroup\":\"dzire\",\"marker\":{\"color\":\"#ab63fa\",\"pattern\":{\"shape\":\"\"}},\"name\":\"dzire\",\"offsetgroup\":\"dzire\",\"orientation\":\"h\",\"showlegend\":true,\"textposition\":\"auto\",\"x\":[4.475],\"xaxis\":\"x\",\"y\":[\"dzire\"],\"yaxis\":\"y\",\"type\":\"bar\"},{\"alignmentgroup\":\"True\",\"hovertemplate\":\"Car_Name=%{y}<br>Selling_Price=%{x}<extra></extra>\",\"legendgroup\":\"elantra\",\"marker\":{\"color\":\"#FFA15A\",\"pattern\":{\"shape\":\"\"}},\"name\":\"elantra\",\"offsetgroup\":\"elantra\",\"orientation\":\"h\",\"showlegend\":true,\"textposition\":\"auto\",\"x\":[11.6],\"xaxis\":\"x\",\"y\":[\"elantra\"],\"yaxis\":\"y\",\"type\":\"bar\"},{\"alignmentgroup\":\"True\",\"hovertemplate\":\"Car_Name=%{y}<br>Selling_Price=%{x}<extra></extra>\",\"legendgroup\":\"eon\",\"marker\":{\"color\":\"#19d3f3\",\"pattern\":{\"shape\":\"\"}},\"name\":\"eon\",\"offsetgroup\":\"eon\",\"orientation\":\"h\",\"showlegend\":true,\"textposition\":\"auto\",\"x\":[2.9],\"xaxis\":\"x\",\"y\":[\"eon\"],\"yaxis\":\"y\",\"type\":\"bar\"},{\"alignmentgroup\":\"True\",\"hovertemplate\":\"Car_Name=%{y}<br>Selling_Price=%{x}<extra></extra>\",\"legendgroup\":\"ertiga\",\"marker\":{\"color\":\"#FF6692\",\"pattern\":{\"shape\":\"\"}},\"name\":\"ertiga\",\"offsetgroup\":\"ertiga\",\"orientation\":\"h\",\"showlegend\":true,\"textposition\":\"auto\",\"x\":[6.7749999999999995],\"xaxis\":\"x\",\"y\":[\"ertiga\"],\"yaxis\":\"y\",\"type\":\"bar\"},{\"alignmentgroup\":\"True\",\"hovertemplate\":\"Car_Name=%{y}<br>Selling_Price=%{x}<extra></extra>\",\"legendgroup\":\"etios cross\",\"marker\":{\"color\":\"#B6E880\",\"pattern\":{\"shape\":\"\"}},\"name\":\"etios cross\",\"offsetgroup\":\"etios cross\",\"orientation\":\"h\",\"showlegend\":true,\"textposition\":\"auto\",\"x\":[4.633333333333334],\"xaxis\":\"x\",\"y\":[\"etios cross\"],\"yaxis\":\"y\",\"type\":\"bar\"},{\"alignmentgroup\":\"True\",\"hovertemplate\":\"Car_Name=%{y}<br>Selling_Price=%{x}<extra></extra>\",\"legendgroup\":\"etios g\",\"marker\":{\"color\":\"#FF97FF\",\"pattern\":{\"shape\":\"\"}},\"name\":\"etios g\",\"offsetgroup\":\"etios g\",\"orientation\":\"h\",\"showlegend\":true,\"textposition\":\"auto\",\"x\":[4.266666666666667],\"xaxis\":\"x\",\"y\":[\"etios g\"],\"yaxis\":\"y\",\"type\":\"bar\"},{\"alignmentgroup\":\"True\",\"hovertemplate\":\"Car_Name=%{y}<br>Selling_Price=%{x}<extra></extra>\",\"legendgroup\":\"etios gd\",\"marker\":{\"color\":\"#FECB52\",\"pattern\":{\"shape\":\"\"}},\"name\":\"etios gd\",\"offsetgroup\":\"etios gd\",\"orientation\":\"h\",\"showlegend\":true,\"textposition\":\"auto\",\"x\":[4.75],\"xaxis\":\"x\",\"y\":[\"etios gd\"],\"yaxis\":\"y\",\"type\":\"bar\"},{\"alignmentgroup\":\"True\",\"hovertemplate\":\"Car_Name=%{y}<br>Selling_Price=%{x}<extra></extra>\",\"legendgroup\":\"etios liva\",\"marker\":{\"color\":\"#636efa\",\"pattern\":{\"shape\":\"\"}},\"name\":\"etios liva\",\"offsetgroup\":\"etios liva\",\"orientation\":\"h\",\"showlegend\":true,\"textposition\":\"auto\",\"x\":[3.7],\"xaxis\":\"x\",\"y\":[\"etios liva\"],\"yaxis\":\"y\",\"type\":\"bar\"},{\"alignmentgroup\":\"True\",\"hovertemplate\":\"Car_Name=%{y}<br>Selling_Price=%{x}<extra></extra>\",\"legendgroup\":\"fortuner\",\"marker\":{\"color\":\"#EF553B\",\"pattern\":{\"shape\":\"\"}},\"name\":\"fortuner\",\"offsetgroup\":\"fortuner\",\"orientation\":\"h\",\"showlegend\":true,\"textposition\":\"auto\",\"x\":[18.685454545454544],\"xaxis\":\"x\",\"y\":[\"fortuner\"],\"yaxis\":\"y\",\"type\":\"bar\"},{\"alignmentgroup\":\"True\",\"hovertemplate\":\"Car_Name=%{y}<br>Selling_Price=%{x}<extra></extra>\",\"legendgroup\":\"grand i10\",\"marker\":{\"color\":\"#00cc96\",\"pattern\":{\"shape\":\"\"}},\"name\":\"grand i10\",\"offsetgroup\":\"grand i10\",\"orientation\":\"h\",\"showlegend\":true,\"textposition\":\"auto\",\"x\":[4.94375],\"xaxis\":\"x\",\"y\":[\"grand i10\"],\"yaxis\":\"y\",\"type\":\"bar\"},{\"alignmentgroup\":\"True\",\"hovertemplate\":\"Car_Name=%{y}<br>Selling_Price=%{x}<extra></extra>\",\"legendgroup\":\"i10\",\"marker\":{\"color\":\"#ab63fa\",\"pattern\":{\"shape\":\"\"}},\"name\":\"i10\",\"offsetgroup\":\"i10\",\"orientation\":\"h\",\"showlegend\":true,\"textposition\":\"auto\",\"x\":[3.06],\"xaxis\":\"x\",\"y\":[\"i10\"],\"yaxis\":\"y\",\"type\":\"bar\"},{\"alignmentgroup\":\"True\",\"hovertemplate\":\"Car_Name=%{y}<br>Selling_Price=%{x}<extra></extra>\",\"legendgroup\":\"i20\",\"marker\":{\"color\":\"#FFA15A\",\"pattern\":{\"shape\":\"\"}},\"name\":\"i20\",\"offsetgroup\":\"i20\",\"orientation\":\"h\",\"showlegend\":true,\"textposition\":\"auto\",\"x\":[4.766666666666667],\"xaxis\":\"x\",\"y\":[\"i20\"],\"yaxis\":\"y\",\"type\":\"bar\"},{\"alignmentgroup\":\"True\",\"hovertemplate\":\"Car_Name=%{y}<br>Selling_Price=%{x}<extra></extra>\",\"legendgroup\":\"ignis\",\"marker\":{\"color\":\"#19d3f3\",\"pattern\":{\"shape\":\"\"}},\"name\":\"ignis\",\"offsetgroup\":\"ignis\",\"orientation\":\"h\",\"showlegend\":true,\"textposition\":\"auto\",\"x\":[4.9],\"xaxis\":\"x\",\"y\":[\"ignis\"],\"yaxis\":\"y\",\"type\":\"bar\"},{\"alignmentgroup\":\"True\",\"hovertemplate\":\"Car_Name=%{y}<br>Selling_Price=%{x}<extra></extra>\",\"legendgroup\":\"innova\",\"marker\":{\"color\":\"#FF6692\",\"pattern\":{\"shape\":\"\"}},\"name\":\"innova\",\"offsetgroup\":\"innova\",\"orientation\":\"h\",\"showlegend\":true,\"textposition\":\"auto\",\"x\":[12.777777777777779],\"xaxis\":\"x\",\"y\":[\"innova\"],\"yaxis\":\"y\",\"type\":\"bar\"},{\"alignmentgroup\":\"True\",\"hovertemplate\":\"Car_Name=%{y}<br>Selling_Price=%{x}<extra></extra>\",\"legendgroup\":\"jazz\",\"marker\":{\"color\":\"#B6E880\",\"pattern\":{\"shape\":\"\"}},\"name\":\"jazz\",\"offsetgroup\":\"jazz\",\"orientation\":\"h\",\"showlegend\":true,\"textposition\":\"auto\",\"x\":[5.828571428571428],\"xaxis\":\"x\",\"y\":[\"jazz\"],\"yaxis\":\"y\",\"type\":\"bar\"},{\"alignmentgroup\":\"True\",\"hovertemplate\":\"Car_Name=%{y}<br>Selling_Price=%{x}<extra></extra>\",\"legendgroup\":\"land cruiser\",\"marker\":{\"color\":\"#FF97FF\",\"pattern\":{\"shape\":\"\"}},\"name\":\"land cruiser\",\"offsetgroup\":\"land cruiser\",\"orientation\":\"h\",\"showlegend\":true,\"textposition\":\"auto\",\"x\":[35.0],\"xaxis\":\"x\",\"y\":[\"land cruiser\"],\"yaxis\":\"y\",\"type\":\"bar\"},{\"alignmentgroup\":\"True\",\"hovertemplate\":\"Car_Name=%{y}<br>Selling_Price=%{x}<extra></extra>\",\"legendgroup\":\"omni\",\"marker\":{\"color\":\"#FECB52\",\"pattern\":{\"shape\":\"\"}},\"name\":\"omni\",\"offsetgroup\":\"omni\",\"orientation\":\"h\",\"showlegend\":true,\"textposition\":\"auto\",\"x\":[1.25],\"xaxis\":\"x\",\"y\":[\"omni\"],\"yaxis\":\"y\",\"type\":\"bar\"},{\"alignmentgroup\":\"True\",\"hovertemplate\":\"Car_Name=%{y}<br>Selling_Price=%{x}<extra></extra>\",\"legendgroup\":\"ritz\",\"marker\":{\"color\":\"#636efa\",\"pattern\":{\"shape\":\"\"}},\"name\":\"ritz\",\"offsetgroup\":\"ritz\",\"orientation\":\"h\",\"showlegend\":true,\"textposition\":\"auto\",\"x\":[2.8625],\"xaxis\":\"x\",\"y\":[\"ritz\"],\"yaxis\":\"y\",\"type\":\"bar\"},{\"alignmentgroup\":\"True\",\"hovertemplate\":\"Car_Name=%{y}<br>Selling_Price=%{x}<extra></extra>\",\"legendgroup\":\"s cross\",\"marker\":{\"color\":\"#EF553B\",\"pattern\":{\"shape\":\"\"}},\"name\":\"s cross\",\"offsetgroup\":\"s cross\",\"orientation\":\"h\",\"showlegend\":true,\"textposition\":\"auto\",\"x\":[6.5],\"xaxis\":\"x\",\"y\":[\"s cross\"],\"yaxis\":\"y\",\"type\":\"bar\"},{\"alignmentgroup\":\"True\",\"hovertemplate\":\"Car_Name=%{y}<br>Selling_Price=%{x}<extra></extra>\",\"legendgroup\":\"swift\",\"marker\":{\"color\":\"#00cc96\",\"pattern\":{\"shape\":\"\"}},\"name\":\"swift\",\"offsetgroup\":\"swift\",\"orientation\":\"h\",\"showlegend\":true,\"textposition\":\"auto\",\"x\":[4.54],\"xaxis\":\"x\",\"y\":[\"swift\"],\"yaxis\":\"y\",\"type\":\"bar\"},{\"alignmentgroup\":\"True\",\"hovertemplate\":\"Car_Name=%{y}<br>Selling_Price=%{x}<extra></extra>\",\"legendgroup\":\"sx4\",\"marker\":{\"color\":\"#ab63fa\",\"pattern\":{\"shape\":\"\"}},\"name\":\"sx4\",\"offsetgroup\":\"sx4\",\"orientation\":\"h\",\"showlegend\":true,\"textposition\":\"auto\",\"x\":[3.158333333333333],\"xaxis\":\"x\",\"y\":[\"sx4\"],\"yaxis\":\"y\",\"type\":\"bar\"},{\"alignmentgroup\":\"True\",\"hovertemplate\":\"Car_Name=%{y}<br>Selling_Price=%{x}<extra></extra>\",\"legendgroup\":\"verna\",\"marker\":{\"color\":\"#FFA15A\",\"pattern\":{\"shape\":\"\"}},\"name\":\"verna\",\"offsetgroup\":\"verna\",\"orientation\":\"h\",\"showlegend\":true,\"textposition\":\"auto\",\"x\":[6.107857142857143],\"xaxis\":\"x\",\"y\":[\"verna\"],\"yaxis\":\"y\",\"type\":\"bar\"},{\"alignmentgroup\":\"True\",\"hovertemplate\":\"Car_Name=%{y}<br>Selling_Price=%{x}<extra></extra>\",\"legendgroup\":\"vitara brezza\",\"marker\":{\"color\":\"#19d3f3\",\"pattern\":{\"shape\":\"\"}},\"name\":\"vitara brezza\",\"offsetgroup\":\"vitara brezza\",\"orientation\":\"h\",\"showlegend\":true,\"textposition\":\"auto\",\"x\":[9.25],\"xaxis\":\"x\",\"y\":[\"vitara brezza\"],\"yaxis\":\"y\",\"type\":\"bar\"},{\"alignmentgroup\":\"True\",\"hovertemplate\":\"Car_Name=%{y}<br>Selling_Price=%{x}<extra></extra>\",\"legendgroup\":\"wagon r\",\"marker\":{\"color\":\"#FF6692\",\"pattern\":{\"shape\":\"\"}},\"name\":\"wagon r\",\"offsetgroup\":\"wagon r\",\"orientation\":\"h\",\"showlegend\":true,\"textposition\":\"auto\",\"x\":[2.5125],\"xaxis\":\"x\",\"y\":[\"wagon r\"],\"yaxis\":\"y\",\"type\":\"bar\"},{\"alignmentgroup\":\"True\",\"hovertemplate\":\"Car_Name=%{y}<br>Selling_Price=%{x}<extra></extra>\",\"legendgroup\":\"xcent\",\"marker\":{\"color\":\"#B6E880\",\"pattern\":{\"shape\":\"\"}},\"name\":\"xcent\",\"offsetgroup\":\"xcent\",\"orientation\":\"h\",\"showlegend\":true,\"textposition\":\"auto\",\"x\":[4.966666666666667],\"xaxis\":\"x\",\"y\":[\"xcent\"],\"yaxis\":\"y\",\"type\":\"bar\"}],                        {\"template\":{\"data\":{\"histogram2dcontour\":[{\"type\":\"histogram2dcontour\",\"colorbar\":{\"outlinewidth\":0,\"ticks\":\"\"},\"colorscale\":[[0.0,\"#0d0887\"],[0.1111111111111111,\"#46039f\"],[0.2222222222222222,\"#7201a8\"],[0.3333333333333333,\"#9c179e\"],[0.4444444444444444,\"#bd3786\"],[0.5555555555555556,\"#d8576b\"],[0.6666666666666666,\"#ed7953\"],[0.7777777777777778,\"#fb9f3a\"],[0.8888888888888888,\"#fdca26\"],[1.0,\"#f0f921\"]]}],\"choropleth\":[{\"type\":\"choropleth\",\"colorbar\":{\"outlinewidth\":0,\"ticks\":\"\"}}],\"histogram2d\":[{\"type\":\"histogram2d\",\"colorbar\":{\"outlinewidth\":0,\"ticks\":\"\"},\"colorscale\":[[0.0,\"#0d0887\"],[0.1111111111111111,\"#46039f\"],[0.2222222222222222,\"#7201a8\"],[0.3333333333333333,\"#9c179e\"],[0.4444444444444444,\"#bd3786\"],[0.5555555555555556,\"#d8576b\"],[0.6666666666666666,\"#ed7953\"],[0.7777777777777778,\"#fb9f3a\"],[0.8888888888888888,\"#fdca26\"],[1.0,\"#f0f921\"]]}],\"heatmap\":[{\"type\":\"heatmap\",\"colorbar\":{\"outlinewidth\":0,\"ticks\":\"\"},\"colorscale\":[[0.0,\"#0d0887\"],[0.1111111111111111,\"#46039f\"],[0.2222222222222222,\"#7201a8\"],[0.3333333333333333,\"#9c179e\"],[0.4444444444444444,\"#bd3786\"],[0.5555555555555556,\"#d8576b\"],[0.6666666666666666,\"#ed7953\"],[0.7777777777777778,\"#fb9f3a\"],[0.8888888888888888,\"#fdca26\"],[1.0,\"#f0f921\"]]}],\"heatmapgl\":[{\"type\":\"heatmapgl\",\"colorbar\":{\"outlinewidth\":0,\"ticks\":\"\"},\"colorscale\":[[0.0,\"#0d0887\"],[0.1111111111111111,\"#46039f\"],[0.2222222222222222,\"#7201a8\"],[0.3333333333333333,\"#9c179e\"],[0.4444444444444444,\"#bd3786\"],[0.5555555555555556,\"#d8576b\"],[0.6666666666666666,\"#ed7953\"],[0.7777777777777778,\"#fb9f3a\"],[0.8888888888888888,\"#fdca26\"],[1.0,\"#f0f921\"]]}],\"contourcarpet\":[{\"type\":\"contourcarpet\",\"colorbar\":{\"outlinewidth\":0,\"ticks\":\"\"}}],\"contour\":[{\"type\":\"contour\",\"colorbar\":{\"outlinewidth\":0,\"ticks\":\"\"},\"colorscale\":[[0.0,\"#0d0887\"],[0.1111111111111111,\"#46039f\"],[0.2222222222222222,\"#7201a8\"],[0.3333333333333333,\"#9c179e\"],[0.4444444444444444,\"#bd3786\"],[0.5555555555555556,\"#d8576b\"],[0.6666666666666666,\"#ed7953\"],[0.7777777777777778,\"#fb9f3a\"],[0.8888888888888888,\"#fdca26\"],[1.0,\"#f0f921\"]]}],\"surface\":[{\"type\":\"surface\",\"colorbar\":{\"outlinewidth\":0,\"ticks\":\"\"},\"colorscale\":[[0.0,\"#0d0887\"],[0.1111111111111111,\"#46039f\"],[0.2222222222222222,\"#7201a8\"],[0.3333333333333333,\"#9c179e\"],[0.4444444444444444,\"#bd3786\"],[0.5555555555555556,\"#d8576b\"],[0.6666666666666666,\"#ed7953\"],[0.7777777777777778,\"#fb9f3a\"],[0.8888888888888888,\"#fdca26\"],[1.0,\"#f0f921\"]]}],\"mesh3d\":[{\"type\":\"mesh3d\",\"colorbar\":{\"outlinewidth\":0,\"ticks\":\"\"}}],\"scatter\":[{\"fillpattern\":{\"fillmode\":\"overlay\",\"size\":10,\"solidity\":0.2},\"type\":\"scatter\"}],\"parcoords\":[{\"type\":\"parcoords\",\"line\":{\"colorbar\":{\"outlinewidth\":0,\"ticks\":\"\"}}}],\"scatterpolargl\":[{\"type\":\"scatterpolargl\",\"marker\":{\"colorbar\":{\"outlinewidth\":0,\"ticks\":\"\"}}}],\"bar\":[{\"error_x\":{\"color\":\"#2a3f5f\"},\"error_y\":{\"color\":\"#2a3f5f\"},\"marker\":{\"line\":{\"color\":\"#E5ECF6\",\"width\":0.5},\"pattern\":{\"fillmode\":\"overlay\",\"size\":10,\"solidity\":0.2}},\"type\":\"bar\"}],\"scattergeo\":[{\"type\":\"scattergeo\",\"marker\":{\"colorbar\":{\"outlinewidth\":0,\"ticks\":\"\"}}}],\"scatterpolar\":[{\"type\":\"scatterpolar\",\"marker\":{\"colorbar\":{\"outlinewidth\":0,\"ticks\":\"\"}}}],\"histogram\":[{\"marker\":{\"pattern\":{\"fillmode\":\"overlay\",\"size\":10,\"solidity\":0.2}},\"type\":\"histogram\"}],\"scattergl\":[{\"type\":\"scattergl\",\"marker\":{\"colorbar\":{\"outlinewidth\":0,\"ticks\":\"\"}}}],\"scatter3d\":[{\"type\":\"scatter3d\",\"line\":{\"colorbar\":{\"outlinewidth\":0,\"ticks\":\"\"}},\"marker\":{\"colorbar\":{\"outlinewidth\":0,\"ticks\":\"\"}}}],\"scattermapbox\":[{\"type\":\"scattermapbox\",\"marker\":{\"colorbar\":{\"outlinewidth\":0,\"ticks\":\"\"}}}],\"scatterternary\":[{\"type\":\"scatterternary\",\"marker\":{\"colorbar\":{\"outlinewidth\":0,\"ticks\":\"\"}}}],\"scattercarpet\":[{\"type\":\"scattercarpet\",\"marker\":{\"colorbar\":{\"outlinewidth\":0,\"ticks\":\"\"}}}],\"carpet\":[{\"aaxis\":{\"endlinecolor\":\"#2a3f5f\",\"gridcolor\":\"white\",\"linecolor\":\"white\",\"minorgridcolor\":\"white\",\"startlinecolor\":\"#2a3f5f\"},\"baxis\":{\"endlinecolor\":\"#2a3f5f\",\"gridcolor\":\"white\",\"linecolor\":\"white\",\"minorgridcolor\":\"white\",\"startlinecolor\":\"#2a3f5f\"},\"type\":\"carpet\"}],\"table\":[{\"cells\":{\"fill\":{\"color\":\"#EBF0F8\"},\"line\":{\"color\":\"white\"}},\"header\":{\"fill\":{\"color\":\"#C8D4E3\"},\"line\":{\"color\":\"white\"}},\"type\":\"table\"}],\"barpolar\":[{\"marker\":{\"line\":{\"color\":\"#E5ECF6\",\"width\":0.5},\"pattern\":{\"fillmode\":\"overlay\",\"size\":10,\"solidity\":0.2}},\"type\":\"barpolar\"}],\"pie\":[{\"automargin\":true,\"type\":\"pie\"}]},\"layout\":{\"autotypenumbers\":\"strict\",\"colorway\":[\"#636efa\",\"#EF553B\",\"#00cc96\",\"#ab63fa\",\"#FFA15A\",\"#19d3f3\",\"#FF6692\",\"#B6E880\",\"#FF97FF\",\"#FECB52\"],\"font\":{\"color\":\"#2a3f5f\"},\"hovermode\":\"closest\",\"hoverlabel\":{\"align\":\"left\"},\"paper_bgcolor\":\"white\",\"plot_bgcolor\":\"#E5ECF6\",\"polar\":{\"bgcolor\":\"#E5ECF6\",\"angularaxis\":{\"gridcolor\":\"white\",\"linecolor\":\"white\",\"ticks\":\"\"},\"radialaxis\":{\"gridcolor\":\"white\",\"linecolor\":\"white\",\"ticks\":\"\"}},\"ternary\":{\"bgcolor\":\"#E5ECF6\",\"aaxis\":{\"gridcolor\":\"white\",\"linecolor\":\"white\",\"ticks\":\"\"},\"baxis\":{\"gridcolor\":\"white\",\"linecolor\":\"white\",\"ticks\":\"\"},\"caxis\":{\"gridcolor\":\"white\",\"linecolor\":\"white\",\"ticks\":\"\"}},\"coloraxis\":{\"colorbar\":{\"outlinewidth\":0,\"ticks\":\"\"}},\"colorscale\":{\"sequential\":[[0.0,\"#0d0887\"],[0.1111111111111111,\"#46039f\"],[0.2222222222222222,\"#7201a8\"],[0.3333333333333333,\"#9c179e\"],[0.4444444444444444,\"#bd3786\"],[0.5555555555555556,\"#d8576b\"],[0.6666666666666666,\"#ed7953\"],[0.7777777777777778,\"#fb9f3a\"],[0.8888888888888888,\"#fdca26\"],[1.0,\"#f0f921\"]],\"sequentialminus\":[[0.0,\"#0d0887\"],[0.1111111111111111,\"#46039f\"],[0.2222222222222222,\"#7201a8\"],[0.3333333333333333,\"#9c179e\"],[0.4444444444444444,\"#bd3786\"],[0.5555555555555556,\"#d8576b\"],[0.6666666666666666,\"#ed7953\"],[0.7777777777777778,\"#fb9f3a\"],[0.8888888888888888,\"#fdca26\"],[1.0,\"#f0f921\"]],\"diverging\":[[0,\"#8e0152\"],[0.1,\"#c51b7d\"],[0.2,\"#de77ae\"],[0.3,\"#f1b6da\"],[0.4,\"#fde0ef\"],[0.5,\"#f7f7f7\"],[0.6,\"#e6f5d0\"],[0.7,\"#b8e186\"],[0.8,\"#7fbc41\"],[0.9,\"#4d9221\"],[1,\"#276419\"]]},\"xaxis\":{\"gridcolor\":\"white\",\"linecolor\":\"white\",\"ticks\":\"\",\"title\":{\"standoff\":15},\"zerolinecolor\":\"white\",\"automargin\":true,\"zerolinewidth\":2},\"yaxis\":{\"gridcolor\":\"white\",\"linecolor\":\"white\",\"ticks\":\"\",\"title\":{\"standoff\":15},\"zerolinecolor\":\"white\",\"automargin\":true,\"zerolinewidth\":2},\"scene\":{\"xaxis\":{\"backgroundcolor\":\"#E5ECF6\",\"gridcolor\":\"white\",\"linecolor\":\"white\",\"showbackground\":true,\"ticks\":\"\",\"zerolinecolor\":\"white\",\"gridwidth\":2},\"yaxis\":{\"backgroundcolor\":\"#E5ECF6\",\"gridcolor\":\"white\",\"linecolor\":\"white\",\"showbackground\":true,\"ticks\":\"\",\"zerolinecolor\":\"white\",\"gridwidth\":2},\"zaxis\":{\"backgroundcolor\":\"#E5ECF6\",\"gridcolor\":\"white\",\"linecolor\":\"white\",\"showbackground\":true,\"ticks\":\"\",\"zerolinecolor\":\"white\",\"gridwidth\":2}},\"shapedefaults\":{\"line\":{\"color\":\"#2a3f5f\"}},\"annotationdefaults\":{\"arrowcolor\":\"#2a3f5f\",\"arrowhead\":0,\"arrowwidth\":1},\"geo\":{\"bgcolor\":\"white\",\"landcolor\":\"#E5ECF6\",\"subunitcolor\":\"white\",\"showland\":true,\"showlakes\":true,\"lakecolor\":\"white\"},\"title\":{\"x\":0.05},\"mapbox\":{\"style\":\"light\"}}},\"xaxis\":{\"anchor\":\"y\",\"domain\":[0.0,1.0],\"title\":{\"text\":\"Selling_Price\"}},\"yaxis\":{\"anchor\":\"x\",\"domain\":[0.0,1.0],\"title\":{\"text\":\"Car_Name\"},\"categoryorder\":\"array\",\"categoryarray\":[\"xcent\",\"wagon r\",\"vitara brezza\",\"verna\",\"sx4\",\"swift\",\"s cross\",\"ritz\",\"omni\",\"land cruiser\",\"jazz\",\"innova\",\"ignis\",\"i20\",\"i10\",\"grand i10\",\"fortuner\",\"etios liva\",\"etios gd\",\"etios g\",\"etios cross\",\"ertiga\",\"eon\",\"elantra\",\"dzire\",\"creta\",\"corolla altis\",\"corolla\",\"city\",\"ciaz\",\"camry\",\"brio\",\"baleno\",\"amaze\",\"alto k10\",\"alto 800\",\"Yamaha Fazer \",\"Yamaha FZ S V 2.0\",\"Yamaha FZ S \",\"Yamaha FZ 16\",\"Yamaha FZ  v 2.0\",\"UM Renegade Mojave\",\"TVS Wego\",\"TVS Sport \",\"TVS Jupyter\",\"TVS Apache RTR 180\",\"TVS Apache RTR 160\",\"Suzuki Access 125\",\"Royal Enfield Thunder 500\",\"Royal Enfield Thunder 350\",\"Royal Enfield Classic 500\",\"Royal Enfield Classic 350\",\"Royal Enfield Bullet 350\",\"Mahindra Mojo XT300\",\"KTM RC390\",\"KTM RC200\",\"KTM 390 Duke \",\"Hyosung GT250R\",\"Honda Karizma\",\"Honda Dream Yuga \",\"Honda CBR 150\",\"Honda CB twister\",\"Honda CB Unicorn\",\"Honda CB Trigger\",\"Honda CB Shine\",\"Honda CB Hornet 160R\",\"Honda Activa 4G\",\"Honda Activa 125\",\"Hero Super Splendor\",\"Hero Splender iSmart\",\"Hero Splender Plus\",\"Hero Passion X pro\",\"Hero Passion Pro\",\"Hero Hunk\",\"Hero Honda Passion Pro\",\"Hero Honda CBZ extreme\",\"Hero Glamour\",\"Hero Extreme\",\"Hero  Ignitor Disc\",\"Hero  CBZ Xtreme\",\"Bajaj Pulsar RS200\",\"Bajaj Pulsar NS 200\",\"Bajaj Pulsar 220 F\",\"Bajaj Pulsar 150\",\"Bajaj Pulsar 135 LS\",\"Bajaj Pulsar  NS 200\",\"Bajaj Dominar 400\",\"Bajaj Discover 125\",\"Bajaj Discover 100\",\"Bajaj Avenger Street 220\",\"Bajaj Avenger 220 dtsi\",\"Bajaj Avenger 220\",\"Bajaj Avenger 150 street\",\"Bajaj Avenger 150\",\"Bajaj  ct 100\",\"Activa 4g\",\"Activa 3g\",\"800\"]},\"legend\":{\"title\":{\"text\":\"Car_Name\"},\"tracegroupgap\":0},\"margin\":{\"t\":60},\"barmode\":\"relative\"},                        {\"responsive\": true}                    ).then(function(){\n",
       "                            \n",
       "var gd = document.getElementById('e92f25d7-d97b-44b9-9fce-26f703c5079b');\n",
       "var x = new MutationObserver(function (mutations, observer) {{\n",
       "        var display = window.getComputedStyle(gd).display;\n",
       "        if (!display || display === 'none') {{\n",
       "            console.log([gd, 'removed!']);\n",
       "            Plotly.purge(gd);\n",
       "            observer.disconnect();\n",
       "        }}\n",
       "}});\n",
       "\n",
       "// Listen for the removal of the full notebook cells\n",
       "var notebookContainer = gd.closest('#notebook-container');\n",
       "if (notebookContainer) {{\n",
       "    x.observe(notebookContainer, {childList: true});\n",
       "}}\n",
       "\n",
       "// Listen for the clearing of the current output cell\n",
       "var outputEl = gd.closest('.output');\n",
       "if (outputEl) {{\n",
       "    x.observe(outputEl, {childList: true});\n",
       "}}\n",
       "\n",
       "                        })                };                });            </script>        </div>"
      ]
     },
     "metadata": {},
     "output_type": "display_data"
    }
   ],
   "source": [
    "px.bar(data_frame=data_m,x='Selling_Price',y='Car_Name',color='Car_Name')"
   ]
  },
  {
   "cell_type": "markdown",
   "id": "e893ea87",
   "metadata": {},
   "source": [
    "###### Hence we can say that LAND CRUISER have maximum average selling price and FORTUNER has second most maximum average selling price."
   ]
  },
  {
   "cell_type": "markdown",
   "id": "7ae7de78",
   "metadata": {},
   "source": [
    "## Training Model"
   ]
  },
  {
   "cell_type": "markdown",
   "id": "43e2a0e4",
   "metadata": {},
   "source": [
    "### Import Libraries"
   ]
  },
  {
   "cell_type": "code",
   "execution_count": 122,
   "id": "97db8fe5",
   "metadata": {},
   "outputs": [],
   "source": [
    "from sklearn.preprocessing import StandardScaler, OneHotEncoder\n",
    "from sklearn.linear_model import LinearRegression\n",
    "from sklearn.model_selection import train_test_split\n",
    "from sklearn.pipeline import Pipeline\n",
    "from sklearn.compose import ColumnTransformer\n",
    "from sklearn.metrics import r2_score,mean_squared_error\n",
    "from sklearn import metrics"
   ]
  },
  {
   "cell_type": "markdown",
   "id": "7d06e22c",
   "metadata": {},
   "source": [
    "##### Splitting input and output data"
   ]
  },
  {
   "cell_type": "code",
   "execution_count": 123,
   "id": "f031f190",
   "metadata": {},
   "outputs": [],
   "source": [
    "x=car_data[['Car_Name','Year','Present_Price','Driven_kms','Fuel_Type','Selling_type','Transmission','Owner']]"
   ]
  },
  {
   "cell_type": "code",
   "execution_count": 124,
   "id": "c89f7524",
   "metadata": {},
   "outputs": [
    {
     "data": {
      "text/html": [
       "<div>\n",
       "<style scoped>\n",
       "    .dataframe tbody tr th:only-of-type {\n",
       "        vertical-align: middle;\n",
       "    }\n",
       "\n",
       "    .dataframe tbody tr th {\n",
       "        vertical-align: top;\n",
       "    }\n",
       "\n",
       "    .dataframe thead th {\n",
       "        text-align: right;\n",
       "    }\n",
       "</style>\n",
       "<table border=\"1\" class=\"dataframe\">\n",
       "  <thead>\n",
       "    <tr style=\"text-align: right;\">\n",
       "      <th></th>\n",
       "      <th>Car_Name</th>\n",
       "      <th>Year</th>\n",
       "      <th>Present_Price</th>\n",
       "      <th>Driven_kms</th>\n",
       "      <th>Fuel_Type</th>\n",
       "      <th>Selling_type</th>\n",
       "      <th>Transmission</th>\n",
       "      <th>Owner</th>\n",
       "    </tr>\n",
       "  </thead>\n",
       "  <tbody>\n",
       "    <tr>\n",
       "      <th>0</th>\n",
       "      <td>ritz</td>\n",
       "      <td>2014</td>\n",
       "      <td>5.59</td>\n",
       "      <td>27000</td>\n",
       "      <td>Petrol</td>\n",
       "      <td>Dealer</td>\n",
       "      <td>Manual</td>\n",
       "      <td>0</td>\n",
       "    </tr>\n",
       "    <tr>\n",
       "      <th>1</th>\n",
       "      <td>sx4</td>\n",
       "      <td>2013</td>\n",
       "      <td>9.54</td>\n",
       "      <td>43000</td>\n",
       "      <td>Diesel</td>\n",
       "      <td>Dealer</td>\n",
       "      <td>Manual</td>\n",
       "      <td>0</td>\n",
       "    </tr>\n",
       "    <tr>\n",
       "      <th>2</th>\n",
       "      <td>ciaz</td>\n",
       "      <td>2017</td>\n",
       "      <td>9.85</td>\n",
       "      <td>6900</td>\n",
       "      <td>Petrol</td>\n",
       "      <td>Dealer</td>\n",
       "      <td>Manual</td>\n",
       "      <td>0</td>\n",
       "    </tr>\n",
       "    <tr>\n",
       "      <th>3</th>\n",
       "      <td>wagon r</td>\n",
       "      <td>2011</td>\n",
       "      <td>4.15</td>\n",
       "      <td>5200</td>\n",
       "      <td>Petrol</td>\n",
       "      <td>Dealer</td>\n",
       "      <td>Manual</td>\n",
       "      <td>0</td>\n",
       "    </tr>\n",
       "    <tr>\n",
       "      <th>4</th>\n",
       "      <td>swift</td>\n",
       "      <td>2014</td>\n",
       "      <td>6.87</td>\n",
       "      <td>42450</td>\n",
       "      <td>Diesel</td>\n",
       "      <td>Dealer</td>\n",
       "      <td>Manual</td>\n",
       "      <td>0</td>\n",
       "    </tr>\n",
       "  </tbody>\n",
       "</table>\n",
       "</div>"
      ],
      "text/plain": [
       "  Car_Name  Year  Present_Price  Driven_kms Fuel_Type Selling_type  \\\n",
       "0     ritz  2014           5.59       27000    Petrol       Dealer   \n",
       "1      sx4  2013           9.54       43000    Diesel       Dealer   \n",
       "2     ciaz  2017           9.85        6900    Petrol       Dealer   \n",
       "3  wagon r  2011           4.15        5200    Petrol       Dealer   \n",
       "4    swift  2014           6.87       42450    Diesel       Dealer   \n",
       "\n",
       "  Transmission  Owner  \n",
       "0       Manual      0  \n",
       "1       Manual      0  \n",
       "2       Manual      0  \n",
       "3       Manual      0  \n",
       "4       Manual      0  "
      ]
     },
     "execution_count": 124,
     "metadata": {},
     "output_type": "execute_result"
    }
   ],
   "source": [
    "x.head()"
   ]
  },
  {
   "cell_type": "code",
   "execution_count": 125,
   "id": "458e0cb0",
   "metadata": {},
   "outputs": [],
   "source": [
    "y=car_data['Selling_Price']"
   ]
  },
  {
   "cell_type": "code",
   "execution_count": 126,
   "id": "324ea887",
   "metadata": {},
   "outputs": [
    {
     "data": {
      "text/plain": [
       "0    3.35\n",
       "1    4.75\n",
       "2    7.25\n",
       "3    2.85\n",
       "4    4.60\n",
       "Name: Selling_Price, dtype: float64"
      ]
     },
     "execution_count": 126,
     "metadata": {},
     "output_type": "execute_result"
    }
   ],
   "source": [
    "y.head()"
   ]
  },
  {
   "cell_type": "markdown",
   "id": "52ce942c",
   "metadata": {},
   "source": [
    "#### Training and spliting training data"
   ]
  },
  {
   "cell_type": "code",
   "execution_count": 77,
   "id": "eac9feb5",
   "metadata": {},
   "outputs": [],
   "source": [
    "x_train,x_test,y_train,y_test=train_test_split(x,y,test_size=0.4,random_state=42)"
   ]
  },
  {
   "cell_type": "markdown",
   "id": "7881f713",
   "metadata": {},
   "source": [
    "#### Perfoming tranformation"
   ]
  },
  {
   "cell_type": "markdown",
   "id": "328c899d",
   "metadata": {},
   "source": [
    "##### Seperating categorical and numerical data"
   ]
  },
  {
   "cell_type": "code",
   "execution_count": 127,
   "id": "40c2433d",
   "metadata": {},
   "outputs": [],
   "source": [
    "cat_data=['Car_Name','Fuel_Type','Selling_type','Transmission']\n",
    "num_data=['Year','Present_Price','Driven_kms','Owner']"
   ]
  },
  {
   "cell_type": "code",
   "execution_count": 128,
   "id": "3046b716",
   "metadata": {},
   "outputs": [],
   "source": [
    "char_tran=Pipeline(steps=[('OneHot',OneHotEncoder(handle_unknown='ignore'))])"
   ]
  },
  {
   "cell_type": "code",
   "execution_count": 129,
   "id": "1ff03fe9",
   "metadata": {},
   "outputs": [],
   "source": [
    "cat_tran=Pipeline(steps=[('OneHot',OneHotEncoder(handle_unknown='ignore'))])\n",
    "num_tran=Pipeline(steps=[('scaler',StandardScaler())])\n",
    "preprocessor=ColumnTransformer(transformers=[('cat',cat_tran,cat_data),('num',num_tran,num_data)])"
   ]
  },
  {
   "cell_type": "markdown",
   "id": "36140036",
   "metadata": {},
   "source": [
    "#### Developing Model"
   ]
  },
  {
   "cell_type": "code",
   "execution_count": 130,
   "id": "6eea7052",
   "metadata": {},
   "outputs": [],
   "source": [
    "model=Pipeline(steps=[('preprocessor',preprocessor),('regressor',LinearRegression())])"
   ]
  },
  {
   "cell_type": "markdown",
   "id": "79a58d1e",
   "metadata": {},
   "source": [
    "##### Fitting training data in model"
   ]
  },
  {
   "cell_type": "code",
   "execution_count": 131,
   "id": "24631528",
   "metadata": {},
   "outputs": [
    {
     "data": {
      "text/html": [
       "<style>#sk-container-id-3 {color: black;}#sk-container-id-3 pre{padding: 0;}#sk-container-id-3 div.sk-toggleable {background-color: white;}#sk-container-id-3 label.sk-toggleable__label {cursor: pointer;display: block;width: 100%;margin-bottom: 0;padding: 0.3em;box-sizing: border-box;text-align: center;}#sk-container-id-3 label.sk-toggleable__label-arrow:before {content: \"▸\";float: left;margin-right: 0.25em;color: #696969;}#sk-container-id-3 label.sk-toggleable__label-arrow:hover:before {color: black;}#sk-container-id-3 div.sk-estimator:hover label.sk-toggleable__label-arrow:before {color: black;}#sk-container-id-3 div.sk-toggleable__content {max-height: 0;max-width: 0;overflow: hidden;text-align: left;background-color: #f0f8ff;}#sk-container-id-3 div.sk-toggleable__content pre {margin: 0.2em;color: black;border-radius: 0.25em;background-color: #f0f8ff;}#sk-container-id-3 input.sk-toggleable__control:checked~div.sk-toggleable__content {max-height: 200px;max-width: 100%;overflow: auto;}#sk-container-id-3 input.sk-toggleable__control:checked~label.sk-toggleable__label-arrow:before {content: \"▾\";}#sk-container-id-3 div.sk-estimator input.sk-toggleable__control:checked~label.sk-toggleable__label {background-color: #d4ebff;}#sk-container-id-3 div.sk-label input.sk-toggleable__control:checked~label.sk-toggleable__label {background-color: #d4ebff;}#sk-container-id-3 input.sk-hidden--visually {border: 0;clip: rect(1px 1px 1px 1px);clip: rect(1px, 1px, 1px, 1px);height: 1px;margin: -1px;overflow: hidden;padding: 0;position: absolute;width: 1px;}#sk-container-id-3 div.sk-estimator {font-family: monospace;background-color: #f0f8ff;border: 1px dotted black;border-radius: 0.25em;box-sizing: border-box;margin-bottom: 0.5em;}#sk-container-id-3 div.sk-estimator:hover {background-color: #d4ebff;}#sk-container-id-3 div.sk-parallel-item::after {content: \"\";width: 100%;border-bottom: 1px solid gray;flex-grow: 1;}#sk-container-id-3 div.sk-label:hover label.sk-toggleable__label {background-color: #d4ebff;}#sk-container-id-3 div.sk-serial::before {content: \"\";position: absolute;border-left: 1px solid gray;box-sizing: border-box;top: 0;bottom: 0;left: 50%;z-index: 0;}#sk-container-id-3 div.sk-serial {display: flex;flex-direction: column;align-items: center;background-color: white;padding-right: 0.2em;padding-left: 0.2em;position: relative;}#sk-container-id-3 div.sk-item {position: relative;z-index: 1;}#sk-container-id-3 div.sk-parallel {display: flex;align-items: stretch;justify-content: center;background-color: white;position: relative;}#sk-container-id-3 div.sk-item::before, #sk-container-id-3 div.sk-parallel-item::before {content: \"\";position: absolute;border-left: 1px solid gray;box-sizing: border-box;top: 0;bottom: 0;left: 50%;z-index: -1;}#sk-container-id-3 div.sk-parallel-item {display: flex;flex-direction: column;z-index: 1;position: relative;background-color: white;}#sk-container-id-3 div.sk-parallel-item:first-child::after {align-self: flex-end;width: 50%;}#sk-container-id-3 div.sk-parallel-item:last-child::after {align-self: flex-start;width: 50%;}#sk-container-id-3 div.sk-parallel-item:only-child::after {width: 0;}#sk-container-id-3 div.sk-dashed-wrapped {border: 1px dashed gray;margin: 0 0.4em 0.5em 0.4em;box-sizing: border-box;padding-bottom: 0.4em;background-color: white;}#sk-container-id-3 div.sk-label label {font-family: monospace;font-weight: bold;display: inline-block;line-height: 1.2em;}#sk-container-id-3 div.sk-label-container {text-align: center;}#sk-container-id-3 div.sk-container {/* jupyter's `normalize.less` sets `[hidden] { display: none; }` but bootstrap.min.css set `[hidden] { display: none !important; }` so we also need the `!important` here to be able to override the default hidden behavior on the sphinx rendered scikit-learn.org. See: https://github.com/scikit-learn/scikit-learn/issues/21755 */display: inline-block !important;position: relative;}#sk-container-id-3 div.sk-text-repr-fallback {display: none;}</style><div id=\"sk-container-id-3\" class=\"sk-top-container\"><div class=\"sk-text-repr-fallback\"><pre>Pipeline(steps=[(&#x27;preprocessor&#x27;,\n",
       "                 ColumnTransformer(transformers=[(&#x27;cat&#x27;,\n",
       "                                                  Pipeline(steps=[(&#x27;OneHot&#x27;,\n",
       "                                                                   OneHotEncoder(handle_unknown=&#x27;ignore&#x27;))]),\n",
       "                                                  [&#x27;Car_Name&#x27;, &#x27;Fuel_Type&#x27;,\n",
       "                                                   &#x27;Selling_type&#x27;,\n",
       "                                                   &#x27;Transmission&#x27;]),\n",
       "                                                 (&#x27;num&#x27;,\n",
       "                                                  Pipeline(steps=[(&#x27;scaler&#x27;,\n",
       "                                                                   StandardScaler())]),\n",
       "                                                  [&#x27;Year&#x27;, &#x27;Present_Price&#x27;,\n",
       "                                                   &#x27;Driven_kms&#x27;, &#x27;Owner&#x27;])])),\n",
       "                (&#x27;regressor&#x27;, LinearRegression())])</pre><b>In a Jupyter environment, please rerun this cell to show the HTML representation or trust the notebook. <br />On GitHub, the HTML representation is unable to render, please try loading this page with nbviewer.org.</b></div><div class=\"sk-container\" hidden><div class=\"sk-item sk-dashed-wrapped\"><div class=\"sk-label-container\"><div class=\"sk-label sk-toggleable\"><input class=\"sk-toggleable__control sk-hidden--visually\" id=\"sk-estimator-id-15\" type=\"checkbox\" ><label for=\"sk-estimator-id-15\" class=\"sk-toggleable__label sk-toggleable__label-arrow\">Pipeline</label><div class=\"sk-toggleable__content\"><pre>Pipeline(steps=[(&#x27;preprocessor&#x27;,\n",
       "                 ColumnTransformer(transformers=[(&#x27;cat&#x27;,\n",
       "                                                  Pipeline(steps=[(&#x27;OneHot&#x27;,\n",
       "                                                                   OneHotEncoder(handle_unknown=&#x27;ignore&#x27;))]),\n",
       "                                                  [&#x27;Car_Name&#x27;, &#x27;Fuel_Type&#x27;,\n",
       "                                                   &#x27;Selling_type&#x27;,\n",
       "                                                   &#x27;Transmission&#x27;]),\n",
       "                                                 (&#x27;num&#x27;,\n",
       "                                                  Pipeline(steps=[(&#x27;scaler&#x27;,\n",
       "                                                                   StandardScaler())]),\n",
       "                                                  [&#x27;Year&#x27;, &#x27;Present_Price&#x27;,\n",
       "                                                   &#x27;Driven_kms&#x27;, &#x27;Owner&#x27;])])),\n",
       "                (&#x27;regressor&#x27;, LinearRegression())])</pre></div></div></div><div class=\"sk-serial\"><div class=\"sk-item sk-dashed-wrapped\"><div class=\"sk-label-container\"><div class=\"sk-label sk-toggleable\"><input class=\"sk-toggleable__control sk-hidden--visually\" id=\"sk-estimator-id-16\" type=\"checkbox\" ><label for=\"sk-estimator-id-16\" class=\"sk-toggleable__label sk-toggleable__label-arrow\">preprocessor: ColumnTransformer</label><div class=\"sk-toggleable__content\"><pre>ColumnTransformer(transformers=[(&#x27;cat&#x27;,\n",
       "                                 Pipeline(steps=[(&#x27;OneHot&#x27;,\n",
       "                                                  OneHotEncoder(handle_unknown=&#x27;ignore&#x27;))]),\n",
       "                                 [&#x27;Car_Name&#x27;, &#x27;Fuel_Type&#x27;, &#x27;Selling_type&#x27;,\n",
       "                                  &#x27;Transmission&#x27;]),\n",
       "                                (&#x27;num&#x27;,\n",
       "                                 Pipeline(steps=[(&#x27;scaler&#x27;, StandardScaler())]),\n",
       "                                 [&#x27;Year&#x27;, &#x27;Present_Price&#x27;, &#x27;Driven_kms&#x27;,\n",
       "                                  &#x27;Owner&#x27;])])</pre></div></div></div><div class=\"sk-parallel\"><div class=\"sk-parallel-item\"><div class=\"sk-item\"><div class=\"sk-label-container\"><div class=\"sk-label sk-toggleable\"><input class=\"sk-toggleable__control sk-hidden--visually\" id=\"sk-estimator-id-17\" type=\"checkbox\" ><label for=\"sk-estimator-id-17\" class=\"sk-toggleable__label sk-toggleable__label-arrow\">cat</label><div class=\"sk-toggleable__content\"><pre>[&#x27;Car_Name&#x27;, &#x27;Fuel_Type&#x27;, &#x27;Selling_type&#x27;, &#x27;Transmission&#x27;]</pre></div></div></div><div class=\"sk-serial\"><div class=\"sk-item\"><div class=\"sk-serial\"><div class=\"sk-item\"><div class=\"sk-estimator sk-toggleable\"><input class=\"sk-toggleable__control sk-hidden--visually\" id=\"sk-estimator-id-18\" type=\"checkbox\" ><label for=\"sk-estimator-id-18\" class=\"sk-toggleable__label sk-toggleable__label-arrow\">OneHotEncoder</label><div class=\"sk-toggleable__content\"><pre>OneHotEncoder(handle_unknown=&#x27;ignore&#x27;)</pre></div></div></div></div></div></div></div></div><div class=\"sk-parallel-item\"><div class=\"sk-item\"><div class=\"sk-label-container\"><div class=\"sk-label sk-toggleable\"><input class=\"sk-toggleable__control sk-hidden--visually\" id=\"sk-estimator-id-19\" type=\"checkbox\" ><label for=\"sk-estimator-id-19\" class=\"sk-toggleable__label sk-toggleable__label-arrow\">num</label><div class=\"sk-toggleable__content\"><pre>[&#x27;Year&#x27;, &#x27;Present_Price&#x27;, &#x27;Driven_kms&#x27;, &#x27;Owner&#x27;]</pre></div></div></div><div class=\"sk-serial\"><div class=\"sk-item\"><div class=\"sk-serial\"><div class=\"sk-item\"><div class=\"sk-estimator sk-toggleable\"><input class=\"sk-toggleable__control sk-hidden--visually\" id=\"sk-estimator-id-20\" type=\"checkbox\" ><label for=\"sk-estimator-id-20\" class=\"sk-toggleable__label sk-toggleable__label-arrow\">StandardScaler</label><div class=\"sk-toggleable__content\"><pre>StandardScaler()</pre></div></div></div></div></div></div></div></div></div></div><div class=\"sk-item\"><div class=\"sk-estimator sk-toggleable\"><input class=\"sk-toggleable__control sk-hidden--visually\" id=\"sk-estimator-id-21\" type=\"checkbox\" ><label for=\"sk-estimator-id-21\" class=\"sk-toggleable__label sk-toggleable__label-arrow\">LinearRegression</label><div class=\"sk-toggleable__content\"><pre>LinearRegression()</pre></div></div></div></div></div></div></div>"
      ],
      "text/plain": [
       "Pipeline(steps=[('preprocessor',\n",
       "                 ColumnTransformer(transformers=[('cat',\n",
       "                                                  Pipeline(steps=[('OneHot',\n",
       "                                                                   OneHotEncoder(handle_unknown='ignore'))]),\n",
       "                                                  ['Car_Name', 'Fuel_Type',\n",
       "                                                   'Selling_type',\n",
       "                                                   'Transmission']),\n",
       "                                                 ('num',\n",
       "                                                  Pipeline(steps=[('scaler',\n",
       "                                                                   StandardScaler())]),\n",
       "                                                  ['Year', 'Present_Price',\n",
       "                                                   'Driven_kms', 'Owner'])])),\n",
       "                ('regressor', LinearRegression())])"
      ]
     },
     "execution_count": 131,
     "metadata": {},
     "output_type": "execute_result"
    }
   ],
   "source": [
    "model.fit(x_train,y_train)"
   ]
  },
  {
   "cell_type": "markdown",
   "id": "7d3b3d58",
   "metadata": {},
   "source": [
    "##### Making predictions"
   ]
  },
  {
   "cell_type": "code",
   "execution_count": 132,
   "id": "964a3529",
   "metadata": {},
   "outputs": [],
   "source": [
    "ypredict=model.predict(x_test)"
   ]
  },
  {
   "cell_type": "code",
   "execution_count": 133,
   "id": "eac189b8",
   "metadata": {},
   "outputs": [
    {
     "data": {
      "text/plain": [
       "array([ 1.84334514e+00,  1.01323268e+01,  5.85266863e+00, -5.61940436e-01,\n",
       "        8.37846933e+00,  6.75645558e+00,  1.64563386e+00,  1.53557971e+00,\n",
       "        7.33834397e-01,  7.49112089e+00,  9.89755600e+00,  6.78343851e-01,\n",
       "        8.56331293e+00,  3.11348677e+00,  6.82853268e+00,  9.97894011e-01,\n",
       "        1.22987563e+00,  1.10712084e+01,  2.31141030e+00,  3.37254610e+00,\n",
       "        9.42295921e-01,  8.67309669e+00,  7.03733288e+00,  2.88832735e+00,\n",
       "        8.72659377e-01,  3.76450341e+00,  4.99733847e+00,  2.21371525e+00,\n",
       "        2.95533712e+00,  2.18361344e+00,  1.73359671e-01,  8.84668521e+00,\n",
       "       -1.51433298e+00,  1.63081512e+00,  8.73853516e+00,  4.04906533e+00,\n",
       "        4.69702475e+00,  6.10151887e+00,  2.67307112e+00,  6.90780024e+00,\n",
       "        5.66228595e+00,  1.44026057e-01,  4.38094002e+00, -6.80460349e-01,\n",
       "        6.83619534e+00, -4.76489578e-02,  8.21715131e+00,  8.65462798e+00,\n",
       "        4.07717102e+00,  4.40450321e+00,  6.33926705e+00,  3.25066855e+00,\n",
       "        2.38318631e+01,  2.09936834e+01,  6.79507716e+00,  9.79328162e+00,\n",
       "        5.19034002e+00,  9.34431803e+00,  1.57477842e+00,  6.76753378e+00,\n",
       "        3.10747951e+00,  6.88902074e-01,  8.65613603e-01, -2.31983264e+00,\n",
       "        5.03264365e+00,  2.58166884e+00,  2.37548339e+01,  2.09843211e+01,\n",
       "        5.92145323e+00, -2.38835643e+00,  3.23893047e+00,  3.98791555e+00,\n",
       "        5.32905963e+00,  4.47555257e+00,  1.58651379e+00,  1.35350496e+00,\n",
       "        1.91810609e+00,  1.21950849e+01,  3.84352491e-01,  9.33622971e+00,\n",
       "        5.10104309e+00,  3.57601863e+00,  1.66504781e+00,  1.84739255e+01,\n",
       "        2.40536574e+00,  2.83153648e+00,  7.23077740e-01,  3.49545337e+00,\n",
       "        1.70287332e-01,  1.78855223e+01,  2.03084877e+00,  1.24430634e-01,\n",
       "        7.69364283e+00,  8.73853516e+00,  4.52288338e+00, -2.12303697e+01,\n",
       "        2.97223583e+00,  2.79156199e+00,  4.32634578e+00, -6.40649446e+00,\n",
       "        8.46127974e+00, -9.91489204e-01,  4.79908810e+00,  3.17033484e+00,\n",
       "        1.20179709e+01,  3.72977740e+00,  1.19314581e+01,  7.72442316e-01,\n",
       "        8.47653929e+00,  1.02500142e+00,  5.74929744e+00,  1.10504454e+00,\n",
       "        4.28403130e+00,  4.04135225e-01,  2.00606210e+01,  3.42949826e+00,\n",
       "       -2.39187308e+00,  5.26666580e+01,  1.25060183e+01, -1.01806012e+00,\n",
       "        4.79625463e+00])"
      ]
     },
     "execution_count": 133,
     "metadata": {},
     "output_type": "execute_result"
    }
   ],
   "source": [
    "ypredict"
   ]
  },
  {
   "cell_type": "markdown",
   "id": "dcc9d09e",
   "metadata": {},
   "source": [
    "##### Analysing the prediction made by model"
   ]
  },
  {
   "cell_type": "code",
   "execution_count": 134,
   "id": "18537029",
   "metadata": {},
   "outputs": [
    {
     "data": {
      "text/plain": [
       "[<matplotlib.lines.Line2D at 0x1e7abbf9450>]"
      ]
     },
     "execution_count": 134,
     "metadata": {},
     "output_type": "execute_result"
    },
    {
     "data": {
      "image/png": "[encoded data removed]",
      "text/plain": [
       "<Figure size 640x480 with 1 Axes>"
      ]
     },
     "metadata": {},
     "output_type": "display_data"
    }
   ],
   "source": [
    "plt.scatter(ypredict,y_test,c='green',alpha=0.3)\n",
    "plt.plot(y_test,y_test,c='pink')"
   ]
  },
  {
   "cell_type": "markdown",
   "id": "cd725c1c",
   "metadata": {},
   "source": [
    "#### Checking accuracy of predictions"
   ]
  },
  {
   "cell_type": "code",
   "execution_count": 135,
   "id": "d5c1eb4c",
   "metadata": {},
   "outputs": [
    {
     "data": {
      "text/plain": [
       "9.300566583057321"
      ]
     },
     "execution_count": 135,
     "metadata": {},
     "output_type": "execute_result"
    }
   ],
   "source": [
    "score=mean_squared_error(y_test,ypredict)\n",
    "score"
   ]
  },
  {
   "cell_type": "code",
   "execution_count": 136,
   "id": "a218b8b8",
   "metadata": {},
   "outputs": [
    {
     "data": {
      "text/plain": [
       "0.730146677184078"
      ]
     },
     "execution_count": 136,
     "metadata": {},
     "output_type": "execute_result"
    }
   ],
   "source": [
    "result=r2_score(y_test,ypredict)\n",
    "result"
   ]
  },
  {
   "cell_type": "markdown",
   "id": "2ce2a11a",
   "metadata": {},
   "source": [
    "# Making Predictions"
   ]
  },
  {
   "cell_type": "code",
   "execution_count": 137,
   "id": "b20f997e",
   "metadata": {},
   "outputs": [
    {
     "name": "stdout",
     "output_type": "stream",
     "text": [
      "Enter car name : land cruiser\n",
      "Enter year : 2012\n",
      "Enter present price : 3420000\n",
      "Enter driven kms : 2000\n",
      "Enter fuel type : Diesel\n",
      "Enter selling type : Dealer\n",
      "Enter trassmission : Manual\n",
      "Enter owner : 2\n",
      "Price of car is :  2182568.67\n"
     ]
    }
   ],
   "source": [
    "car_name=str(input('Enter car name : '))\n",
    "year=int(input('Enter year : '))\n",
    "pp=float(input(\"Enter present price : \"))\n",
    "dk=int(input('Enter driven kms : '))\n",
    "ft=str(input('Enter fuel type : '))\n",
    "st=str(input('Enter selling type : '))\n",
    "trans=str(input('Enter trassmission : '))\n",
    "own=int(input('Enter owner : '))\n",
    "i_data=pd.DataFrame([[car_name,year,pp/100000,dk,ft,st,trans,own]],columns=['Car_Name','Year','Present_Price','Driven_kms','Fuel_Type','Selling_type','Transmission','Owner'])\n",
    "price=model.predict(i_data)\n",
    "print(\"Price of car is : \",(price[0]*100000).round(2))"
   ]
  },
  {
   "cell_type": "code",
   "execution_count": null,
   "id": "d046eb98",
   "metadata": {},
   "outputs": [],
   "source": []
  }
 ],
 "metadata": {
  "kernelspec": {
   "display_name": "Python 3 (ipykernel)",
   "language": "python",
   "name": "python3"
  },
  "language_info": {
   "codemirror_mode": {
    "name": "ipython",
    "version": 3
   },
   "file_extension": ".py",
   "mimetype": "text/x-python",
   "name": "python",
   "nbconvert_exporter": "python",
   "pygments_lexer": "ipython3",
   "version": "3.11.5"
  }
 },
 "nbformat": 4,
 "nbformat_minor": 5
}
